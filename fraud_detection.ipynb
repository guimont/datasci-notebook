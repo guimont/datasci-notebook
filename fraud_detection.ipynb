{
  "nbformat": 4,
  "nbformat_minor": 0,
  "metadata": {
    "kernelspec": {
      "display_name": "Python 3",
      "language": "python",
      "name": "python3"
    },
    "language_info": {
      "codemirror_mode": {
        "name": "ipython",
        "version": 3
      },
      "file_extension": ".py",
      "mimetype": "text/x-python",
      "name": "python",
      "nbconvert_exporter": "python",
      "pygments_lexer": "ipython3",
      "version": "3.7.3"
    },
    "colab": {
      "name": "fraud_detection.ipynb",
      "provenance": []
    }
  },
  "cells": [
    {
      "cell_type": "code",
      "metadata": {
        "id": "MjQJGlzxThe8",
        "colab_type": "code",
        "colab": {}
      },
      "source": [
        "import pandas as pd\n",
        "import numpy as np"
      ],
      "execution_count": 0,
      "outputs": []
    },
    {
      "cell_type": "code",
      "metadata": {
        "id": "_pnKy426ThfF",
        "colab_type": "code",
        "colab": {}
      },
      "source": [
        "fraud_full = pd.read_csv(\"Fraud_Data.csv\")"
      ],
      "execution_count": 0,
      "outputs": []
    },
    {
      "cell_type": "code",
      "metadata": {
        "id": "Pnnc_IGZThfX",
        "colab_type": "code",
        "outputId": "7889357e-8615-4b21-a187-68e684668c8f",
        "colab": {}
      },
      "source": [
        "fraud_full.head()"
      ],
      "execution_count": 0,
      "outputs": [
        {
          "output_type": "execute_result",
          "data": {
            "text/html": [
              "<div>\n",
              "<style scoped>\n",
              "    .dataframe tbody tr th:only-of-type {\n",
              "        vertical-align: middle;\n",
              "    }\n",
              "\n",
              "    .dataframe tbody tr th {\n",
              "        vertical-align: top;\n",
              "    }\n",
              "\n",
              "    .dataframe thead th {\n",
              "        text-align: right;\n",
              "    }\n",
              "</style>\n",
              "<table border=\"1\" class=\"dataframe\">\n",
              "  <thead>\n",
              "    <tr style=\"text-align: right;\">\n",
              "      <th></th>\n",
              "      <th>user_id</th>\n",
              "      <th>signup_time</th>\n",
              "      <th>purchase_time</th>\n",
              "      <th>purchase_value</th>\n",
              "      <th>device_id</th>\n",
              "      <th>source</th>\n",
              "      <th>browser</th>\n",
              "      <th>sex</th>\n",
              "      <th>age</th>\n",
              "      <th>ip_address</th>\n",
              "      <th>class</th>\n",
              "    </tr>\n",
              "  </thead>\n",
              "  <tbody>\n",
              "    <tr>\n",
              "      <th>0</th>\n",
              "      <td>22058</td>\n",
              "      <td>2015-02-24 22:55:49</td>\n",
              "      <td>2015-04-18 02:47:11</td>\n",
              "      <td>34</td>\n",
              "      <td>QVPSPJUOCKZAR</td>\n",
              "      <td>SEO</td>\n",
              "      <td>Chrome</td>\n",
              "      <td>M</td>\n",
              "      <td>39</td>\n",
              "      <td>7.327584e+08</td>\n",
              "      <td>0</td>\n",
              "    </tr>\n",
              "    <tr>\n",
              "      <th>1</th>\n",
              "      <td>333320</td>\n",
              "      <td>2015-06-07 20:39:50</td>\n",
              "      <td>2015-06-08 01:38:54</td>\n",
              "      <td>16</td>\n",
              "      <td>EOGFQPIZPYXFZ</td>\n",
              "      <td>Ads</td>\n",
              "      <td>Chrome</td>\n",
              "      <td>F</td>\n",
              "      <td>53</td>\n",
              "      <td>3.503114e+08</td>\n",
              "      <td>0</td>\n",
              "    </tr>\n",
              "    <tr>\n",
              "      <th>2</th>\n",
              "      <td>1359</td>\n",
              "      <td>2015-01-01 18:52:44</td>\n",
              "      <td>2015-01-01 18:52:45</td>\n",
              "      <td>15</td>\n",
              "      <td>YSSKYOSJHPPLJ</td>\n",
              "      <td>SEO</td>\n",
              "      <td>Opera</td>\n",
              "      <td>M</td>\n",
              "      <td>53</td>\n",
              "      <td>2.621474e+09</td>\n",
              "      <td>1</td>\n",
              "    </tr>\n",
              "    <tr>\n",
              "      <th>3</th>\n",
              "      <td>150084</td>\n",
              "      <td>2015-04-28 21:13:25</td>\n",
              "      <td>2015-05-04 13:54:50</td>\n",
              "      <td>44</td>\n",
              "      <td>ATGTXKYKUDUQN</td>\n",
              "      <td>SEO</td>\n",
              "      <td>Safari</td>\n",
              "      <td>M</td>\n",
              "      <td>41</td>\n",
              "      <td>3.840542e+09</td>\n",
              "      <td>0</td>\n",
              "    </tr>\n",
              "    <tr>\n",
              "      <th>4</th>\n",
              "      <td>221365</td>\n",
              "      <td>2015-07-21 07:09:52</td>\n",
              "      <td>2015-09-09 18:40:53</td>\n",
              "      <td>39</td>\n",
              "      <td>NAUITBZFJKHWW</td>\n",
              "      <td>Ads</td>\n",
              "      <td>Safari</td>\n",
              "      <td>M</td>\n",
              "      <td>45</td>\n",
              "      <td>4.155831e+08</td>\n",
              "      <td>0</td>\n",
              "    </tr>\n",
              "  </tbody>\n",
              "</table>\n",
              "</div>"
            ],
            "text/plain": [
              "   user_id          signup_time        purchase_time  purchase_value  \\\n",
              "0    22058  2015-02-24 22:55:49  2015-04-18 02:47:11              34   \n",
              "1   333320  2015-06-07 20:39:50  2015-06-08 01:38:54              16   \n",
              "2     1359  2015-01-01 18:52:44  2015-01-01 18:52:45              15   \n",
              "3   150084  2015-04-28 21:13:25  2015-05-04 13:54:50              44   \n",
              "4   221365  2015-07-21 07:09:52  2015-09-09 18:40:53              39   \n",
              "\n",
              "       device_id source browser sex  age    ip_address  class  \n",
              "0  QVPSPJUOCKZAR    SEO  Chrome   M   39  7.327584e+08      0  \n",
              "1  EOGFQPIZPYXFZ    Ads  Chrome   F   53  3.503114e+08      0  \n",
              "2  YSSKYOSJHPPLJ    SEO   Opera   M   53  2.621474e+09      1  \n",
              "3  ATGTXKYKUDUQN    SEO  Safari   M   41  3.840542e+09      0  \n",
              "4  NAUITBZFJKHWW    Ads  Safari   M   45  4.155831e+08      0  "
            ]
          },
          "metadata": {
            "tags": []
          },
          "execution_count": 3
        }
      ]
    },
    {
      "cell_type": "code",
      "metadata": {
        "id": "rWnlLo8jThfm",
        "colab_type": "code",
        "colab": {}
      },
      "source": [
        ""
      ],
      "execution_count": 0,
      "outputs": []
    },
    {
      "cell_type": "code",
      "metadata": {
        "id": "nHSXQa6mThgV",
        "colab_type": "code",
        "colab": {}
      },
      "source": [
        "ipadr= pd.read_csv(\"IpAddress_to_Country.csv\")"
      ],
      "execution_count": 0,
      "outputs": []
    },
    {
      "cell_type": "code",
      "metadata": {
        "id": "pwxOX9OrThgi",
        "colab_type": "code",
        "colab": {}
      },
      "source": [
        "fraud.shape"
      ],
      "execution_count": 0,
      "outputs": []
    },
    {
      "cell_type": "code",
      "metadata": {
        "id": "QW9Fx7vhThgl",
        "colab_type": "code",
        "colab": {}
      },
      "source": [
        "list  = ipadr.values.tolist()\n",
        "incr=0\n",
        "def find_ip(ip):\n",
        "    global incr\n",
        "    incr +=1\n",
        "    if incr%1000 == 0:\n",
        "        print(\"find ip: \",incr)    \n",
        "    for item in list:\n",
        "        if (ip>item[0] and ip<item[1]):\n",
        "            return item[2]\n",
        "    return 'unknown'"
      ],
      "execution_count": 0,
      "outputs": []
    },
    {
      "cell_type": "code",
      "metadata": {
        "id": "IYG8SzUBThgn",
        "colab_type": "code",
        "colab": {}
      },
      "source": [
        "#fraud['country'] = fraud.ip_address.apply(lambda x: find_ip(x))"
      ],
      "execution_count": 0,
      "outputs": []
    },
    {
      "cell_type": "code",
      "metadata": {
        "id": "U24wVEqrThgp",
        "colab_type": "code",
        "colab": {}
      },
      "source": [
        "fraud = pd.read_csv(\"Fraud_Data_country.csv\")"
      ],
      "execution_count": 0,
      "outputs": []
    },
    {
      "cell_type": "code",
      "metadata": {
        "id": "bMr5b-QjThgr",
        "colab_type": "code",
        "colab": {}
      },
      "source": [
        ""
      ],
      "execution_count": 0,
      "outputs": []
    },
    {
      "cell_type": "code",
      "metadata": {
        "id": "37tnrjxLThgt",
        "colab_type": "code",
        "outputId": "aa5d8f91-4066-4c04-b05c-98085c9360da",
        "colab": {}
      },
      "source": [
        "fraud['country'].describe()"
      ],
      "execution_count": 0,
      "outputs": [
        {
          "output_type": "execute_result",
          "data": {
            "text/plain": [
              "count            151112\n",
              "unique              182\n",
              "top       United States\n",
              "freq              58049\n",
              "Name: country, dtype: object"
            ]
          },
          "metadata": {
            "tags": []
          },
          "execution_count": 9
        }
      ]
    },
    {
      "cell_type": "code",
      "metadata": {
        "id": "z6qGYFYvThgv",
        "colab_type": "code",
        "colab": {}
      },
      "source": [
        ""
      ],
      "execution_count": 0,
      "outputs": []
    },
    {
      "cell_type": "code",
      "metadata": {
        "id": "vqa6tgHmThgx",
        "colab_type": "code",
        "outputId": "1567ff6e-5f22-4b50-ebed-52e8172e593a",
        "colab": {}
      },
      "source": [
        "fraud.head()"
      ],
      "execution_count": 0,
      "outputs": [
        {
          "output_type": "execute_result",
          "data": {
            "text/html": [
              "<div>\n",
              "<style scoped>\n",
              "    .dataframe tbody tr th:only-of-type {\n",
              "        vertical-align: middle;\n",
              "    }\n",
              "\n",
              "    .dataframe tbody tr th {\n",
              "        vertical-align: top;\n",
              "    }\n",
              "\n",
              "    .dataframe thead th {\n",
              "        text-align: right;\n",
              "    }\n",
              "</style>\n",
              "<table border=\"1\" class=\"dataframe\">\n",
              "  <thead>\n",
              "    <tr style=\"text-align: right;\">\n",
              "      <th></th>\n",
              "      <th>Unnamed: 0</th>\n",
              "      <th>user_id</th>\n",
              "      <th>signup_time</th>\n",
              "      <th>purchase_time</th>\n",
              "      <th>purchase_value</th>\n",
              "      <th>device_id</th>\n",
              "      <th>source</th>\n",
              "      <th>browser</th>\n",
              "      <th>sex</th>\n",
              "      <th>age</th>\n",
              "      <th>ip_address</th>\n",
              "      <th>class</th>\n",
              "      <th>country</th>\n",
              "    </tr>\n",
              "  </thead>\n",
              "  <tbody>\n",
              "    <tr>\n",
              "      <th>0</th>\n",
              "      <td>0</td>\n",
              "      <td>22058</td>\n",
              "      <td>2015-02-24 22:55:49</td>\n",
              "      <td>2015-04-18 02:47:11</td>\n",
              "      <td>34</td>\n",
              "      <td>QVPSPJUOCKZAR</td>\n",
              "      <td>SEO</td>\n",
              "      <td>Chrome</td>\n",
              "      <td>M</td>\n",
              "      <td>39</td>\n",
              "      <td>7.327584e+08</td>\n",
              "      <td>0</td>\n",
              "      <td>Japan</td>\n",
              "    </tr>\n",
              "    <tr>\n",
              "      <th>1</th>\n",
              "      <td>1</td>\n",
              "      <td>333320</td>\n",
              "      <td>2015-06-07 20:39:50</td>\n",
              "      <td>2015-06-08 01:38:54</td>\n",
              "      <td>16</td>\n",
              "      <td>EOGFQPIZPYXFZ</td>\n",
              "      <td>Ads</td>\n",
              "      <td>Chrome</td>\n",
              "      <td>F</td>\n",
              "      <td>53</td>\n",
              "      <td>3.503114e+08</td>\n",
              "      <td>0</td>\n",
              "      <td>United States</td>\n",
              "    </tr>\n",
              "    <tr>\n",
              "      <th>2</th>\n",
              "      <td>2</td>\n",
              "      <td>1359</td>\n",
              "      <td>2015-01-01 18:52:44</td>\n",
              "      <td>2015-01-01 18:52:45</td>\n",
              "      <td>15</td>\n",
              "      <td>YSSKYOSJHPPLJ</td>\n",
              "      <td>SEO</td>\n",
              "      <td>Opera</td>\n",
              "      <td>M</td>\n",
              "      <td>53</td>\n",
              "      <td>2.621474e+09</td>\n",
              "      <td>1</td>\n",
              "      <td>United States</td>\n",
              "    </tr>\n",
              "    <tr>\n",
              "      <th>3</th>\n",
              "      <td>3</td>\n",
              "      <td>150084</td>\n",
              "      <td>2015-04-28 21:13:25</td>\n",
              "      <td>2015-05-04 13:54:50</td>\n",
              "      <td>44</td>\n",
              "      <td>ATGTXKYKUDUQN</td>\n",
              "      <td>SEO</td>\n",
              "      <td>Safari</td>\n",
              "      <td>M</td>\n",
              "      <td>41</td>\n",
              "      <td>3.840542e+09</td>\n",
              "      <td>0</td>\n",
              "      <td>unknown</td>\n",
              "    </tr>\n",
              "    <tr>\n",
              "      <th>4</th>\n",
              "      <td>4</td>\n",
              "      <td>221365</td>\n",
              "      <td>2015-07-21 07:09:52</td>\n",
              "      <td>2015-09-09 18:40:53</td>\n",
              "      <td>39</td>\n",
              "      <td>NAUITBZFJKHWW</td>\n",
              "      <td>Ads</td>\n",
              "      <td>Safari</td>\n",
              "      <td>M</td>\n",
              "      <td>45</td>\n",
              "      <td>4.155831e+08</td>\n",
              "      <td>0</td>\n",
              "      <td>United States</td>\n",
              "    </tr>\n",
              "  </tbody>\n",
              "</table>\n",
              "</div>"
            ],
            "text/plain": [
              "   Unnamed: 0  user_id          signup_time        purchase_time  \\\n",
              "0           0    22058  2015-02-24 22:55:49  2015-04-18 02:47:11   \n",
              "1           1   333320  2015-06-07 20:39:50  2015-06-08 01:38:54   \n",
              "2           2     1359  2015-01-01 18:52:44  2015-01-01 18:52:45   \n",
              "3           3   150084  2015-04-28 21:13:25  2015-05-04 13:54:50   \n",
              "4           4   221365  2015-07-21 07:09:52  2015-09-09 18:40:53   \n",
              "\n",
              "   purchase_value      device_id source browser sex  age    ip_address  class  \\\n",
              "0              34  QVPSPJUOCKZAR    SEO  Chrome   M   39  7.327584e+08      0   \n",
              "1              16  EOGFQPIZPYXFZ    Ads  Chrome   F   53  3.503114e+08      0   \n",
              "2              15  YSSKYOSJHPPLJ    SEO   Opera   M   53  2.621474e+09      1   \n",
              "3              44  ATGTXKYKUDUQN    SEO  Safari   M   41  3.840542e+09      0   \n",
              "4              39  NAUITBZFJKHWW    Ads  Safari   M   45  4.155831e+08      0   \n",
              "\n",
              "         country  \n",
              "0          Japan  \n",
              "1  United States  \n",
              "2  United States  \n",
              "3        unknown  \n",
              "4  United States  "
            ]
          },
          "metadata": {
            "tags": []
          },
          "execution_count": 10
        }
      ]
    },
    {
      "cell_type": "code",
      "metadata": {
        "id": "f0dc8rKqThgz",
        "colab_type": "code",
        "outputId": "99b82064-b0bd-4bd1-9d13-3b080672a43e",
        "colab": {}
      },
      "source": [
        "(fraud['country'] == 'unknown').sum()"
      ],
      "execution_count": 0,
      "outputs": [
        {
          "output_type": "execute_result",
          "data": {
            "text/plain": [
              "21966"
            ]
          },
          "metadata": {
            "tags": []
          },
          "execution_count": 11
        }
      ]
    },
    {
      "cell_type": "code",
      "metadata": {
        "id": "eWxhh47FThg2",
        "colab_type": "code",
        "colab": {}
      },
      "source": [
        "#fraud.to_csv(\"semaine 4\\\\fraud_data_country.csv\")"
      ],
      "execution_count": 0,
      "outputs": []
    },
    {
      "cell_type": "code",
      "metadata": {
        "id": "0abkWe85Thg3",
        "colab_type": "code",
        "colab": {}
      },
      "source": [
        "fraud = fraud.drop([\"Unnamed: 0\",\"ip_address\"],axis = 1)"
      ],
      "execution_count": 0,
      "outputs": []
    },
    {
      "cell_type": "code",
      "metadata": {
        "id": "52waFcgjThg6",
        "colab_type": "code",
        "colab": {}
      },
      "source": [
        "#fraud = fraud.drop(\"device_id\",axis = 1)"
      ],
      "execution_count": 0,
      "outputs": []
    },
    {
      "cell_type": "code",
      "metadata": {
        "id": "DpcDo7wNThg8",
        "colab_type": "code",
        "outputId": "e41dbeb4-fc07-448c-d3fc-90cee75ee7fa",
        "colab": {}
      },
      "source": [
        "fraud.describe()"
      ],
      "execution_count": 0,
      "outputs": [
        {
          "output_type": "execute_result",
          "data": {
            "text/html": [
              "<div>\n",
              "<style scoped>\n",
              "    .dataframe tbody tr th:only-of-type {\n",
              "        vertical-align: middle;\n",
              "    }\n",
              "\n",
              "    .dataframe tbody tr th {\n",
              "        vertical-align: top;\n",
              "    }\n",
              "\n",
              "    .dataframe thead th {\n",
              "        text-align: right;\n",
              "    }\n",
              "</style>\n",
              "<table border=\"1\" class=\"dataframe\">\n",
              "  <thead>\n",
              "    <tr style=\"text-align: right;\">\n",
              "      <th></th>\n",
              "      <th>user_id</th>\n",
              "      <th>purchase_value</th>\n",
              "      <th>age</th>\n",
              "      <th>class</th>\n",
              "    </tr>\n",
              "  </thead>\n",
              "  <tbody>\n",
              "    <tr>\n",
              "      <th>count</th>\n",
              "      <td>151112.000000</td>\n",
              "      <td>151112.000000</td>\n",
              "      <td>151112.000000</td>\n",
              "      <td>151112.000000</td>\n",
              "    </tr>\n",
              "    <tr>\n",
              "      <th>mean</th>\n",
              "      <td>200171.040970</td>\n",
              "      <td>36.935372</td>\n",
              "      <td>33.140704</td>\n",
              "      <td>0.093646</td>\n",
              "    </tr>\n",
              "    <tr>\n",
              "      <th>std</th>\n",
              "      <td>115369.285024</td>\n",
              "      <td>18.322762</td>\n",
              "      <td>8.617733</td>\n",
              "      <td>0.291336</td>\n",
              "    </tr>\n",
              "    <tr>\n",
              "      <th>min</th>\n",
              "      <td>2.000000</td>\n",
              "      <td>9.000000</td>\n",
              "      <td>18.000000</td>\n",
              "      <td>0.000000</td>\n",
              "    </tr>\n",
              "    <tr>\n",
              "      <th>25%</th>\n",
              "      <td>100642.500000</td>\n",
              "      <td>22.000000</td>\n",
              "      <td>27.000000</td>\n",
              "      <td>0.000000</td>\n",
              "    </tr>\n",
              "    <tr>\n",
              "      <th>50%</th>\n",
              "      <td>199958.000000</td>\n",
              "      <td>35.000000</td>\n",
              "      <td>33.000000</td>\n",
              "      <td>0.000000</td>\n",
              "    </tr>\n",
              "    <tr>\n",
              "      <th>75%</th>\n",
              "      <td>300054.000000</td>\n",
              "      <td>49.000000</td>\n",
              "      <td>39.000000</td>\n",
              "      <td>0.000000</td>\n",
              "    </tr>\n",
              "    <tr>\n",
              "      <th>max</th>\n",
              "      <td>400000.000000</td>\n",
              "      <td>154.000000</td>\n",
              "      <td>76.000000</td>\n",
              "      <td>1.000000</td>\n",
              "    </tr>\n",
              "  </tbody>\n",
              "</table>\n",
              "</div>"
            ],
            "text/plain": [
              "             user_id  purchase_value            age          class\n",
              "count  151112.000000   151112.000000  151112.000000  151112.000000\n",
              "mean   200171.040970       36.935372      33.140704       0.093646\n",
              "std    115369.285024       18.322762       8.617733       0.291336\n",
              "min         2.000000        9.000000      18.000000       0.000000\n",
              "25%    100642.500000       22.000000      27.000000       0.000000\n",
              "50%    199958.000000       35.000000      33.000000       0.000000\n",
              "75%    300054.000000       49.000000      39.000000       0.000000\n",
              "max    400000.000000      154.000000      76.000000       1.000000"
            ]
          },
          "metadata": {
            "tags": []
          },
          "execution_count": 18
        }
      ]
    },
    {
      "cell_type": "code",
      "metadata": {
        "id": "oSUJLfpTThg_",
        "colab_type": "code",
        "colab": {}
      },
      "source": [
        "#fraud = fraud.drop(\"device_by_purchase\",axis = 1)"
      ],
      "execution_count": 0,
      "outputs": []
    },
    {
      "cell_type": "code",
      "metadata": {
        "id": "bMrWQf0EThhA",
        "colab_type": "code",
        "outputId": "0a664256-1d00-413f-f572-068500d4a332",
        "colab": {}
      },
      "source": [
        "import seaborn as sns\n",
        "sns.distplot(fraud.age)\n"
      ],
      "execution_count": 0,
      "outputs": [
        {
          "output_type": "execute_result",
          "data": {
            "text/plain": [
              "<matplotlib.axes._subplots.AxesSubplot at 0x1e71f0f01d0>"
            ]
          },
          "metadata": {
            "tags": []
          },
          "execution_count": 20
        },
        {
          "output_type": "display_data",
          "data": {
            "image/png": "[encoded data removed]",
            "text/plain": [
              "<Figure size 432x288 with 1 Axes>"
            ]
          },
          "metadata": {
            "tags": [],
            "needs_background": "light"
          }
        }
      ]
    },
    {
      "cell_type": "code",
      "metadata": {
        "id": "uT-8D6vkThhC",
        "colab_type": "code",
        "outputId": "49c1c9bb-9c86-4499-f599-c1d997946745",
        "colab": {}
      },
      "source": [
        "\"\"\"\"fraud_data['country'] = (ip_address.apply(lambda x: \n",
        "                                          IP_to_country.query('lower_bound_ip_address <= @x <= upper_bound_ip_address').index.values)\n",
        "                         .apply(lambda x: x[0] if len(x) else -1)).apply(lambda x: IP_to_country.country[x] if x != -1 else x)\"\"\""
      ],
      "execution_count": 0,
      "outputs": [
        {
          "output_type": "execute_result",
          "data": {
            "text/plain": [
              "'\"fraud_data[\\'country\\'] = (ip_address.apply(lambda x: \\n                                          IP_to_country.query(\\'lower_bound_ip_address <= @x <= upper_bound_ip_address\\').index.values)\\n                         .apply(lambda x: x[0] if len(x) else -1)).apply(lambda x: IP_to_country.country[x] if x != -1 else x)'"
            ]
          },
          "metadata": {
            "tags": []
          },
          "execution_count": 21
        }
      ]
    },
    {
      "cell_type": "code",
      "metadata": {
        "id": "nTB0pjqnThhF",
        "colab_type": "code",
        "outputId": "df26fac7-559e-472f-b8b7-b6e4a408a4b3",
        "colab": {}
      },
      "source": [
        "fraud.groupby(by=\"source\").mean()\n",
        "#sns.barplot(fraud.source,fraud.source.sum())"
      ],
      "execution_count": 0,
      "outputs": [
        {
          "output_type": "execute_result",
          "data": {
            "text/html": [
              "<div>\n",
              "<style scoped>\n",
              "    .dataframe tbody tr th:only-of-type {\n",
              "        vertical-align: middle;\n",
              "    }\n",
              "\n",
              "    .dataframe tbody tr th {\n",
              "        vertical-align: top;\n",
              "    }\n",
              "\n",
              "    .dataframe thead th {\n",
              "        text-align: right;\n",
              "    }\n",
              "</style>\n",
              "<table border=\"1\" class=\"dataframe\">\n",
              "  <thead>\n",
              "    <tr style=\"text-align: right;\">\n",
              "      <th></th>\n",
              "      <th>user_id</th>\n",
              "      <th>purchase_value</th>\n",
              "      <th>age</th>\n",
              "      <th>class</th>\n",
              "    </tr>\n",
              "    <tr>\n",
              "      <th>source</th>\n",
              "      <th></th>\n",
              "      <th></th>\n",
              "      <th></th>\n",
              "      <th></th>\n",
              "    </tr>\n",
              "  </thead>\n",
              "  <tbody>\n",
              "    <tr>\n",
              "      <th>Ads</th>\n",
              "      <td>200168.717723</td>\n",
              "      <td>36.925452</td>\n",
              "      <td>33.133832</td>\n",
              "      <td>0.092066</td>\n",
              "    </tr>\n",
              "    <tr>\n",
              "      <th>Direct</th>\n",
              "      <td>200214.005553</td>\n",
              "      <td>36.940521</td>\n",
              "      <td>33.200810</td>\n",
              "      <td>0.105370</td>\n",
              "    </tr>\n",
              "    <tr>\n",
              "      <th>SEO</th>\n",
              "      <td>200151.635123</td>\n",
              "      <td>36.942572</td>\n",
              "      <td>33.117133</td>\n",
              "      <td>0.089285</td>\n",
              "    </tr>\n",
              "  </tbody>\n",
              "</table>\n",
              "</div>"
            ],
            "text/plain": [
              "              user_id  purchase_value        age     class\n",
              "source                                                    \n",
              "Ads     200168.717723       36.925452  33.133832  0.092066\n",
              "Direct  200214.005553       36.940521  33.200810  0.105370\n",
              "SEO     200151.635123       36.942572  33.117133  0.089285"
            ]
          },
          "metadata": {
            "tags": []
          },
          "execution_count": 22
        }
      ]
    },
    {
      "cell_type": "code",
      "metadata": {
        "id": "_AzCcePsThhH",
        "colab_type": "code",
        "colab": {}
      },
      "source": [
        ""
      ],
      "execution_count": 0,
      "outputs": []
    },
    {
      "cell_type": "markdown",
      "metadata": {
        "id": "z1gzV0NpThhJ",
        "colab_type": "raw"
      },
      "source": [
        "fraud.isnull().sum()"
      ]
    },
    {
      "cell_type": "code",
      "metadata": {
        "id": "dVgdpFgPThhJ",
        "colab_type": "code",
        "colab": {}
      },
      "source": [
        "date1 = fraud.head(1).signup_time"
      ],
      "execution_count": 0,
      "outputs": []
    },
    {
      "cell_type": "code",
      "metadata": {
        "id": "p-TQ0GavThhL",
        "colab_type": "code",
        "colab": {}
      },
      "source": [
        "date2 = fraud.head(1).purchase_time"
      ],
      "execution_count": 0,
      "outputs": []
    },
    {
      "cell_type": "code",
      "metadata": {
        "id": "cXiLiwaXThhN",
        "colab_type": "code",
        "colab": {}
      },
      "source": [
        "from datetime import timedelta"
      ],
      "execution_count": 0,
      "outputs": []
    },
    {
      "cell_type": "code",
      "metadata": {
        "id": "OVs_8MRZThhP",
        "colab_type": "code",
        "colab": {}
      },
      "source": [
        "import datetime"
      ],
      "execution_count": 0,
      "outputs": []
    },
    {
      "cell_type": "code",
      "metadata": {
        "id": "9TSoQHFjThhR",
        "colab_type": "code",
        "outputId": "f49479a9-8316-410e-e805-ee690edc6c46",
        "colab": {}
      },
      "source": [
        "str(date1[0])"
      ],
      "execution_count": 0,
      "outputs": [
        {
          "output_type": "execute_result",
          "data": {
            "text/plain": [
              "'2015-02-24 22:55:49'"
            ]
          },
          "metadata": {
            "tags": []
          },
          "execution_count": 27
        }
      ]
    },
    {
      "cell_type": "code",
      "metadata": {
        "id": "j4JiUc9fThhT",
        "colab_type": "code",
        "colab": {}
      },
      "source": [
        "from dateutil import parser\n",
        "dt = parser.parse(str(date1[0]))\n",
        "dt2 = parser.parse(str(date2[0]))"
      ],
      "execution_count": 0,
      "outputs": []
    },
    {
      "cell_type": "code",
      "metadata": {
        "id": "17g-5aMDThhf",
        "colab_type": "code",
        "outputId": "c5dda828-9092-414a-e49b-00333b7bda89",
        "colab": {}
      },
      "source": [
        "dt.day"
      ],
      "execution_count": 0,
      "outputs": [
        {
          "output_type": "execute_result",
          "data": {
            "text/plain": [
              "24"
            ]
          },
          "metadata": {
            "tags": []
          },
          "execution_count": 29
        }
      ]
    },
    {
      "cell_type": "code",
      "metadata": {
        "id": "1IL6Lpv_Thhl",
        "colab_type": "code",
        "outputId": "9fd33448-abec-4a50-9e2e-4bd914d16947",
        "colab": {}
      },
      "source": [
        "dt2"
      ],
      "execution_count": 0,
      "outputs": [
        {
          "output_type": "execute_result",
          "data": {
            "text/plain": [
              "datetime.datetime(2015, 4, 18, 2, 47, 11)"
            ]
          },
          "metadata": {
            "tags": []
          },
          "execution_count": 30
        }
      ]
    },
    {
      "cell_type": "code",
      "metadata": {
        "id": "rAdXlPKJThhp",
        "colab_type": "code",
        "colab": {}
      },
      "source": [
        "d_date = dt2-dt"
      ],
      "execution_count": 0,
      "outputs": []
    },
    {
      "cell_type": "code",
      "metadata": {
        "id": "rNPMCctmThhs",
        "colab_type": "code",
        "outputId": "ddf18990-f399-4199-8777-ca2d33db3066",
        "colab": {}
      },
      "source": [
        "d_date.seconds"
      ],
      "execution_count": 0,
      "outputs": [
        {
          "output_type": "execute_result",
          "data": {
            "text/plain": [
              "13882"
            ]
          },
          "metadata": {
            "tags": []
          },
          "execution_count": 32
        }
      ]
    },
    {
      "cell_type": "code",
      "metadata": {
        "id": "3K2yT_7wThhx",
        "colab_type": "code",
        "colab": {}
      },
      "source": [
        "fraud['elapse'] = fraud.apply(lambda x : (parser.parse(str(x.purchase_time)) - parser.parse(str(x.signup_time))).seconds,axis = 1)"
      ],
      "execution_count": 0,
      "outputs": []
    },
    {
      "cell_type": "code",
      "metadata": {
        "id": "-FWizv4LThh5",
        "colab_type": "code",
        "outputId": "5b2fe760-e9eb-4800-928a-8e656d5cd20d",
        "colab": {}
      },
      "source": [
        "fraud.head()"
      ],
      "execution_count": 0,
      "outputs": [
        {
          "output_type": "execute_result",
          "data": {
            "text/html": [
              "<div>\n",
              "<style scoped>\n",
              "    .dataframe tbody tr th:only-of-type {\n",
              "        vertical-align: middle;\n",
              "    }\n",
              "\n",
              "    .dataframe tbody tr th {\n",
              "        vertical-align: top;\n",
              "    }\n",
              "\n",
              "    .dataframe thead th {\n",
              "        text-align: right;\n",
              "    }\n",
              "</style>\n",
              "<table border=\"1\" class=\"dataframe\">\n",
              "  <thead>\n",
              "    <tr style=\"text-align: right;\">\n",
              "      <th></th>\n",
              "      <th>user_id</th>\n",
              "      <th>signup_time</th>\n",
              "      <th>purchase_time</th>\n",
              "      <th>purchase_value</th>\n",
              "      <th>device_id</th>\n",
              "      <th>source</th>\n",
              "      <th>browser</th>\n",
              "      <th>sex</th>\n",
              "      <th>age</th>\n",
              "      <th>class</th>\n",
              "      <th>country</th>\n",
              "      <th>elapse</th>\n",
              "    </tr>\n",
              "  </thead>\n",
              "  <tbody>\n",
              "    <tr>\n",
              "      <th>0</th>\n",
              "      <td>22058</td>\n",
              "      <td>2015-02-24 22:55:49</td>\n",
              "      <td>2015-04-18 02:47:11</td>\n",
              "      <td>34</td>\n",
              "      <td>QVPSPJUOCKZAR</td>\n",
              "      <td>SEO</td>\n",
              "      <td>Chrome</td>\n",
              "      <td>M</td>\n",
              "      <td>39</td>\n",
              "      <td>0</td>\n",
              "      <td>Japan</td>\n",
              "      <td>13882</td>\n",
              "    </tr>\n",
              "    <tr>\n",
              "      <th>1</th>\n",
              "      <td>333320</td>\n",
              "      <td>2015-06-07 20:39:50</td>\n",
              "      <td>2015-06-08 01:38:54</td>\n",
              "      <td>16</td>\n",
              "      <td>EOGFQPIZPYXFZ</td>\n",
              "      <td>Ads</td>\n",
              "      <td>Chrome</td>\n",
              "      <td>F</td>\n",
              "      <td>53</td>\n",
              "      <td>0</td>\n",
              "      <td>United States</td>\n",
              "      <td>17944</td>\n",
              "    </tr>\n",
              "    <tr>\n",
              "      <th>2</th>\n",
              "      <td>1359</td>\n",
              "      <td>2015-01-01 18:52:44</td>\n",
              "      <td>2015-01-01 18:52:45</td>\n",
              "      <td>15</td>\n",
              "      <td>YSSKYOSJHPPLJ</td>\n",
              "      <td>SEO</td>\n",
              "      <td>Opera</td>\n",
              "      <td>M</td>\n",
              "      <td>53</td>\n",
              "      <td>1</td>\n",
              "      <td>United States</td>\n",
              "      <td>1</td>\n",
              "    </tr>\n",
              "    <tr>\n",
              "      <th>3</th>\n",
              "      <td>150084</td>\n",
              "      <td>2015-04-28 21:13:25</td>\n",
              "      <td>2015-05-04 13:54:50</td>\n",
              "      <td>44</td>\n",
              "      <td>ATGTXKYKUDUQN</td>\n",
              "      <td>SEO</td>\n",
              "      <td>Safari</td>\n",
              "      <td>M</td>\n",
              "      <td>41</td>\n",
              "      <td>0</td>\n",
              "      <td>unknown</td>\n",
              "      <td>60085</td>\n",
              "    </tr>\n",
              "    <tr>\n",
              "      <th>4</th>\n",
              "      <td>221365</td>\n",
              "      <td>2015-07-21 07:09:52</td>\n",
              "      <td>2015-09-09 18:40:53</td>\n",
              "      <td>39</td>\n",
              "      <td>NAUITBZFJKHWW</td>\n",
              "      <td>Ads</td>\n",
              "      <td>Safari</td>\n",
              "      <td>M</td>\n",
              "      <td>45</td>\n",
              "      <td>0</td>\n",
              "      <td>United States</td>\n",
              "      <td>41461</td>\n",
              "    </tr>\n",
              "  </tbody>\n",
              "</table>\n",
              "</div>"
            ],
            "text/plain": [
              "   user_id          signup_time        purchase_time  purchase_value  \\\n",
              "0    22058  2015-02-24 22:55:49  2015-04-18 02:47:11              34   \n",
              "1   333320  2015-06-07 20:39:50  2015-06-08 01:38:54              16   \n",
              "2     1359  2015-01-01 18:52:44  2015-01-01 18:52:45              15   \n",
              "3   150084  2015-04-28 21:13:25  2015-05-04 13:54:50              44   \n",
              "4   221365  2015-07-21 07:09:52  2015-09-09 18:40:53              39   \n",
              "\n",
              "       device_id source browser sex  age  class        country  elapse  \n",
              "0  QVPSPJUOCKZAR    SEO  Chrome   M   39      0          Japan   13882  \n",
              "1  EOGFQPIZPYXFZ    Ads  Chrome   F   53      0  United States   17944  \n",
              "2  YSSKYOSJHPPLJ    SEO   Opera   M   53      1  United States       1  \n",
              "3  ATGTXKYKUDUQN    SEO  Safari   M   41      0        unknown   60085  \n",
              "4  NAUITBZFJKHWW    Ads  Safari   M   45      0  United States   41461  "
            ]
          },
          "metadata": {
            "tags": []
          },
          "execution_count": 34
        }
      ]
    },
    {
      "cell_type": "code",
      "metadata": {
        "id": "IRBZV59TThiA",
        "colab_type": "code",
        "outputId": "38940a7e-b01f-4d31-fed9-d8bd0ef2dfdb",
        "colab": {}
      },
      "source": [
        "fraud[fraud[\"class\"] == 0].elapse.mean()"
      ],
      "execution_count": 0,
      "outputs": [
        {
          "output_type": "execute_result",
          "data": {
            "text/plain": [
              "43107.882674630004"
            ]
          },
          "metadata": {
            "tags": []
          },
          "execution_count": 35
        }
      ]
    },
    {
      "cell_type": "code",
      "metadata": {
        "id": "EFyrLuHRThiF",
        "colab_type": "code",
        "outputId": "1801e538-e5f7-423a-9437-18646b1a7d0f",
        "colab": {}
      },
      "source": [
        "fraud[fraud[\"class\"] == 1].elapse.mean()"
      ],
      "execution_count": 0,
      "outputs": [
        {
          "output_type": "execute_result",
          "data": {
            "text/plain": [
              "19985.661720019787"
            ]
          },
          "metadata": {
            "tags": []
          },
          "execution_count": 36
        }
      ]
    },
    {
      "cell_type": "code",
      "metadata": {
        "id": "OaklmAEwThiJ",
        "colab_type": "code",
        "outputId": "aa0406f9-562f-4b34-b2e4-5c4a7dd223ee",
        "colab": {}
      },
      "source": [
        "fraud.groupby(by = \"class\").describe().T"
      ],
      "execution_count": 0,
      "outputs": [
        {
          "output_type": "execute_result",
          "data": {
            "text/html": [
              "<div>\n",
              "<style scoped>\n",
              "    .dataframe tbody tr th:only-of-type {\n",
              "        vertical-align: middle;\n",
              "    }\n",
              "\n",
              "    .dataframe tbody tr th {\n",
              "        vertical-align: top;\n",
              "    }\n",
              "\n",
              "    .dataframe thead th {\n",
              "        text-align: right;\n",
              "    }\n",
              "</style>\n",
              "<table border=\"1\" class=\"dataframe\">\n",
              "  <thead>\n",
              "    <tr style=\"text-align: right;\">\n",
              "      <th></th>\n",
              "      <th>class</th>\n",
              "      <th>0</th>\n",
              "      <th>1</th>\n",
              "    </tr>\n",
              "  </thead>\n",
              "  <tbody>\n",
              "    <tr>\n",
              "      <th rowspan=\"8\" valign=\"top\">user_id</th>\n",
              "      <th>count</th>\n",
              "      <td>136961.000000</td>\n",
              "      <td>14151.000000</td>\n",
              "    </tr>\n",
              "    <tr>\n",
              "      <th>mean</th>\n",
              "      <td>200098.920123</td>\n",
              "      <td>200869.065366</td>\n",
              "    </tr>\n",
              "    <tr>\n",
              "      <th>std</th>\n",
              "      <td>115239.994370</td>\n",
              "      <td>116615.028662</td>\n",
              "    </tr>\n",
              "    <tr>\n",
              "      <th>min</th>\n",
              "      <td>2.000000</td>\n",
              "      <td>39.000000</td>\n",
              "    </tr>\n",
              "    <tr>\n",
              "      <th>25%</th>\n",
              "      <td>100789.000000</td>\n",
              "      <td>98314.000000</td>\n",
              "    </tr>\n",
              "    <tr>\n",
              "      <th>50%</th>\n",
              "      <td>199909.000000</td>\n",
              "      <td>200526.000000</td>\n",
              "    </tr>\n",
              "    <tr>\n",
              "      <th>75%</th>\n",
              "      <td>299724.000000</td>\n",
              "      <td>303018.000000</td>\n",
              "    </tr>\n",
              "    <tr>\n",
              "      <th>max</th>\n",
              "      <td>399997.000000</td>\n",
              "      <td>400000.000000</td>\n",
              "    </tr>\n",
              "    <tr>\n",
              "      <th rowspan=\"8\" valign=\"top\">purchase_value</th>\n",
              "      <th>count</th>\n",
              "      <td>136961.000000</td>\n",
              "      <td>14151.000000</td>\n",
              "    </tr>\n",
              "    <tr>\n",
              "      <th>mean</th>\n",
              "      <td>36.929418</td>\n",
              "      <td>36.993004</td>\n",
              "    </tr>\n",
              "    <tr>\n",
              "      <th>std</th>\n",
              "      <td>18.315064</td>\n",
              "      <td>18.397654</td>\n",
              "    </tr>\n",
              "    <tr>\n",
              "      <th>min</th>\n",
              "      <td>9.000000</td>\n",
              "      <td>9.000000</td>\n",
              "    </tr>\n",
              "    <tr>\n",
              "      <th>25%</th>\n",
              "      <td>22.000000</td>\n",
              "      <td>22.000000</td>\n",
              "    </tr>\n",
              "    <tr>\n",
              "      <th>50%</th>\n",
              "      <td>35.000000</td>\n",
              "      <td>35.000000</td>\n",
              "    </tr>\n",
              "    <tr>\n",
              "      <th>75%</th>\n",
              "      <td>49.000000</td>\n",
              "      <td>49.000000</td>\n",
              "    </tr>\n",
              "    <tr>\n",
              "      <th>max</th>\n",
              "      <td>154.000000</td>\n",
              "      <td>111.000000</td>\n",
              "    </tr>\n",
              "    <tr>\n",
              "      <th rowspan=\"8\" valign=\"top\">age</th>\n",
              "      <th>count</th>\n",
              "      <td>136961.000000</td>\n",
              "      <td>14151.000000</td>\n",
              "    </tr>\n",
              "    <tr>\n",
              "      <th>mean</th>\n",
              "      <td>33.122356</td>\n",
              "      <td>33.318281</td>\n",
              "    </tr>\n",
              "    <tr>\n",
              "      <th>std</th>\n",
              "      <td>8.622678</td>\n",
              "      <td>8.568001</td>\n",
              "    </tr>\n",
              "    <tr>\n",
              "      <th>min</th>\n",
              "      <td>18.000000</td>\n",
              "      <td>18.000000</td>\n",
              "    </tr>\n",
              "    <tr>\n",
              "      <th>25%</th>\n",
              "      <td>27.000000</td>\n",
              "      <td>27.000000</td>\n",
              "    </tr>\n",
              "    <tr>\n",
              "      <th>50%</th>\n",
              "      <td>33.000000</td>\n",
              "      <td>33.000000</td>\n",
              "    </tr>\n",
              "    <tr>\n",
              "      <th>75%</th>\n",
              "      <td>39.000000</td>\n",
              "      <td>39.000000</td>\n",
              "    </tr>\n",
              "    <tr>\n",
              "      <th>max</th>\n",
              "      <td>76.000000</td>\n",
              "      <td>68.000000</td>\n",
              "    </tr>\n",
              "    <tr>\n",
              "      <th rowspan=\"8\" valign=\"top\">elapse</th>\n",
              "      <th>count</th>\n",
              "      <td>136961.000000</td>\n",
              "      <td>14151.000000</td>\n",
              "    </tr>\n",
              "    <tr>\n",
              "      <th>mean</th>\n",
              "      <td>43107.882675</td>\n",
              "      <td>19985.661720</td>\n",
              "    </tr>\n",
              "    <tr>\n",
              "      <th>std</th>\n",
              "      <td>24924.165935</td>\n",
              "      <td>27373.875395</td>\n",
              "    </tr>\n",
              "    <tr>\n",
              "      <th>min</th>\n",
              "      <td>1.000000</td>\n",
              "      <td>1.000000</td>\n",
              "    </tr>\n",
              "    <tr>\n",
              "      <th>25%</th>\n",
              "      <td>21536.000000</td>\n",
              "      <td>1.000000</td>\n",
              "    </tr>\n",
              "    <tr>\n",
              "      <th>50%</th>\n",
              "      <td>43152.000000</td>\n",
              "      <td>1.000000</td>\n",
              "    </tr>\n",
              "    <tr>\n",
              "      <th>75%</th>\n",
              "      <td>64652.000000</td>\n",
              "      <td>39792.500000</td>\n",
              "    </tr>\n",
              "    <tr>\n",
              "      <th>max</th>\n",
              "      <td>86399.000000</td>\n",
              "      <td>86382.000000</td>\n",
              "    </tr>\n",
              "  </tbody>\n",
              "</table>\n",
              "</div>"
            ],
            "text/plain": [
              "class                             0              1\n",
              "user_id        count  136961.000000   14151.000000\n",
              "               mean   200098.920123  200869.065366\n",
              "               std    115239.994370  116615.028662\n",
              "               min         2.000000      39.000000\n",
              "               25%    100789.000000   98314.000000\n",
              "               50%    199909.000000  200526.000000\n",
              "               75%    299724.000000  303018.000000\n",
              "               max    399997.000000  400000.000000\n",
              "purchase_value count  136961.000000   14151.000000\n",
              "               mean       36.929418      36.993004\n",
              "               std        18.315064      18.397654\n",
              "               min         9.000000       9.000000\n",
              "               25%        22.000000      22.000000\n",
              "               50%        35.000000      35.000000\n",
              "               75%        49.000000      49.000000\n",
              "               max       154.000000     111.000000\n",
              "age            count  136961.000000   14151.000000\n",
              "               mean       33.122356      33.318281\n",
              "               std         8.622678       8.568001\n",
              "               min        18.000000      18.000000\n",
              "               25%        27.000000      27.000000\n",
              "               50%        33.000000      33.000000\n",
              "               75%        39.000000      39.000000\n",
              "               max        76.000000      68.000000\n",
              "elapse         count  136961.000000   14151.000000\n",
              "               mean    43107.882675   19985.661720\n",
              "               std     24924.165935   27373.875395\n",
              "               min         1.000000       1.000000\n",
              "               25%     21536.000000       1.000000\n",
              "               50%     43152.000000       1.000000\n",
              "               75%     64652.000000   39792.500000\n",
              "               max     86399.000000   86382.000000"
            ]
          },
          "metadata": {
            "tags": []
          },
          "execution_count": 37
        }
      ]
    },
    {
      "cell_type": "code",
      "metadata": {
        "id": "sq5e5vnqThiO",
        "colab_type": "code",
        "outputId": "754ddc45-73df-4417-9fc4-b99b8ff5b2fc",
        "colab": {}
      },
      "source": [
        "fraud[\"class\"].mean()"
      ],
      "execution_count": 0,
      "outputs": [
        {
          "output_type": "execute_result",
          "data": {
            "text/plain": [
              "0.09364577267192546"
            ]
          },
          "metadata": {
            "tags": []
          },
          "execution_count": 38
        }
      ]
    },
    {
      "cell_type": "code",
      "metadata": {
        "id": "-momLD3RThiQ",
        "colab_type": "code",
        "outputId": "c58a86a2-9bac-4fb4-cb5b-63ea6556e190",
        "colab": {}
      },
      "source": [
        "fraud[fraud[\"class\"] == 0].sample(20)"
      ],
      "execution_count": 0,
      "outputs": [
        {
          "output_type": "execute_result",
          "data": {
            "text/html": [
              "<div>\n",
              "<style scoped>\n",
              "    .dataframe tbody tr th:only-of-type {\n",
              "        vertical-align: middle;\n",
              "    }\n",
              "\n",
              "    .dataframe tbody tr th {\n",
              "        vertical-align: top;\n",
              "    }\n",
              "\n",
              "    .dataframe thead th {\n",
              "        text-align: right;\n",
              "    }\n",
              "</style>\n",
              "<table border=\"1\" class=\"dataframe\">\n",
              "  <thead>\n",
              "    <tr style=\"text-align: right;\">\n",
              "      <th></th>\n",
              "      <th>user_id</th>\n",
              "      <th>signup_time</th>\n",
              "      <th>purchase_time</th>\n",
              "      <th>purchase_value</th>\n",
              "      <th>device_id</th>\n",
              "      <th>source</th>\n",
              "      <th>browser</th>\n",
              "      <th>sex</th>\n",
              "      <th>age</th>\n",
              "      <th>class</th>\n",
              "      <th>country</th>\n",
              "      <th>elapse</th>\n",
              "    </tr>\n",
              "  </thead>\n",
              "  <tbody>\n",
              "    <tr>\n",
              "      <th>88345</th>\n",
              "      <td>273604</td>\n",
              "      <td>2015-06-15 20:37:52</td>\n",
              "      <td>2015-06-21 08:02:34</td>\n",
              "      <td>46</td>\n",
              "      <td>QPZVUFVJJLURF</td>\n",
              "      <td>Ads</td>\n",
              "      <td>Chrome</td>\n",
              "      <td>M</td>\n",
              "      <td>25</td>\n",
              "      <td>0</td>\n",
              "      <td>United States</td>\n",
              "      <td>41082</td>\n",
              "    </tr>\n",
              "    <tr>\n",
              "      <th>24200</th>\n",
              "      <td>102277</td>\n",
              "      <td>2015-03-22 00:39:37</td>\n",
              "      <td>2015-04-11 16:53:57</td>\n",
              "      <td>25</td>\n",
              "      <td>OWWJYGWQGOPLX</td>\n",
              "      <td>Ads</td>\n",
              "      <td>Safari</td>\n",
              "      <td>M</td>\n",
              "      <td>19</td>\n",
              "      <td>0</td>\n",
              "      <td>Spain</td>\n",
              "      <td>58460</td>\n",
              "    </tr>\n",
              "    <tr>\n",
              "      <th>132094</th>\n",
              "      <td>216120</td>\n",
              "      <td>2015-05-18 03:27:05</td>\n",
              "      <td>2015-05-21 02:40:21</td>\n",
              "      <td>23</td>\n",
              "      <td>ZYYHNBIAUGCEF</td>\n",
              "      <td>Ads</td>\n",
              "      <td>FireFox</td>\n",
              "      <td>F</td>\n",
              "      <td>53</td>\n",
              "      <td>0</td>\n",
              "      <td>unknown</td>\n",
              "      <td>83596</td>\n",
              "    </tr>\n",
              "    <tr>\n",
              "      <th>51434</th>\n",
              "      <td>383024</td>\n",
              "      <td>2015-07-05 23:39:30</td>\n",
              "      <td>2015-08-30 06:47:49</td>\n",
              "      <td>26</td>\n",
              "      <td>YAPSGITXIBFCB</td>\n",
              "      <td>Ads</td>\n",
              "      <td>IE</td>\n",
              "      <td>M</td>\n",
              "      <td>28</td>\n",
              "      <td>0</td>\n",
              "      <td>Japan</td>\n",
              "      <td>25699</td>\n",
              "    </tr>\n",
              "    <tr>\n",
              "      <th>28754</th>\n",
              "      <td>299260</td>\n",
              "      <td>2015-06-15 18:33:56</td>\n",
              "      <td>2015-09-29 23:27:59</td>\n",
              "      <td>24</td>\n",
              "      <td>DLGSVBAAPFIAF</td>\n",
              "      <td>Ads</td>\n",
              "      <td>Safari</td>\n",
              "      <td>M</td>\n",
              "      <td>45</td>\n",
              "      <td>0</td>\n",
              "      <td>United States</td>\n",
              "      <td>17643</td>\n",
              "    </tr>\n",
              "    <tr>\n",
              "      <th>57044</th>\n",
              "      <td>270496</td>\n",
              "      <td>2015-07-19 14:31:59</td>\n",
              "      <td>2015-10-10 13:19:28</td>\n",
              "      <td>28</td>\n",
              "      <td>ZILMLXNMZDQTN</td>\n",
              "      <td>SEO</td>\n",
              "      <td>Safari</td>\n",
              "      <td>F</td>\n",
              "      <td>24</td>\n",
              "      <td>0</td>\n",
              "      <td>France</td>\n",
              "      <td>82049</td>\n",
              "    </tr>\n",
              "    <tr>\n",
              "      <th>200</th>\n",
              "      <td>309239</td>\n",
              "      <td>2015-05-29 09:54:34</td>\n",
              "      <td>2015-08-09 08:03:26</td>\n",
              "      <td>22</td>\n",
              "      <td>CXPAACGCMEJFT</td>\n",
              "      <td>Direct</td>\n",
              "      <td>IE</td>\n",
              "      <td>F</td>\n",
              "      <td>22</td>\n",
              "      <td>0</td>\n",
              "      <td>France</td>\n",
              "      <td>79732</td>\n",
              "    </tr>\n",
              "    <tr>\n",
              "      <th>67867</th>\n",
              "      <td>239302</td>\n",
              "      <td>2015-03-28 14:53:44</td>\n",
              "      <td>2015-05-04 10:23:18</td>\n",
              "      <td>79</td>\n",
              "      <td>BAGOHAHLYTWQV</td>\n",
              "      <td>Ads</td>\n",
              "      <td>IE</td>\n",
              "      <td>M</td>\n",
              "      <td>36</td>\n",
              "      <td>0</td>\n",
              "      <td>United States</td>\n",
              "      <td>70174</td>\n",
              "    </tr>\n",
              "    <tr>\n",
              "      <th>11812</th>\n",
              "      <td>250038</td>\n",
              "      <td>2015-06-20 08:36:51</td>\n",
              "      <td>2015-07-20 03:40:22</td>\n",
              "      <td>29</td>\n",
              "      <td>KHWTLHTPUSYMH</td>\n",
              "      <td>Direct</td>\n",
              "      <td>Opera</td>\n",
              "      <td>M</td>\n",
              "      <td>23</td>\n",
              "      <td>0</td>\n",
              "      <td>United States</td>\n",
              "      <td>68611</td>\n",
              "    </tr>\n",
              "    <tr>\n",
              "      <th>13287</th>\n",
              "      <td>347030</td>\n",
              "      <td>2015-06-07 06:23:56</td>\n",
              "      <td>2015-07-02 12:56:34</td>\n",
              "      <td>47</td>\n",
              "      <td>NSHUQSPMAYYPH</td>\n",
              "      <td>Ads</td>\n",
              "      <td>IE</td>\n",
              "      <td>M</td>\n",
              "      <td>18</td>\n",
              "      <td>0</td>\n",
              "      <td>Indonesia</td>\n",
              "      <td>23558</td>\n",
              "    </tr>\n",
              "    <tr>\n",
              "      <th>140487</th>\n",
              "      <td>85039</td>\n",
              "      <td>2015-02-12 14:53:38</td>\n",
              "      <td>2015-02-25 16:17:39</td>\n",
              "      <td>24</td>\n",
              "      <td>QTZXKMHGWZXSH</td>\n",
              "      <td>Ads</td>\n",
              "      <td>Chrome</td>\n",
              "      <td>M</td>\n",
              "      <td>27</td>\n",
              "      <td>0</td>\n",
              "      <td>unknown</td>\n",
              "      <td>5041</td>\n",
              "    </tr>\n",
              "    <tr>\n",
              "      <th>74861</th>\n",
              "      <td>381431</td>\n",
              "      <td>2015-01-28 16:18:25</td>\n",
              "      <td>2015-04-30 15:44:03</td>\n",
              "      <td>36</td>\n",
              "      <td>PENYKSTRATWUR</td>\n",
              "      <td>Direct</td>\n",
              "      <td>Chrome</td>\n",
              "      <td>F</td>\n",
              "      <td>44</td>\n",
              "      <td>0</td>\n",
              "      <td>unknown</td>\n",
              "      <td>84338</td>\n",
              "    </tr>\n",
              "    <tr>\n",
              "      <th>97649</th>\n",
              "      <td>49402</td>\n",
              "      <td>2015-03-25 14:30:45</td>\n",
              "      <td>2015-07-14 05:31:08</td>\n",
              "      <td>42</td>\n",
              "      <td>RTGHFITTPDNDD</td>\n",
              "      <td>Ads</td>\n",
              "      <td>Chrome</td>\n",
              "      <td>M</td>\n",
              "      <td>35</td>\n",
              "      <td>0</td>\n",
              "      <td>Canada</td>\n",
              "      <td>54023</td>\n",
              "    </tr>\n",
              "    <tr>\n",
              "      <th>57392</th>\n",
              "      <td>244945</td>\n",
              "      <td>2015-01-25 20:48:18</td>\n",
              "      <td>2015-05-07 08:11:39</td>\n",
              "      <td>43</td>\n",
              "      <td>CNJFZQOOUQLIC</td>\n",
              "      <td>Direct</td>\n",
              "      <td>Chrome</td>\n",
              "      <td>F</td>\n",
              "      <td>33</td>\n",
              "      <td>0</td>\n",
              "      <td>Japan</td>\n",
              "      <td>41001</td>\n",
              "    </tr>\n",
              "    <tr>\n",
              "      <th>26510</th>\n",
              "      <td>102666</td>\n",
              "      <td>2015-06-14 02:54:26</td>\n",
              "      <td>2015-07-10 23:42:17</td>\n",
              "      <td>12</td>\n",
              "      <td>FBYYRKIWLDVLX</td>\n",
              "      <td>SEO</td>\n",
              "      <td>Chrome</td>\n",
              "      <td>F</td>\n",
              "      <td>22</td>\n",
              "      <td>0</td>\n",
              "      <td>unknown</td>\n",
              "      <td>74871</td>\n",
              "    </tr>\n",
              "    <tr>\n",
              "      <th>7564</th>\n",
              "      <td>361718</td>\n",
              "      <td>2015-01-14 02:50:14</td>\n",
              "      <td>2015-01-18 20:42:35</td>\n",
              "      <td>18</td>\n",
              "      <td>DYLVVJCDWQRFP</td>\n",
              "      <td>Ads</td>\n",
              "      <td>FireFox</td>\n",
              "      <td>F</td>\n",
              "      <td>20</td>\n",
              "      <td>0</td>\n",
              "      <td>Japan</td>\n",
              "      <td>64341</td>\n",
              "    </tr>\n",
              "    <tr>\n",
              "      <th>78900</th>\n",
              "      <td>147075</td>\n",
              "      <td>2015-07-17 16:32:46</td>\n",
              "      <td>2015-09-01 09:15:46</td>\n",
              "      <td>44</td>\n",
              "      <td>FBZUBZUGZVQAH</td>\n",
              "      <td>SEO</td>\n",
              "      <td>IE</td>\n",
              "      <td>F</td>\n",
              "      <td>29</td>\n",
              "      <td>0</td>\n",
              "      <td>Turkey</td>\n",
              "      <td>60180</td>\n",
              "    </tr>\n",
              "    <tr>\n",
              "      <th>135850</th>\n",
              "      <td>295223</td>\n",
              "      <td>2015-03-28 14:48:55</td>\n",
              "      <td>2015-07-23 09:42:17</td>\n",
              "      <td>34</td>\n",
              "      <td>HSGSFSINJHWCK</td>\n",
              "      <td>Ads</td>\n",
              "      <td>Safari</td>\n",
              "      <td>M</td>\n",
              "      <td>29</td>\n",
              "      <td>0</td>\n",
              "      <td>unknown</td>\n",
              "      <td>68002</td>\n",
              "    </tr>\n",
              "    <tr>\n",
              "      <th>47810</th>\n",
              "      <td>18668</td>\n",
              "      <td>2015-01-02 22:08:00</td>\n",
              "      <td>2015-02-09 05:30:57</td>\n",
              "      <td>48</td>\n",
              "      <td>RNIYWDRPTGXGT</td>\n",
              "      <td>SEO</td>\n",
              "      <td>Safari</td>\n",
              "      <td>F</td>\n",
              "      <td>20</td>\n",
              "      <td>0</td>\n",
              "      <td>United States</td>\n",
              "      <td>26577</td>\n",
              "    </tr>\n",
              "    <tr>\n",
              "      <th>121523</th>\n",
              "      <td>234248</td>\n",
              "      <td>2015-07-04 02:45:36</td>\n",
              "      <td>2015-08-25 22:14:39</td>\n",
              "      <td>28</td>\n",
              "      <td>PWXLOOQQVOEVC</td>\n",
              "      <td>SEO</td>\n",
              "      <td>FireFox</td>\n",
              "      <td>M</td>\n",
              "      <td>29</td>\n",
              "      <td>0</td>\n",
              "      <td>China</td>\n",
              "      <td>70143</td>\n",
              "    </tr>\n",
              "  </tbody>\n",
              "</table>\n",
              "</div>"
            ],
            "text/plain": [
              "        user_id          signup_time        purchase_time  purchase_value  \\\n",
              "88345    273604  2015-06-15 20:37:52  2015-06-21 08:02:34              46   \n",
              "24200    102277  2015-03-22 00:39:37  2015-04-11 16:53:57              25   \n",
              "132094   216120  2015-05-18 03:27:05  2015-05-21 02:40:21              23   \n",
              "51434    383024  2015-07-05 23:39:30  2015-08-30 06:47:49              26   \n",
              "28754    299260  2015-06-15 18:33:56  2015-09-29 23:27:59              24   \n",
              "57044    270496  2015-07-19 14:31:59  2015-10-10 13:19:28              28   \n",
              "200      309239  2015-05-29 09:54:34  2015-08-09 08:03:26              22   \n",
              "67867    239302  2015-03-28 14:53:44  2015-05-04 10:23:18              79   \n",
              "11812    250038  2015-06-20 08:36:51  2015-07-20 03:40:22              29   \n",
              "13287    347030  2015-06-07 06:23:56  2015-07-02 12:56:34              47   \n",
              "140487    85039  2015-02-12 14:53:38  2015-02-25 16:17:39              24   \n",
              "74861    381431  2015-01-28 16:18:25  2015-04-30 15:44:03              36   \n",
              "97649     49402  2015-03-25 14:30:45  2015-07-14 05:31:08              42   \n",
              "57392    244945  2015-01-25 20:48:18  2015-05-07 08:11:39              43   \n",
              "26510    102666  2015-06-14 02:54:26  2015-07-10 23:42:17              12   \n",
              "7564     361718  2015-01-14 02:50:14  2015-01-18 20:42:35              18   \n",
              "78900    147075  2015-07-17 16:32:46  2015-09-01 09:15:46              44   \n",
              "135850   295223  2015-03-28 14:48:55  2015-07-23 09:42:17              34   \n",
              "47810     18668  2015-01-02 22:08:00  2015-02-09 05:30:57              48   \n",
              "121523   234248  2015-07-04 02:45:36  2015-08-25 22:14:39              28   \n",
              "\n",
              "            device_id  source  browser sex  age  class        country  elapse  \n",
              "88345   QPZVUFVJJLURF     Ads   Chrome   M   25      0  United States   41082  \n",
              "24200   OWWJYGWQGOPLX     Ads   Safari   M   19      0          Spain   58460  \n",
              "132094  ZYYHNBIAUGCEF     Ads  FireFox   F   53      0        unknown   83596  \n",
              "51434   YAPSGITXIBFCB     Ads       IE   M   28      0          Japan   25699  \n",
              "28754   DLGSVBAAPFIAF     Ads   Safari   M   45      0  United States   17643  \n",
              "57044   ZILMLXNMZDQTN     SEO   Safari   F   24      0         France   82049  \n",
              "200     CXPAACGCMEJFT  Direct       IE   F   22      0         France   79732  \n",
              "67867   BAGOHAHLYTWQV     Ads       IE   M   36      0  United States   70174  \n",
              "11812   KHWTLHTPUSYMH  Direct    Opera   M   23      0  United States   68611  \n",
              "13287   NSHUQSPMAYYPH     Ads       IE   M   18      0      Indonesia   23558  \n",
              "140487  QTZXKMHGWZXSH     Ads   Chrome   M   27      0        unknown    5041  \n",
              "74861   PENYKSTRATWUR  Direct   Chrome   F   44      0        unknown   84338  \n",
              "97649   RTGHFITTPDNDD     Ads   Chrome   M   35      0         Canada   54023  \n",
              "57392   CNJFZQOOUQLIC  Direct   Chrome   F   33      0          Japan   41001  \n",
              "26510   FBYYRKIWLDVLX     SEO   Chrome   F   22      0        unknown   74871  \n",
              "7564    DYLVVJCDWQRFP     Ads  FireFox   F   20      0          Japan   64341  \n",
              "78900   FBZUBZUGZVQAH     SEO       IE   F   29      0         Turkey   60180  \n",
              "135850  HSGSFSINJHWCK     Ads   Safari   M   29      0        unknown   68002  \n",
              "47810   RNIYWDRPTGXGT     SEO   Safari   F   20      0  United States   26577  \n",
              "121523  PWXLOOQQVOEVC     SEO  FireFox   M   29      0          China   70143  "
            ]
          },
          "metadata": {
            "tags": []
          },
          "execution_count": 39
        }
      ]
    },
    {
      "cell_type": "code",
      "metadata": {
        "id": "l4HvQX5SThiT",
        "colab_type": "code",
        "colab": {}
      },
      "source": [
        ""
      ],
      "execution_count": 0,
      "outputs": []
    },
    {
      "cell_type": "code",
      "metadata": {
        "id": "rITrtAVyThiU",
        "colab_type": "code",
        "colab": {}
      },
      "source": [
        "#fraud.to_csv(\"semaine 4\\\\fraud_data_country2.csv\")"
      ],
      "execution_count": 0,
      "outputs": []
    },
    {
      "cell_type": "code",
      "metadata": {
        "id": "xQC2vKMHThiV",
        "colab_type": "code",
        "colab": {}
      },
      "source": [
        "country_class = fraud.groupby(by=\"country\").mean().sort_values(by=\"class\",ascending = False)"
      ],
      "execution_count": 0,
      "outputs": []
    },
    {
      "cell_type": "code",
      "metadata": {
        "id": "F0ThqZqGThiX",
        "colab_type": "code",
        "outputId": "f169b113-4cd8-427a-ff8d-4e9189a73498",
        "colab": {}
      },
      "source": [
        "country_class"
      ],
      "execution_count": 0,
      "outputs": [
        {
          "output_type": "execute_result",
          "data": {
            "text/html": [
              "<div>\n",
              "<style scoped>\n",
              "    .dataframe tbody tr th:only-of-type {\n",
              "        vertical-align: middle;\n",
              "    }\n",
              "\n",
              "    .dataframe tbody tr th {\n",
              "        vertical-align: top;\n",
              "    }\n",
              "\n",
              "    .dataframe thead th {\n",
              "        text-align: right;\n",
              "    }\n",
              "</style>\n",
              "<table border=\"1\" class=\"dataframe\">\n",
              "  <thead>\n",
              "    <tr style=\"text-align: right;\">\n",
              "      <th></th>\n",
              "      <th>user_id</th>\n",
              "      <th>purchase_value</th>\n",
              "      <th>age</th>\n",
              "      <th>class</th>\n",
              "      <th>elapse</th>\n",
              "    </tr>\n",
              "    <tr>\n",
              "      <th>country</th>\n",
              "      <th></th>\n",
              "      <th></th>\n",
              "      <th></th>\n",
              "      <th></th>\n",
              "      <th></th>\n",
              "    </tr>\n",
              "  </thead>\n",
              "  <tbody>\n",
              "    <tr>\n",
              "      <th>Turkmenistan</th>\n",
              "      <td>138998.000000</td>\n",
              "      <td>37.000000</td>\n",
              "      <td>29.000000</td>\n",
              "      <td>1.000000</td>\n",
              "      <td>77612.000000</td>\n",
              "    </tr>\n",
              "    <tr>\n",
              "      <th>Namibia</th>\n",
              "      <td>219949.826087</td>\n",
              "      <td>50.869565</td>\n",
              "      <td>28.739130</td>\n",
              "      <td>0.434783</td>\n",
              "      <td>25409.304348</td>\n",
              "    </tr>\n",
              "    <tr>\n",
              "      <th>Sri Lanka</th>\n",
              "      <td>202067.258065</td>\n",
              "      <td>39.548387</td>\n",
              "      <td>28.870968</td>\n",
              "      <td>0.419355</td>\n",
              "      <td>29327.419355</td>\n",
              "    </tr>\n",
              "    <tr>\n",
              "      <th>Luxembourg</th>\n",
              "      <td>198503.611111</td>\n",
              "      <td>36.486111</td>\n",
              "      <td>35.208333</td>\n",
              "      <td>0.388889</td>\n",
              "      <td>27950.486111</td>\n",
              "    </tr>\n",
              "    <tr>\n",
              "      <th>Virgin Islands (U.S.)</th>\n",
              "      <td>228766.333333</td>\n",
              "      <td>43.333333</td>\n",
              "      <td>29.333333</td>\n",
              "      <td>0.333333</td>\n",
              "      <td>48038.666667</td>\n",
              "    </tr>\n",
              "    <tr>\n",
              "      <th>Ecuador</th>\n",
              "      <td>206779.943396</td>\n",
              "      <td>39.084906</td>\n",
              "      <td>33.566038</td>\n",
              "      <td>0.264151</td>\n",
              "      <td>33062.273585</td>\n",
              "    </tr>\n",
              "    <tr>\n",
              "      <th>Tunisia</th>\n",
              "      <td>194676.440678</td>\n",
              "      <td>30.838983</td>\n",
              "      <td>32.796610</td>\n",
              "      <td>0.262712</td>\n",
              "      <td>33037.881356</td>\n",
              "    </tr>\n",
              "    <tr>\n",
              "      <th>Peru</th>\n",
              "      <td>224237.361345</td>\n",
              "      <td>35.378151</td>\n",
              "      <td>34.344538</td>\n",
              "      <td>0.260504</td>\n",
              "      <td>35921.420168</td>\n",
              "    </tr>\n",
              "    <tr>\n",
              "      <th>Bolivia</th>\n",
              "      <td>191454.056604</td>\n",
              "      <td>37.528302</td>\n",
              "      <td>35.207547</td>\n",
              "      <td>0.245283</td>\n",
              "      <td>32774.132075</td>\n",
              "    </tr>\n",
              "    <tr>\n",
              "      <th>Kuwait</th>\n",
              "      <td>213576.733333</td>\n",
              "      <td>36.644444</td>\n",
              "      <td>34.155556</td>\n",
              "      <td>0.233333</td>\n",
              "      <td>35840.433333</td>\n",
              "    </tr>\n",
              "    <tr>\n",
              "      <th>Ireland</th>\n",
              "      <td>205481.208333</td>\n",
              "      <td>37.908333</td>\n",
              "      <td>33.808333</td>\n",
              "      <td>0.229167</td>\n",
              "      <td>35014.675000</td>\n",
              "    </tr>\n",
              "    <tr>\n",
              "      <th>New Zealand</th>\n",
              "      <td>208076.097122</td>\n",
              "      <td>39.014388</td>\n",
              "      <td>33.316547</td>\n",
              "      <td>0.223022</td>\n",
              "      <td>35451.758993</td>\n",
              "    </tr>\n",
              "    <tr>\n",
              "      <th>Uzbekistan</th>\n",
              "      <td>200216.000000</td>\n",
              "      <td>38.100000</td>\n",
              "      <td>33.600000</td>\n",
              "      <td>0.200000</td>\n",
              "      <td>58131.900000</td>\n",
              "    </tr>\n",
              "    <tr>\n",
              "      <th>Lithuania</th>\n",
              "      <td>197220.052632</td>\n",
              "      <td>39.821053</td>\n",
              "      <td>32.894737</td>\n",
              "      <td>0.189474</td>\n",
              "      <td>33833.168421</td>\n",
              "    </tr>\n",
              "    <tr>\n",
              "      <th>Saudi Arabia</th>\n",
              "      <td>205752.977273</td>\n",
              "      <td>35.734848</td>\n",
              "      <td>35.215909</td>\n",
              "      <td>0.189394</td>\n",
              "      <td>36561.454545</td>\n",
              "    </tr>\n",
              "    <tr>\n",
              "      <th>Malta</th>\n",
              "      <td>192898.363636</td>\n",
              "      <td>34.454545</td>\n",
              "      <td>28.863636</td>\n",
              "      <td>0.181818</td>\n",
              "      <td>48378.681818</td>\n",
              "    </tr>\n",
              "    <tr>\n",
              "      <th>Afghanistan</th>\n",
              "      <td>233109.166667</td>\n",
              "      <td>32.333333</td>\n",
              "      <td>32.000000</td>\n",
              "      <td>0.166667</td>\n",
              "      <td>32762.500000</td>\n",
              "    </tr>\n",
              "    <tr>\n",
              "      <th>Cote D'ivoire</th>\n",
              "      <td>196256.833333</td>\n",
              "      <td>20.833333</td>\n",
              "      <td>41.833333</td>\n",
              "      <td>0.166667</td>\n",
              "      <td>54261.500000</td>\n",
              "    </tr>\n",
              "    <tr>\n",
              "      <th>Denmark</th>\n",
              "      <td>197242.740816</td>\n",
              "      <td>36.310204</td>\n",
              "      <td>34.048980</td>\n",
              "      <td>0.159184</td>\n",
              "      <td>38888.677551</td>\n",
              "    </tr>\n",
              "    <tr>\n",
              "      <th>Chile</th>\n",
              "      <td>198377.143885</td>\n",
              "      <td>37.707434</td>\n",
              "      <td>32.889688</td>\n",
              "      <td>0.153477</td>\n",
              "      <td>38942.438849</td>\n",
              "    </tr>\n",
              "    <tr>\n",
              "      <th>Greece</th>\n",
              "      <td>203672.125541</td>\n",
              "      <td>35.774892</td>\n",
              "      <td>33.411255</td>\n",
              "      <td>0.142857</td>\n",
              "      <td>36488.151515</td>\n",
              "    </tr>\n",
              "    <tr>\n",
              "      <th>Malawi</th>\n",
              "      <td>236289.571429</td>\n",
              "      <td>34.428571</td>\n",
              "      <td>31.285714</td>\n",
              "      <td>0.142857</td>\n",
              "      <td>47690.714286</td>\n",
              "    </tr>\n",
              "    <tr>\n",
              "      <th>Montenegro</th>\n",
              "      <td>154183.857143</td>\n",
              "      <td>26.571429</td>\n",
              "      <td>30.857143</td>\n",
              "      <td>0.142857</td>\n",
              "      <td>41162.285714</td>\n",
              "    </tr>\n",
              "    <tr>\n",
              "      <th>United Arab Emirates</th>\n",
              "      <td>203715.473684</td>\n",
              "      <td>33.833333</td>\n",
              "      <td>35.201754</td>\n",
              "      <td>0.140351</td>\n",
              "      <td>36589.728070</td>\n",
              "    </tr>\n",
              "    <tr>\n",
              "      <th>Belgium</th>\n",
              "      <td>207603.750611</td>\n",
              "      <td>35.232274</td>\n",
              "      <td>33.701711</td>\n",
              "      <td>0.136919</td>\n",
              "      <td>39532.056235</td>\n",
              "    </tr>\n",
              "    <tr>\n",
              "      <th>Egypt</th>\n",
              "      <td>196369.415042</td>\n",
              "      <td>38.512535</td>\n",
              "      <td>33.646240</td>\n",
              "      <td>0.133705</td>\n",
              "      <td>38081.582173</td>\n",
              "    </tr>\n",
              "    <tr>\n",
              "      <th>Costa Rica</th>\n",
              "      <td>181721.077778</td>\n",
              "      <td>35.200000</td>\n",
              "      <td>32.166667</td>\n",
              "      <td>0.133333</td>\n",
              "      <td>39049.700000</td>\n",
              "    </tr>\n",
              "    <tr>\n",
              "      <th>Armenia</th>\n",
              "      <td>221373.333333</td>\n",
              "      <td>43.533333</td>\n",
              "      <td>33.133333</td>\n",
              "      <td>0.133333</td>\n",
              "      <td>51212.933333</td>\n",
              "    </tr>\n",
              "    <tr>\n",
              "      <th>Venezuela</th>\n",
              "      <td>205090.250996</td>\n",
              "      <td>35.952191</td>\n",
              "      <td>32.733068</td>\n",
              "      <td>0.131474</td>\n",
              "      <td>36269.589641</td>\n",
              "    </tr>\n",
              "    <tr>\n",
              "      <th>Norway</th>\n",
              "      <td>196963.756979</td>\n",
              "      <td>37.875205</td>\n",
              "      <td>33.903120</td>\n",
              "      <td>0.129721</td>\n",
              "      <td>39065.234811</td>\n",
              "    </tr>\n",
              "    <tr>\n",
              "      <th>...</th>\n",
              "      <td>...</td>\n",
              "      <td>...</td>\n",
              "      <td>...</td>\n",
              "      <td>...</td>\n",
              "      <td>...</td>\n",
              "    </tr>\n",
              "    <tr>\n",
              "      <th>Haiti</th>\n",
              "      <td>172318.500000</td>\n",
              "      <td>25.750000</td>\n",
              "      <td>29.250000</td>\n",
              "      <td>0.000000</td>\n",
              "      <td>39470.500000</td>\n",
              "    </tr>\n",
              "    <tr>\n",
              "      <th>Guam</th>\n",
              "      <td>220266.142857</td>\n",
              "      <td>40.571429</td>\n",
              "      <td>34.428571</td>\n",
              "      <td>0.000000</td>\n",
              "      <td>48174.000000</td>\n",
              "    </tr>\n",
              "    <tr>\n",
              "      <th>Guadeloupe</th>\n",
              "      <td>378600.000000</td>\n",
              "      <td>25.000000</td>\n",
              "      <td>27.000000</td>\n",
              "      <td>0.000000</td>\n",
              "      <td>3944.000000</td>\n",
              "    </tr>\n",
              "    <tr>\n",
              "      <th>Gambia</th>\n",
              "      <td>233376.000000</td>\n",
              "      <td>29.000000</td>\n",
              "      <td>39.000000</td>\n",
              "      <td>0.000000</td>\n",
              "      <td>78398.000000</td>\n",
              "    </tr>\n",
              "    <tr>\n",
              "      <th>Gibraltar</th>\n",
              "      <td>150393.000000</td>\n",
              "      <td>46.500000</td>\n",
              "      <td>29.500000</td>\n",
              "      <td>0.000000</td>\n",
              "      <td>35424.000000</td>\n",
              "    </tr>\n",
              "    <tr>\n",
              "      <th>Ghana</th>\n",
              "      <td>222970.818182</td>\n",
              "      <td>32.818182</td>\n",
              "      <td>30.090909</td>\n",
              "      <td>0.000000</td>\n",
              "      <td>43989.272727</td>\n",
              "    </tr>\n",
              "    <tr>\n",
              "      <th>Lesotho</th>\n",
              "      <td>203769.000000</td>\n",
              "      <td>36.000000</td>\n",
              "      <td>35.500000</td>\n",
              "      <td>0.000000</td>\n",
              "      <td>36734.000000</td>\n",
              "    </tr>\n",
              "    <tr>\n",
              "      <th>Congo The Democratic Republic of The</th>\n",
              "      <td>290004.666667</td>\n",
              "      <td>36.333333</td>\n",
              "      <td>25.666667</td>\n",
              "      <td>0.000000</td>\n",
              "      <td>26991.000000</td>\n",
              "    </tr>\n",
              "    <tr>\n",
              "      <th>Puerto Rico</th>\n",
              "      <td>210838.766667</td>\n",
              "      <td>38.266667</td>\n",
              "      <td>30.766667</td>\n",
              "      <td>0.000000</td>\n",
              "      <td>36792.033333</td>\n",
              "    </tr>\n",
              "    <tr>\n",
              "      <th>Congo</th>\n",
              "      <td>247071.000000</td>\n",
              "      <td>44.666667</td>\n",
              "      <td>31.333333</td>\n",
              "      <td>0.000000</td>\n",
              "      <td>27782.000000</td>\n",
              "    </tr>\n",
              "    <tr>\n",
              "      <th>Papua New Guinea</th>\n",
              "      <td>173805.000000</td>\n",
              "      <td>32.250000</td>\n",
              "      <td>40.250000</td>\n",
              "      <td>0.000000</td>\n",
              "      <td>42653.250000</td>\n",
              "    </tr>\n",
              "    <tr>\n",
              "      <th>Palestinian Territory Occupied</th>\n",
              "      <td>204418.750000</td>\n",
              "      <td>34.125000</td>\n",
              "      <td>36.437500</td>\n",
              "      <td>0.000000</td>\n",
              "      <td>48593.500000</td>\n",
              "    </tr>\n",
              "    <tr>\n",
              "      <th>Oman</th>\n",
              "      <td>187355.853659</td>\n",
              "      <td>39.024390</td>\n",
              "      <td>33.146341</td>\n",
              "      <td>0.000000</td>\n",
              "      <td>35847.609756</td>\n",
              "    </tr>\n",
              "    <tr>\n",
              "      <th>Burkina Faso</th>\n",
              "      <td>14371.500000</td>\n",
              "      <td>32.500000</td>\n",
              "      <td>30.000000</td>\n",
              "      <td>0.000000</td>\n",
              "      <td>63797.500000</td>\n",
              "    </tr>\n",
              "    <tr>\n",
              "      <th>Burundi</th>\n",
              "      <td>209282.000000</td>\n",
              "      <td>18.000000</td>\n",
              "      <td>24.000000</td>\n",
              "      <td>0.000000</td>\n",
              "      <td>26582.000000</td>\n",
              "    </tr>\n",
              "    <tr>\n",
              "      <th>New Caledonia</th>\n",
              "      <td>155083.800000</td>\n",
              "      <td>57.600000</td>\n",
              "      <td>27.200000</td>\n",
              "      <td>0.000000</td>\n",
              "      <td>42434.600000</td>\n",
              "    </tr>\n",
              "    <tr>\n",
              "      <th>Nepal</th>\n",
              "      <td>202581.500000</td>\n",
              "      <td>37.944444</td>\n",
              "      <td>34.277778</td>\n",
              "      <td>0.000000</td>\n",
              "      <td>32343.833333</td>\n",
              "    </tr>\n",
              "    <tr>\n",
              "      <th>Nauru</th>\n",
              "      <td>193457.000000</td>\n",
              "      <td>45.000000</td>\n",
              "      <td>30.000000</td>\n",
              "      <td>0.000000</td>\n",
              "      <td>19905.000000</td>\n",
              "    </tr>\n",
              "    <tr>\n",
              "      <th>Cambodia</th>\n",
              "      <td>239651.066667</td>\n",
              "      <td>39.800000</td>\n",
              "      <td>29.000000</td>\n",
              "      <td>0.000000</td>\n",
              "      <td>41098.066667</td>\n",
              "    </tr>\n",
              "    <tr>\n",
              "      <th>Myanmar</th>\n",
              "      <td>54130.000000</td>\n",
              "      <td>18.000000</td>\n",
              "      <td>37.000000</td>\n",
              "      <td>0.000000</td>\n",
              "      <td>53759.000000</td>\n",
              "    </tr>\n",
              "    <tr>\n",
              "      <th>Mozambique</th>\n",
              "      <td>200730.875000</td>\n",
              "      <td>38.125000</td>\n",
              "      <td>32.687500</td>\n",
              "      <td>0.000000</td>\n",
              "      <td>37006.625000</td>\n",
              "    </tr>\n",
              "    <tr>\n",
              "      <th>Cameroon</th>\n",
              "      <td>289911.800000</td>\n",
              "      <td>33.600000</td>\n",
              "      <td>33.000000</td>\n",
              "      <td>0.000000</td>\n",
              "      <td>38950.800000</td>\n",
              "    </tr>\n",
              "    <tr>\n",
              "      <th>Mongolia</th>\n",
              "      <td>179364.833333</td>\n",
              "      <td>33.000000</td>\n",
              "      <td>25.666667</td>\n",
              "      <td>0.000000</td>\n",
              "      <td>33806.666667</td>\n",
              "    </tr>\n",
              "    <tr>\n",
              "      <th>Monaco</th>\n",
              "      <td>133390.000000</td>\n",
              "      <td>23.666667</td>\n",
              "      <td>40.333333</td>\n",
              "      <td>0.000000</td>\n",
              "      <td>46681.000000</td>\n",
              "    </tr>\n",
              "    <tr>\n",
              "      <th>Cape Verde</th>\n",
              "      <td>86737.000000</td>\n",
              "      <td>30.000000</td>\n",
              "      <td>51.000000</td>\n",
              "      <td>0.000000</td>\n",
              "      <td>65344.000000</td>\n",
              "    </tr>\n",
              "    <tr>\n",
              "      <th>Cayman Islands</th>\n",
              "      <td>214904.000000</td>\n",
              "      <td>27.000000</td>\n",
              "      <td>34.500000</td>\n",
              "      <td>0.000000</td>\n",
              "      <td>27153.000000</td>\n",
              "    </tr>\n",
              "    <tr>\n",
              "      <th>Maldives</th>\n",
              "      <td>210190.000000</td>\n",
              "      <td>37.500000</td>\n",
              "      <td>39.000000</td>\n",
              "      <td>0.000000</td>\n",
              "      <td>53607.500000</td>\n",
              "    </tr>\n",
              "    <tr>\n",
              "      <th>Madagascar</th>\n",
              "      <td>291896.000000</td>\n",
              "      <td>33.000000</td>\n",
              "      <td>43.000000</td>\n",
              "      <td>0.000000</td>\n",
              "      <td>77884.000000</td>\n",
              "    </tr>\n",
              "    <tr>\n",
              "      <th>Macau</th>\n",
              "      <td>163989.600000</td>\n",
              "      <td>44.100000</td>\n",
              "      <td>31.800000</td>\n",
              "      <td>0.000000</td>\n",
              "      <td>32741.600000</td>\n",
              "    </tr>\n",
              "    <tr>\n",
              "      <th>Lao People's Democratic Republic</th>\n",
              "      <td>245271.500000</td>\n",
              "      <td>29.250000</td>\n",
              "      <td>32.250000</td>\n",
              "      <td>0.000000</td>\n",
              "      <td>38573.250000</td>\n",
              "    </tr>\n",
              "  </tbody>\n",
              "</table>\n",
              "<p>182 rows × 5 columns</p>\n",
              "</div>"
            ],
            "text/plain": [
              "                                            user_id  purchase_value  \\\n",
              "country                                                               \n",
              "Turkmenistan                          138998.000000       37.000000   \n",
              "Namibia                               219949.826087       50.869565   \n",
              "Sri Lanka                             202067.258065       39.548387   \n",
              "Luxembourg                            198503.611111       36.486111   \n",
              "Virgin Islands (U.S.)                 228766.333333       43.333333   \n",
              "Ecuador                               206779.943396       39.084906   \n",
              "Tunisia                               194676.440678       30.838983   \n",
              "Peru                                  224237.361345       35.378151   \n",
              "Bolivia                               191454.056604       37.528302   \n",
              "Kuwait                                213576.733333       36.644444   \n",
              "Ireland                               205481.208333       37.908333   \n",
              "New Zealand                           208076.097122       39.014388   \n",
              "Uzbekistan                            200216.000000       38.100000   \n",
              "Lithuania                             197220.052632       39.821053   \n",
              "Saudi Arabia                          205752.977273       35.734848   \n",
              "Malta                                 192898.363636       34.454545   \n",
              "Afghanistan                           233109.166667       32.333333   \n",
              "Cote D'ivoire                         196256.833333       20.833333   \n",
              "Denmark                               197242.740816       36.310204   \n",
              "Chile                                 198377.143885       37.707434   \n",
              "Greece                                203672.125541       35.774892   \n",
              "Malawi                                236289.571429       34.428571   \n",
              "Montenegro                            154183.857143       26.571429   \n",
              "United Arab Emirates                  203715.473684       33.833333   \n",
              "Belgium                               207603.750611       35.232274   \n",
              "Egypt                                 196369.415042       38.512535   \n",
              "Costa Rica                            181721.077778       35.200000   \n",
              "Armenia                               221373.333333       43.533333   \n",
              "Venezuela                             205090.250996       35.952191   \n",
              "Norway                                196963.756979       37.875205   \n",
              "...                                             ...             ...   \n",
              "Haiti                                 172318.500000       25.750000   \n",
              "Guam                                  220266.142857       40.571429   \n",
              "Guadeloupe                            378600.000000       25.000000   \n",
              "Gambia                                233376.000000       29.000000   \n",
              "Gibraltar                             150393.000000       46.500000   \n",
              "Ghana                                 222970.818182       32.818182   \n",
              "Lesotho                               203769.000000       36.000000   \n",
              "Congo The Democratic Republic of The  290004.666667       36.333333   \n",
              "Puerto Rico                           210838.766667       38.266667   \n",
              "Congo                                 247071.000000       44.666667   \n",
              "Papua New Guinea                      173805.000000       32.250000   \n",
              "Palestinian Territory Occupied        204418.750000       34.125000   \n",
              "Oman                                  187355.853659       39.024390   \n",
              "Burkina Faso                           14371.500000       32.500000   \n",
              "Burundi                               209282.000000       18.000000   \n",
              "New Caledonia                         155083.800000       57.600000   \n",
              "Nepal                                 202581.500000       37.944444   \n",
              "Nauru                                 193457.000000       45.000000   \n",
              "Cambodia                              239651.066667       39.800000   \n",
              "Myanmar                                54130.000000       18.000000   \n",
              "Mozambique                            200730.875000       38.125000   \n",
              "Cameroon                              289911.800000       33.600000   \n",
              "Mongolia                              179364.833333       33.000000   \n",
              "Monaco                                133390.000000       23.666667   \n",
              "Cape Verde                             86737.000000       30.000000   \n",
              "Cayman Islands                        214904.000000       27.000000   \n",
              "Maldives                              210190.000000       37.500000   \n",
              "Madagascar                            291896.000000       33.000000   \n",
              "Macau                                 163989.600000       44.100000   \n",
              "Lao People's Democratic Republic      245271.500000       29.250000   \n",
              "\n",
              "                                            age     class        elapse  \n",
              "country                                                                  \n",
              "Turkmenistan                          29.000000  1.000000  77612.000000  \n",
              "Namibia                               28.739130  0.434783  25409.304348  \n",
              "Sri Lanka                             28.870968  0.419355  29327.419355  \n",
              "Luxembourg                            35.208333  0.388889  27950.486111  \n",
              "Virgin Islands (U.S.)                 29.333333  0.333333  48038.666667  \n",
              "Ecuador                               33.566038  0.264151  33062.273585  \n",
              "Tunisia                               32.796610  0.262712  33037.881356  \n",
              "Peru                                  34.344538  0.260504  35921.420168  \n",
              "Bolivia                               35.207547  0.245283  32774.132075  \n",
              "Kuwait                                34.155556  0.233333  35840.433333  \n",
              "Ireland                               33.808333  0.229167  35014.675000  \n",
              "New Zealand                           33.316547  0.223022  35451.758993  \n",
              "Uzbekistan                            33.600000  0.200000  58131.900000  \n",
              "Lithuania                             32.894737  0.189474  33833.168421  \n",
              "Saudi Arabia                          35.215909  0.189394  36561.454545  \n",
              "Malta                                 28.863636  0.181818  48378.681818  \n",
              "Afghanistan                           32.000000  0.166667  32762.500000  \n",
              "Cote D'ivoire                         41.833333  0.166667  54261.500000  \n",
              "Denmark                               34.048980  0.159184  38888.677551  \n",
              "Chile                                 32.889688  0.153477  38942.438849  \n",
              "Greece                                33.411255  0.142857  36488.151515  \n",
              "Malawi                                31.285714  0.142857  47690.714286  \n",
              "Montenegro                            30.857143  0.142857  41162.285714  \n",
              "United Arab Emirates                  35.201754  0.140351  36589.728070  \n",
              "Belgium                               33.701711  0.136919  39532.056235  \n",
              "Egypt                                 33.646240  0.133705  38081.582173  \n",
              "Costa Rica                            32.166667  0.133333  39049.700000  \n",
              "Armenia                               33.133333  0.133333  51212.933333  \n",
              "Venezuela                             32.733068  0.131474  36269.589641  \n",
              "Norway                                33.903120  0.129721  39065.234811  \n",
              "...                                         ...       ...           ...  \n",
              "Haiti                                 29.250000  0.000000  39470.500000  \n",
              "Guam                                  34.428571  0.000000  48174.000000  \n",
              "Guadeloupe                            27.000000  0.000000   3944.000000  \n",
              "Gambia                                39.000000  0.000000  78398.000000  \n",
              "Gibraltar                             29.500000  0.000000  35424.000000  \n",
              "Ghana                                 30.090909  0.000000  43989.272727  \n",
              "Lesotho                               35.500000  0.000000  36734.000000  \n",
              "Congo The Democratic Republic of The  25.666667  0.000000  26991.000000  \n",
              "Puerto Rico                           30.766667  0.000000  36792.033333  \n",
              "Congo                                 31.333333  0.000000  27782.000000  \n",
              "Papua New Guinea                      40.250000  0.000000  42653.250000  \n",
              "Palestinian Territory Occupied        36.437500  0.000000  48593.500000  \n",
              "Oman                                  33.146341  0.000000  35847.609756  \n",
              "Burkina Faso                          30.000000  0.000000  63797.500000  \n",
              "Burundi                               24.000000  0.000000  26582.000000  \n",
              "New Caledonia                         27.200000  0.000000  42434.600000  \n",
              "Nepal                                 34.277778  0.000000  32343.833333  \n",
              "Nauru                                 30.000000  0.000000  19905.000000  \n",
              "Cambodia                              29.000000  0.000000  41098.066667  \n",
              "Myanmar                               37.000000  0.000000  53759.000000  \n",
              "Mozambique                            32.687500  0.000000  37006.625000  \n",
              "Cameroon                              33.000000  0.000000  38950.800000  \n",
              "Mongolia                              25.666667  0.000000  33806.666667  \n",
              "Monaco                                40.333333  0.000000  46681.000000  \n",
              "Cape Verde                            51.000000  0.000000  65344.000000  \n",
              "Cayman Islands                        34.500000  0.000000  27153.000000  \n",
              "Maldives                              39.000000  0.000000  53607.500000  \n",
              "Madagascar                            43.000000  0.000000  77884.000000  \n",
              "Macau                                 31.800000  0.000000  32741.600000  \n",
              "Lao People's Democratic Republic      32.250000  0.000000  38573.250000  \n",
              "\n",
              "[182 rows x 5 columns]"
            ]
          },
          "metadata": {
            "tags": []
          },
          "execution_count": 42
        }
      ]
    },
    {
      "cell_type": "code",
      "metadata": {
        "id": "RIMdn2LQThia",
        "colab_type": "code",
        "colab": {}
      },
      "source": [
        "fraud[\"cl_country\"] = fraud.country.apply(lambda x : country_class.loc[x][\"class\"])"
      ],
      "execution_count": 0,
      "outputs": []
    },
    {
      "cell_type": "code",
      "metadata": {
        "id": "7f8ldfFjThib",
        "colab_type": "code",
        "outputId": "f6c19001-9c1d-4176-a098-b5ed432d903b",
        "colab": {}
      },
      "source": [
        "fraud.head(20)"
      ],
      "execution_count": 0,
      "outputs": [
        {
          "output_type": "execute_result",
          "data": {
            "text/html": [
              "<div>\n",
              "<style scoped>\n",
              "    .dataframe tbody tr th:only-of-type {\n",
              "        vertical-align: middle;\n",
              "    }\n",
              "\n",
              "    .dataframe tbody tr th {\n",
              "        vertical-align: top;\n",
              "    }\n",
              "\n",
              "    .dataframe thead th {\n",
              "        text-align: right;\n",
              "    }\n",
              "</style>\n",
              "<table border=\"1\" class=\"dataframe\">\n",
              "  <thead>\n",
              "    <tr style=\"text-align: right;\">\n",
              "      <th></th>\n",
              "      <th>user_id</th>\n",
              "      <th>signup_time</th>\n",
              "      <th>purchase_time</th>\n",
              "      <th>purchase_value</th>\n",
              "      <th>device_id</th>\n",
              "      <th>source</th>\n",
              "      <th>browser</th>\n",
              "      <th>sex</th>\n",
              "      <th>age</th>\n",
              "      <th>class</th>\n",
              "      <th>country</th>\n",
              "      <th>elapse</th>\n",
              "      <th>cl_country</th>\n",
              "    </tr>\n",
              "  </thead>\n",
              "  <tbody>\n",
              "    <tr>\n",
              "      <th>0</th>\n",
              "      <td>22058</td>\n",
              "      <td>2015-02-24 22:55:49</td>\n",
              "      <td>2015-04-18 02:47:11</td>\n",
              "      <td>34</td>\n",
              "      <td>QVPSPJUOCKZAR</td>\n",
              "      <td>SEO</td>\n",
              "      <td>Chrome</td>\n",
              "      <td>M</td>\n",
              "      <td>39</td>\n",
              "      <td>0</td>\n",
              "      <td>Japan</td>\n",
              "      <td>13882</td>\n",
              "      <td>0.097865</td>\n",
              "    </tr>\n",
              "    <tr>\n",
              "      <th>1</th>\n",
              "      <td>333320</td>\n",
              "      <td>2015-06-07 20:39:50</td>\n",
              "      <td>2015-06-08 01:38:54</td>\n",
              "      <td>16</td>\n",
              "      <td>EOGFQPIZPYXFZ</td>\n",
              "      <td>Ads</td>\n",
              "      <td>Chrome</td>\n",
              "      <td>F</td>\n",
              "      <td>53</td>\n",
              "      <td>0</td>\n",
              "      <td>United States</td>\n",
              "      <td>17944</td>\n",
              "      <td>0.095626</td>\n",
              "    </tr>\n",
              "    <tr>\n",
              "      <th>2</th>\n",
              "      <td>1359</td>\n",
              "      <td>2015-01-01 18:52:44</td>\n",
              "      <td>2015-01-01 18:52:45</td>\n",
              "      <td>15</td>\n",
              "      <td>YSSKYOSJHPPLJ</td>\n",
              "      <td>SEO</td>\n",
              "      <td>Opera</td>\n",
              "      <td>M</td>\n",
              "      <td>53</td>\n",
              "      <td>1</td>\n",
              "      <td>United States</td>\n",
              "      <td>1</td>\n",
              "      <td>0.095626</td>\n",
              "    </tr>\n",
              "    <tr>\n",
              "      <th>3</th>\n",
              "      <td>150084</td>\n",
              "      <td>2015-04-28 21:13:25</td>\n",
              "      <td>2015-05-04 13:54:50</td>\n",
              "      <td>44</td>\n",
              "      <td>ATGTXKYKUDUQN</td>\n",
              "      <td>SEO</td>\n",
              "      <td>Safari</td>\n",
              "      <td>M</td>\n",
              "      <td>41</td>\n",
              "      <td>0</td>\n",
              "      <td>unknown</td>\n",
              "      <td>60085</td>\n",
              "      <td>0.085723</td>\n",
              "    </tr>\n",
              "    <tr>\n",
              "      <th>4</th>\n",
              "      <td>221365</td>\n",
              "      <td>2015-07-21 07:09:52</td>\n",
              "      <td>2015-09-09 18:40:53</td>\n",
              "      <td>39</td>\n",
              "      <td>NAUITBZFJKHWW</td>\n",
              "      <td>Ads</td>\n",
              "      <td>Safari</td>\n",
              "      <td>M</td>\n",
              "      <td>45</td>\n",
              "      <td>0</td>\n",
              "      <td>United States</td>\n",
              "      <td>41461</td>\n",
              "      <td>0.095626</td>\n",
              "    </tr>\n",
              "    <tr>\n",
              "      <th>5</th>\n",
              "      <td>159135</td>\n",
              "      <td>2015-05-21 06:03:03</td>\n",
              "      <td>2015-07-09 08:05:14</td>\n",
              "      <td>42</td>\n",
              "      <td>ALEYXFXINSXLZ</td>\n",
              "      <td>Ads</td>\n",
              "      <td>Chrome</td>\n",
              "      <td>M</td>\n",
              "      <td>18</td>\n",
              "      <td>0</td>\n",
              "      <td>Canada</td>\n",
              "      <td>7331</td>\n",
              "      <td>0.116975</td>\n",
              "    </tr>\n",
              "    <tr>\n",
              "      <th>6</th>\n",
              "      <td>50116</td>\n",
              "      <td>2015-08-01 22:40:52</td>\n",
              "      <td>2015-08-27 03:37:57</td>\n",
              "      <td>11</td>\n",
              "      <td>IWKVZHJOCLPUR</td>\n",
              "      <td>Ads</td>\n",
              "      <td>Chrome</td>\n",
              "      <td>F</td>\n",
              "      <td>19</td>\n",
              "      <td>0</td>\n",
              "      <td>unknown</td>\n",
              "      <td>17825</td>\n",
              "      <td>0.085723</td>\n",
              "    </tr>\n",
              "    <tr>\n",
              "      <th>7</th>\n",
              "      <td>360585</td>\n",
              "      <td>2015-04-06 07:35:45</td>\n",
              "      <td>2015-05-25 17:21:14</td>\n",
              "      <td>27</td>\n",
              "      <td>HPUCUYLMJBYFW</td>\n",
              "      <td>Ads</td>\n",
              "      <td>Opera</td>\n",
              "      <td>M</td>\n",
              "      <td>34</td>\n",
              "      <td>0</td>\n",
              "      <td>United States</td>\n",
              "      <td>35129</td>\n",
              "      <td>0.095626</td>\n",
              "    </tr>\n",
              "    <tr>\n",
              "      <th>8</th>\n",
              "      <td>159045</td>\n",
              "      <td>2015-04-21 23:38:34</td>\n",
              "      <td>2015-06-02 14:01:54</td>\n",
              "      <td>30</td>\n",
              "      <td>ILXYDOZIHOOHT</td>\n",
              "      <td>SEO</td>\n",
              "      <td>IE</td>\n",
              "      <td>F</td>\n",
              "      <td>43</td>\n",
              "      <td>0</td>\n",
              "      <td>China</td>\n",
              "      <td>51800</td>\n",
              "      <td>0.086642</td>\n",
              "    </tr>\n",
              "    <tr>\n",
              "      <th>9</th>\n",
              "      <td>182338</td>\n",
              "      <td>2015-01-25 17:49:49</td>\n",
              "      <td>2015-03-23 23:05:42</td>\n",
              "      <td>62</td>\n",
              "      <td>NRFFPPHZYFUVC</td>\n",
              "      <td>Ads</td>\n",
              "      <td>IE</td>\n",
              "      <td>M</td>\n",
              "      <td>31</td>\n",
              "      <td>0</td>\n",
              "      <td>United States</td>\n",
              "      <td>18953</td>\n",
              "      <td>0.095626</td>\n",
              "    </tr>\n",
              "    <tr>\n",
              "      <th>10</th>\n",
              "      <td>199700</td>\n",
              "      <td>2015-07-11 18:26:54</td>\n",
              "      <td>2015-10-28 21:59:40</td>\n",
              "      <td>13</td>\n",
              "      <td>TEPSJVVXGNTYR</td>\n",
              "      <td>Ads</td>\n",
              "      <td>Safari</td>\n",
              "      <td>F</td>\n",
              "      <td>35</td>\n",
              "      <td>0</td>\n",
              "      <td>United States</td>\n",
              "      <td>12766</td>\n",
              "      <td>0.095626</td>\n",
              "    </tr>\n",
              "    <tr>\n",
              "      <th>11</th>\n",
              "      <td>73884</td>\n",
              "      <td>2015-05-29 16:22:02</td>\n",
              "      <td>2015-06-16 05:45:58</td>\n",
              "      <td>58</td>\n",
              "      <td>ZTZZJUCRDOCJZ</td>\n",
              "      <td>Direct</td>\n",
              "      <td>Chrome</td>\n",
              "      <td>M</td>\n",
              "      <td>32</td>\n",
              "      <td>0</td>\n",
              "      <td>unknown</td>\n",
              "      <td>48236</td>\n",
              "      <td>0.085723</td>\n",
              "    </tr>\n",
              "    <tr>\n",
              "      <th>12</th>\n",
              "      <td>79203</td>\n",
              "      <td>2015-06-16 21:19:35</td>\n",
              "      <td>2015-06-21 03:29:59</td>\n",
              "      <td>18</td>\n",
              "      <td>IBPNKSMCKUZWD</td>\n",
              "      <td>SEO</td>\n",
              "      <td>Safari</td>\n",
              "      <td>M</td>\n",
              "      <td>33</td>\n",
              "      <td>0</td>\n",
              "      <td>unknown</td>\n",
              "      <td>22224</td>\n",
              "      <td>0.085723</td>\n",
              "    </tr>\n",
              "    <tr>\n",
              "      <th>13</th>\n",
              "      <td>299320</td>\n",
              "      <td>2015-03-03 19:17:07</td>\n",
              "      <td>2015-04-05 12:32:36</td>\n",
              "      <td>50</td>\n",
              "      <td>RMKQNVEWGTWPC</td>\n",
              "      <td>Direct</td>\n",
              "      <td>Safari</td>\n",
              "      <td>M</td>\n",
              "      <td>38</td>\n",
              "      <td>0</td>\n",
              "      <td>Brazil</td>\n",
              "      <td>62129</td>\n",
              "      <td>0.091185</td>\n",
              "    </tr>\n",
              "    <tr>\n",
              "      <th>14</th>\n",
              "      <td>82931</td>\n",
              "      <td>2015-02-16 02:50:30</td>\n",
              "      <td>2015-04-16 00:56:47</td>\n",
              "      <td>15</td>\n",
              "      <td>XKIFNYUZMBWFU</td>\n",
              "      <td>SEO</td>\n",
              "      <td>IE</td>\n",
              "      <td>M</td>\n",
              "      <td>24</td>\n",
              "      <td>0</td>\n",
              "      <td>unknown</td>\n",
              "      <td>79577</td>\n",
              "      <td>0.085723</td>\n",
              "    </tr>\n",
              "    <tr>\n",
              "      <th>15</th>\n",
              "      <td>31383</td>\n",
              "      <td>2015-02-01 01:06:17</td>\n",
              "      <td>2015-03-24 10:17:58</td>\n",
              "      <td>58</td>\n",
              "      <td>UNUAVQXNWFBMO</td>\n",
              "      <td>SEO</td>\n",
              "      <td>Safari</td>\n",
              "      <td>F</td>\n",
              "      <td>24</td>\n",
              "      <td>0</td>\n",
              "      <td>India</td>\n",
              "      <td>33101</td>\n",
              "      <td>0.115267</td>\n",
              "    </tr>\n",
              "    <tr>\n",
              "      <th>16</th>\n",
              "      <td>78986</td>\n",
              "      <td>2015-05-15 03:52:08</td>\n",
              "      <td>2015-08-11 02:29:47</td>\n",
              "      <td>57</td>\n",
              "      <td>TGHVAWBMZRDHH</td>\n",
              "      <td>SEO</td>\n",
              "      <td>FireFox</td>\n",
              "      <td>M</td>\n",
              "      <td>23</td>\n",
              "      <td>0</td>\n",
              "      <td>United States</td>\n",
              "      <td>81459</td>\n",
              "      <td>0.095626</td>\n",
              "    </tr>\n",
              "    <tr>\n",
              "      <th>17</th>\n",
              "      <td>119824</td>\n",
              "      <td>2015-03-20 00:31:27</td>\n",
              "      <td>2015-04-05 07:31:46</td>\n",
              "      <td>55</td>\n",
              "      <td>WFIIFCPIOGMHT</td>\n",
              "      <td>Ads</td>\n",
              "      <td>Safari</td>\n",
              "      <td>M</td>\n",
              "      <td>38</td>\n",
              "      <td>0</td>\n",
              "      <td>unknown</td>\n",
              "      <td>25219</td>\n",
              "      <td>0.085723</td>\n",
              "    </tr>\n",
              "    <tr>\n",
              "      <th>18</th>\n",
              "      <td>357386</td>\n",
              "      <td>2015-02-03 00:48:38</td>\n",
              "      <td>2015-03-24 18:27:23</td>\n",
              "      <td>40</td>\n",
              "      <td>NWSVDOHYIOBDR</td>\n",
              "      <td>Ads</td>\n",
              "      <td>FireFox</td>\n",
              "      <td>M</td>\n",
              "      <td>24</td>\n",
              "      <td>0</td>\n",
              "      <td>Argentina</td>\n",
              "      <td>63525</td>\n",
              "      <td>0.099849</td>\n",
              "    </tr>\n",
              "    <tr>\n",
              "      <th>19</th>\n",
              "      <td>289172</td>\n",
              "      <td>2015-07-17 05:48:45</td>\n",
              "      <td>2015-11-12 22:08:11</td>\n",
              "      <td>46</td>\n",
              "      <td>KFZGQIWDIRLZB</td>\n",
              "      <td>Direct</td>\n",
              "      <td>FireFox</td>\n",
              "      <td>F</td>\n",
              "      <td>53</td>\n",
              "      <td>0</td>\n",
              "      <td>United Kingdom</td>\n",
              "      <td>58766</td>\n",
              "      <td>0.106236</td>\n",
              "    </tr>\n",
              "  </tbody>\n",
              "</table>\n",
              "</div>"
            ],
            "text/plain": [
              "    user_id          signup_time        purchase_time  purchase_value  \\\n",
              "0     22058  2015-02-24 22:55:49  2015-04-18 02:47:11              34   \n",
              "1    333320  2015-06-07 20:39:50  2015-06-08 01:38:54              16   \n",
              "2      1359  2015-01-01 18:52:44  2015-01-01 18:52:45              15   \n",
              "3    150084  2015-04-28 21:13:25  2015-05-04 13:54:50              44   \n",
              "4    221365  2015-07-21 07:09:52  2015-09-09 18:40:53              39   \n",
              "5    159135  2015-05-21 06:03:03  2015-07-09 08:05:14              42   \n",
              "6     50116  2015-08-01 22:40:52  2015-08-27 03:37:57              11   \n",
              "7    360585  2015-04-06 07:35:45  2015-05-25 17:21:14              27   \n",
              "8    159045  2015-04-21 23:38:34  2015-06-02 14:01:54              30   \n",
              "9    182338  2015-01-25 17:49:49  2015-03-23 23:05:42              62   \n",
              "10   199700  2015-07-11 18:26:54  2015-10-28 21:59:40              13   \n",
              "11    73884  2015-05-29 16:22:02  2015-06-16 05:45:58              58   \n",
              "12    79203  2015-06-16 21:19:35  2015-06-21 03:29:59              18   \n",
              "13   299320  2015-03-03 19:17:07  2015-04-05 12:32:36              50   \n",
              "14    82931  2015-02-16 02:50:30  2015-04-16 00:56:47              15   \n",
              "15    31383  2015-02-01 01:06:17  2015-03-24 10:17:58              58   \n",
              "16    78986  2015-05-15 03:52:08  2015-08-11 02:29:47              57   \n",
              "17   119824  2015-03-20 00:31:27  2015-04-05 07:31:46              55   \n",
              "18   357386  2015-02-03 00:48:38  2015-03-24 18:27:23              40   \n",
              "19   289172  2015-07-17 05:48:45  2015-11-12 22:08:11              46   \n",
              "\n",
              "        device_id  source  browser sex  age  class         country  elapse  \\\n",
              "0   QVPSPJUOCKZAR     SEO   Chrome   M   39      0           Japan   13882   \n",
              "1   EOGFQPIZPYXFZ     Ads   Chrome   F   53      0   United States   17944   \n",
              "2   YSSKYOSJHPPLJ     SEO    Opera   M   53      1   United States       1   \n",
              "3   ATGTXKYKUDUQN     SEO   Safari   M   41      0         unknown   60085   \n",
              "4   NAUITBZFJKHWW     Ads   Safari   M   45      0   United States   41461   \n",
              "5   ALEYXFXINSXLZ     Ads   Chrome   M   18      0          Canada    7331   \n",
              "6   IWKVZHJOCLPUR     Ads   Chrome   F   19      0         unknown   17825   \n",
              "7   HPUCUYLMJBYFW     Ads    Opera   M   34      0   United States   35129   \n",
              "8   ILXYDOZIHOOHT     SEO       IE   F   43      0           China   51800   \n",
              "9   NRFFPPHZYFUVC     Ads       IE   M   31      0   United States   18953   \n",
              "10  TEPSJVVXGNTYR     Ads   Safari   F   35      0   United States   12766   \n",
              "11  ZTZZJUCRDOCJZ  Direct   Chrome   M   32      0         unknown   48236   \n",
              "12  IBPNKSMCKUZWD     SEO   Safari   M   33      0         unknown   22224   \n",
              "13  RMKQNVEWGTWPC  Direct   Safari   M   38      0          Brazil   62129   \n",
              "14  XKIFNYUZMBWFU     SEO       IE   M   24      0         unknown   79577   \n",
              "15  UNUAVQXNWFBMO     SEO   Safari   F   24      0           India   33101   \n",
              "16  TGHVAWBMZRDHH     SEO  FireFox   M   23      0   United States   81459   \n",
              "17  WFIIFCPIOGMHT     Ads   Safari   M   38      0         unknown   25219   \n",
              "18  NWSVDOHYIOBDR     Ads  FireFox   M   24      0       Argentina   63525   \n",
              "19  KFZGQIWDIRLZB  Direct  FireFox   F   53      0  United Kingdom   58766   \n",
              "\n",
              "    cl_country  \n",
              "0     0.097865  \n",
              "1     0.095626  \n",
              "2     0.095626  \n",
              "3     0.085723  \n",
              "4     0.095626  \n",
              "5     0.116975  \n",
              "6     0.085723  \n",
              "7     0.095626  \n",
              "8     0.086642  \n",
              "9     0.095626  \n",
              "10    0.095626  \n",
              "11    0.085723  \n",
              "12    0.085723  \n",
              "13    0.091185  \n",
              "14    0.085723  \n",
              "15    0.115267  \n",
              "16    0.095626  \n",
              "17    0.085723  \n",
              "18    0.099849  \n",
              "19    0.106236  "
            ]
          },
          "metadata": {
            "tags": []
          },
          "execution_count": 44
        }
      ]
    },
    {
      "cell_type": "code",
      "metadata": {
        "id": "L7cT9-uzThii",
        "colab_type": "code",
        "colab": {}
      },
      "source": [
        "from sklearn.preprocessing import KBinsDiscretizer"
      ],
      "execution_count": 0,
      "outputs": []
    },
    {
      "cell_type": "code",
      "metadata": {
        "id": "QyC4BaAbThij",
        "colab_type": "code",
        "colab": {}
      },
      "source": [
        "fraud_final = fraud.drop([\"signup_time\",\"purchase_time\",\"country\",\"user_id\",\"device_id\"],axis = 1)"
      ],
      "execution_count": 0,
      "outputs": []
    },
    {
      "cell_type": "code",
      "metadata": {
        "id": "2r_22U0wThil",
        "colab_type": "code",
        "colab": {}
      },
      "source": [
        "fraud_final = pd.get_dummies(fraud_final)"
      ],
      "execution_count": 0,
      "outputs": []
    },
    {
      "cell_type": "code",
      "metadata": {
        "id": "GOqvc537Thin",
        "colab_type": "code",
        "outputId": "6e3ef5c8-e098-49c3-c4c6-df8da6ff9351",
        "colab": {}
      },
      "source": [
        "fraud_final.shape"
      ],
      "execution_count": 0,
      "outputs": [
        {
          "output_type": "execute_result",
          "data": {
            "text/plain": [
              "(151112, 15)"
            ]
          },
          "metadata": {
            "tags": []
          },
          "execution_count": 48
        }
      ]
    },
    {
      "cell_type": "code",
      "metadata": {
        "id": "qdx9tDV2Thip",
        "colab_type": "code",
        "outputId": "ab7ec0c1-f557-45af-f648-337ca441e8e7",
        "colab": {}
      },
      "source": [
        "fraud_final.head()"
      ],
      "execution_count": 0,
      "outputs": [
        {
          "output_type": "execute_result",
          "data": {
            "text/html": [
              "<div>\n",
              "<style scoped>\n",
              "    .dataframe tbody tr th:only-of-type {\n",
              "        vertical-align: middle;\n",
              "    }\n",
              "\n",
              "    .dataframe tbody tr th {\n",
              "        vertical-align: top;\n",
              "    }\n",
              "\n",
              "    .dataframe thead th {\n",
              "        text-align: right;\n",
              "    }\n",
              "</style>\n",
              "<table border=\"1\" class=\"dataframe\">\n",
              "  <thead>\n",
              "    <tr style=\"text-align: right;\">\n",
              "      <th></th>\n",
              "      <th>purchase_value</th>\n",
              "      <th>age</th>\n",
              "      <th>class</th>\n",
              "      <th>elapse</th>\n",
              "      <th>cl_country</th>\n",
              "      <th>source_Ads</th>\n",
              "      <th>source_Direct</th>\n",
              "      <th>source_SEO</th>\n",
              "      <th>browser_Chrome</th>\n",
              "      <th>browser_FireFox</th>\n",
              "      <th>browser_IE</th>\n",
              "      <th>browser_Opera</th>\n",
              "      <th>browser_Safari</th>\n",
              "      <th>sex_F</th>\n",
              "      <th>sex_M</th>\n",
              "    </tr>\n",
              "  </thead>\n",
              "  <tbody>\n",
              "    <tr>\n",
              "      <th>0</th>\n",
              "      <td>34</td>\n",
              "      <td>39</td>\n",
              "      <td>0</td>\n",
              "      <td>13882</td>\n",
              "      <td>0.097865</td>\n",
              "      <td>0</td>\n",
              "      <td>0</td>\n",
              "      <td>1</td>\n",
              "      <td>1</td>\n",
              "      <td>0</td>\n",
              "      <td>0</td>\n",
              "      <td>0</td>\n",
              "      <td>0</td>\n",
              "      <td>0</td>\n",
              "      <td>1</td>\n",
              "    </tr>\n",
              "    <tr>\n",
              "      <th>1</th>\n",
              "      <td>16</td>\n",
              "      <td>53</td>\n",
              "      <td>0</td>\n",
              "      <td>17944</td>\n",
              "      <td>0.095626</td>\n",
              "      <td>1</td>\n",
              "      <td>0</td>\n",
              "      <td>0</td>\n",
              "      <td>1</td>\n",
              "      <td>0</td>\n",
              "      <td>0</td>\n",
              "      <td>0</td>\n",
              "      <td>0</td>\n",
              "      <td>1</td>\n",
              "      <td>0</td>\n",
              "    </tr>\n",
              "    <tr>\n",
              "      <th>2</th>\n",
              "      <td>15</td>\n",
              "      <td>53</td>\n",
              "      <td>1</td>\n",
              "      <td>1</td>\n",
              "      <td>0.095626</td>\n",
              "      <td>0</td>\n",
              "      <td>0</td>\n",
              "      <td>1</td>\n",
              "      <td>0</td>\n",
              "      <td>0</td>\n",
              "      <td>0</td>\n",
              "      <td>1</td>\n",
              "      <td>0</td>\n",
              "      <td>0</td>\n",
              "      <td>1</td>\n",
              "    </tr>\n",
              "    <tr>\n",
              "      <th>3</th>\n",
              "      <td>44</td>\n",
              "      <td>41</td>\n",
              "      <td>0</td>\n",
              "      <td>60085</td>\n",
              "      <td>0.085723</td>\n",
              "      <td>0</td>\n",
              "      <td>0</td>\n",
              "      <td>1</td>\n",
              "      <td>0</td>\n",
              "      <td>0</td>\n",
              "      <td>0</td>\n",
              "      <td>0</td>\n",
              "      <td>1</td>\n",
              "      <td>0</td>\n",
              "      <td>1</td>\n",
              "    </tr>\n",
              "    <tr>\n",
              "      <th>4</th>\n",
              "      <td>39</td>\n",
              "      <td>45</td>\n",
              "      <td>0</td>\n",
              "      <td>41461</td>\n",
              "      <td>0.095626</td>\n",
              "      <td>1</td>\n",
              "      <td>0</td>\n",
              "      <td>0</td>\n",
              "      <td>0</td>\n",
              "      <td>0</td>\n",
              "      <td>0</td>\n",
              "      <td>0</td>\n",
              "      <td>1</td>\n",
              "      <td>0</td>\n",
              "      <td>1</td>\n",
              "    </tr>\n",
              "  </tbody>\n",
              "</table>\n",
              "</div>"
            ],
            "text/plain": [
              "   purchase_value  age  class  elapse  cl_country  source_Ads  source_Direct  \\\n",
              "0              34   39      0   13882    0.097865           0              0   \n",
              "1              16   53      0   17944    0.095626           1              0   \n",
              "2              15   53      1       1    0.095626           0              0   \n",
              "3              44   41      0   60085    0.085723           0              0   \n",
              "4              39   45      0   41461    0.095626           1              0   \n",
              "\n",
              "   source_SEO  browser_Chrome  browser_FireFox  browser_IE  browser_Opera  \\\n",
              "0           1               1                0           0              0   \n",
              "1           0               1                0           0              0   \n",
              "2           1               0                0           0              1   \n",
              "3           1               0                0           0              0   \n",
              "4           0               0                0           0              0   \n",
              "\n",
              "   browser_Safari  sex_F  sex_M  \n",
              "0               0      0      1  \n",
              "1               0      1      0  \n",
              "2               0      0      1  \n",
              "3               1      0      1  \n",
              "4               1      0      1  "
            ]
          },
          "metadata": {
            "tags": []
          },
          "execution_count": 49
        }
      ]
    },
    {
      "cell_type": "code",
      "metadata": {
        "id": "HdZXyidcThit",
        "colab_type": "code",
        "colab": {}
      },
      "source": [
        "X = fraud_final.drop(\"class\",axis =1)\n",
        "y = fraud_final[\"class\"]"
      ],
      "execution_count": 0,
      "outputs": []
    },
    {
      "cell_type": "code",
      "metadata": {
        "id": "rW3IpVVlThiu",
        "colab_type": "code",
        "colab": {}
      },
      "source": [
        "from sklearn.model_selection import train_test_split\n",
        "X_train, X_test, y_train, y_test = train_test_split(X,y,test_size = 0.3,stratify = y,random_state=42)\n",
        "\n",
        "from sklearn.preprocessing import StandardScaler\n",
        "sc = StandardScaler()\n",
        "\n",
        "X_train = sc.fit_transform(X_train)\n",
        "X_test = sc.transform(X_test)"
      ],
      "execution_count": 0,
      "outputs": []
    },
    {
      "cell_type": "code",
      "metadata": {
        "id": "pukWNK7aThiv",
        "colab_type": "code",
        "colab": {}
      },
      "source": [
        "#X_train_rf = pd.DataFrame(X_train, columns=fraud_final.drop(\"class\",axis =1).columns).drop(\"elapse\",axis = 1)\n",
        "#X_train_rf\n",
        "#X_test_rf = pd.DataFrame(X_test, columns=fraud_final.drop(\"class\",axis =1).columns).drop(\"elapse\",axis = 1)\n"
      ],
      "execution_count": 0,
      "outputs": []
    },
    {
      "cell_type": "code",
      "metadata": {
        "id": "XxjzrWEjThiw",
        "colab_type": "code",
        "colab": {}
      },
      "source": [
        "from sklearn.ensemble import RandomForestClassifier"
      ],
      "execution_count": 0,
      "outputs": []
    },
    {
      "cell_type": "code",
      "metadata": {
        "id": "ZR-_cju7Thix",
        "colab_type": "code",
        "colab": {}
      },
      "source": [
        "rf = RandomForestClassifier(n_estimators=200, max_depth=4,random_state=0,class_weight=\"balanced\")"
      ],
      "execution_count": 0,
      "outputs": []
    },
    {
      "cell_type": "code",
      "metadata": {
        "id": "pFbkwbgYThiy",
        "colab_type": "code",
        "outputId": "dba2bdc9-7c7e-4601-d0ae-629de3e6b975",
        "colab": {}
      },
      "source": [
        "from sklearn.model_selection import GridSearchCV\n",
        "parameters = {'n_estimators':[20,50,100], 'max_depth':[ 3, 5]}\n",
        "rf_grid = GridSearchCV(rf, parameters, cv=5)\n",
        "rf_grid.fit(X_train, y_train)\n"
      ],
      "execution_count": 0,
      "outputs": [
        {
          "output_type": "execute_result",
          "data": {
            "text/plain": [
              "GridSearchCV(cv=5, error_score='raise-deprecating',\n",
              "             estimator=RandomForestClassifier(bootstrap=True,\n",
              "                                              class_weight='balanced',\n",
              "                                              criterion='gini', max_depth=4,\n",
              "                                              max_features='auto',\n",
              "                                              max_leaf_nodes=None,\n",
              "                                              min_impurity_decrease=0.0,\n",
              "                                              min_impurity_split=None,\n",
              "                                              min_samples_leaf=1,\n",
              "                                              min_samples_split=2,\n",
              "                                              min_weight_fraction_leaf=0.0,\n",
              "                                              n_estimators=200, n_jobs=None,\n",
              "                                              oob_score=False, random_state=0,\n",
              "                                              verbose=0, warm_start=False),\n",
              "             iid='warn', n_jobs=None,\n",
              "             param_grid={'max_depth': [3, 5], 'n_estimators': [20, 50, 100]},\n",
              "             pre_dispatch='2*n_jobs', refit=True, return_train_score=False,\n",
              "             scoring=None, verbose=0)"
            ]
          },
          "metadata": {
            "tags": []
          },
          "execution_count": 55
        }
      ]
    },
    {
      "cell_type": "code",
      "metadata": {
        "id": "utVuy2SXThiz",
        "colab_type": "code",
        "outputId": "ee9c4160-5452-457f-f5da-29e3cb730b26",
        "colab": {}
      },
      "source": [
        "rf_grid.best_estimator_.score(X_test,y_test)"
      ],
      "execution_count": 0,
      "outputs": [
        {
          "output_type": "execute_result",
          "data": {
            "text/plain": [
              "0.9562579962059381"
            ]
          },
          "metadata": {
            "tags": []
          },
          "execution_count": 56
        }
      ]
    },
    {
      "cell_type": "code",
      "metadata": {
        "id": "V2aptFThThi1",
        "colab_type": "code",
        "outputId": "6745884a-3559-4e19-f3f6-cca90a6adb8a",
        "colab": {}
      },
      "source": [
        "rf_grid.best_params_"
      ],
      "execution_count": 0,
      "outputs": [
        {
          "output_type": "execute_result",
          "data": {
            "text/plain": [
              "{'max_depth': 3, 'n_estimators': 50}"
            ]
          },
          "metadata": {
            "tags": []
          },
          "execution_count": 57
        }
      ]
    },
    {
      "cell_type": "code",
      "metadata": {
        "id": "gpK29x79Thi3",
        "colab_type": "code",
        "outputId": "ef1dd58d-6cb2-435d-dda5-1f9923810a10",
        "colab": {}
      },
      "source": [
        "X.head()"
      ],
      "execution_count": 0,
      "outputs": [
        {
          "output_type": "execute_result",
          "data": {
            "text/html": [
              "<div>\n",
              "<style scoped>\n",
              "    .dataframe tbody tr th:only-of-type {\n",
              "        vertical-align: middle;\n",
              "    }\n",
              "\n",
              "    .dataframe tbody tr th {\n",
              "        vertical-align: top;\n",
              "    }\n",
              "\n",
              "    .dataframe thead th {\n",
              "        text-align: right;\n",
              "    }\n",
              "</style>\n",
              "<table border=\"1\" class=\"dataframe\">\n",
              "  <thead>\n",
              "    <tr style=\"text-align: right;\">\n",
              "      <th></th>\n",
              "      <th>purchase_value</th>\n",
              "      <th>age</th>\n",
              "      <th>elapse</th>\n",
              "      <th>cl_country</th>\n",
              "      <th>source_Ads</th>\n",
              "      <th>source_Direct</th>\n",
              "      <th>source_SEO</th>\n",
              "      <th>browser_Chrome</th>\n",
              "      <th>browser_FireFox</th>\n",
              "      <th>browser_IE</th>\n",
              "      <th>browser_Opera</th>\n",
              "      <th>browser_Safari</th>\n",
              "      <th>sex_F</th>\n",
              "      <th>sex_M</th>\n",
              "    </tr>\n",
              "  </thead>\n",
              "  <tbody>\n",
              "    <tr>\n",
              "      <th>0</th>\n",
              "      <td>34</td>\n",
              "      <td>39</td>\n",
              "      <td>13882</td>\n",
              "      <td>0.097865</td>\n",
              "      <td>0</td>\n",
              "      <td>0</td>\n",
              "      <td>1</td>\n",
              "      <td>1</td>\n",
              "      <td>0</td>\n",
              "      <td>0</td>\n",
              "      <td>0</td>\n",
              "      <td>0</td>\n",
              "      <td>0</td>\n",
              "      <td>1</td>\n",
              "    </tr>\n",
              "    <tr>\n",
              "      <th>1</th>\n",
              "      <td>16</td>\n",
              "      <td>53</td>\n",
              "      <td>17944</td>\n",
              "      <td>0.095626</td>\n",
              "      <td>1</td>\n",
              "      <td>0</td>\n",
              "      <td>0</td>\n",
              "      <td>1</td>\n",
              "      <td>0</td>\n",
              "      <td>0</td>\n",
              "      <td>0</td>\n",
              "      <td>0</td>\n",
              "      <td>1</td>\n",
              "      <td>0</td>\n",
              "    </tr>\n",
              "    <tr>\n",
              "      <th>2</th>\n",
              "      <td>15</td>\n",
              "      <td>53</td>\n",
              "      <td>1</td>\n",
              "      <td>0.095626</td>\n",
              "      <td>0</td>\n",
              "      <td>0</td>\n",
              "      <td>1</td>\n",
              "      <td>0</td>\n",
              "      <td>0</td>\n",
              "      <td>0</td>\n",
              "      <td>1</td>\n",
              "      <td>0</td>\n",
              "      <td>0</td>\n",
              "      <td>1</td>\n",
              "    </tr>\n",
              "    <tr>\n",
              "      <th>3</th>\n",
              "      <td>44</td>\n",
              "      <td>41</td>\n",
              "      <td>60085</td>\n",
              "      <td>0.085723</td>\n",
              "      <td>0</td>\n",
              "      <td>0</td>\n",
              "      <td>1</td>\n",
              "      <td>0</td>\n",
              "      <td>0</td>\n",
              "      <td>0</td>\n",
              "      <td>0</td>\n",
              "      <td>1</td>\n",
              "      <td>0</td>\n",
              "      <td>1</td>\n",
              "    </tr>\n",
              "    <tr>\n",
              "      <th>4</th>\n",
              "      <td>39</td>\n",
              "      <td>45</td>\n",
              "      <td>41461</td>\n",
              "      <td>0.095626</td>\n",
              "      <td>1</td>\n",
              "      <td>0</td>\n",
              "      <td>0</td>\n",
              "      <td>0</td>\n",
              "      <td>0</td>\n",
              "      <td>0</td>\n",
              "      <td>0</td>\n",
              "      <td>1</td>\n",
              "      <td>0</td>\n",
              "      <td>1</td>\n",
              "    </tr>\n",
              "  </tbody>\n",
              "</table>\n",
              "</div>"
            ],
            "text/plain": [
              "   purchase_value  age  elapse  cl_country  source_Ads  source_Direct  \\\n",
              "0              34   39   13882    0.097865           0              0   \n",
              "1              16   53   17944    0.095626           1              0   \n",
              "2              15   53       1    0.095626           0              0   \n",
              "3              44   41   60085    0.085723           0              0   \n",
              "4              39   45   41461    0.095626           1              0   \n",
              "\n",
              "   source_SEO  browser_Chrome  browser_FireFox  browser_IE  browser_Opera  \\\n",
              "0           1               1                0           0              0   \n",
              "1           0               1                0           0              0   \n",
              "2           1               0                0           0              1   \n",
              "3           1               0                0           0              0   \n",
              "4           0               0                0           0              0   \n",
              "\n",
              "   browser_Safari  sex_F  sex_M  \n",
              "0               0      0      1  \n",
              "1               0      1      0  \n",
              "2               0      0      1  \n",
              "3               1      0      1  \n",
              "4               1      0      1  "
            ]
          },
          "metadata": {
            "tags": []
          },
          "execution_count": 58
        }
      ]
    },
    {
      "cell_type": "code",
      "metadata": {
        "id": "x7AIPZC4Thi5",
        "colab_type": "code",
        "outputId": "271e9b9c-dac2-456f-ac75-57e4503f8baa",
        "colab": {}
      },
      "source": [
        "rf_grid.best_estimator_.feature_importances_.round(3)"
      ],
      "execution_count": 0,
      "outputs": [
        {
          "output_type": "execute_result",
          "data": {
            "text/plain": [
              "array([0.022, 0.031, 0.736, 0.13 , 0.014, 0.03 , 0.008, 0.011, 0.004,\n",
              "       0.01 , 0.001, 0.001, 0.001, 0.002])"
            ]
          },
          "metadata": {
            "tags": []
          },
          "execution_count": 59
        }
      ]
    },
    {
      "cell_type": "code",
      "metadata": {
        "id": "cp0bNb-zThi6",
        "colab_type": "code",
        "colab": {}
      },
      "source": [
        "from sklearn.metrics import roc_auc_score\n",
        "from sklearn.metrics import roc_curve\n",
        "import matplotlib.pyplot as plt"
      ],
      "execution_count": 0,
      "outputs": []
    },
    {
      "cell_type": "code",
      "metadata": {
        "id": "0jldet_vThi7",
        "colab_type": "code",
        "colab": {}
      },
      "source": [
        "def roc_plot(model,X,y):\n",
        "    logit_roc_auc = roc_auc_score(y, model.predict(X))\n",
        "    fpr, tpr, thresholds = roc_curve(y, model.predict_proba(X)[:,1])\n",
        "    plt.figure()\n",
        "    plt.plot(fpr, tpr, label='rf (area = %0.2f)' % logit_roc_auc)\n",
        "    plt.plot([0, 1], [0, 1],'r--')\n",
        "    plt.xlim([0.0, 1.0])\n",
        "    plt.ylim([0.0, 1.05])\n",
        "    plt.xlabel('False Positive Rate')\n",
        "    plt.ylabel('True Positive Rate')\n",
        "    plt.title('Receiver operating characteristic')\n",
        "    plt.legend(loc=\"lower right\")\n",
        "    plt.savefig('Log_ROC')\n",
        "    plt.show()"
      ],
      "execution_count": 0,
      "outputs": []
    },
    {
      "cell_type": "code",
      "metadata": {
        "id": "JU0JyQWVThi8",
        "colab_type": "code",
        "outputId": "9ee08de5-87bb-4e3e-d32e-6358877fd19c",
        "colab": {}
      },
      "source": [
        "roc_plot(rf_grid.best_estimator_,X_test,y_test)"
      ],
      "execution_count": 0,
      "outputs": [
        {
          "output_type": "display_data",
          "data": {
            "image/png": "[encoded data removed]",
            "text/plain": [
              "<Figure size 432x288 with 1 Axes>"
            ]
          },
          "metadata": {
            "tags": [],
            "needs_background": "light"
          }
        }
      ]
    },
    {
      "cell_type": "code",
      "metadata": {
        "id": "h-oYH3OWThi-",
        "colab_type": "code",
        "outputId": "0c170a89-0bef-4aed-a922-63844c1bc9ae",
        "colab": {}
      },
      "source": [
        "pip install -U imbalanced-learn"
      ],
      "execution_count": 0,
      "outputs": [
        {
          "output_type": "stream",
          "text": [
            "Requirement already up-to-date: imbalanced-learn in c:\\programdata\\anaconda3\\lib\\site-packages (0.5.0)\n",
            "Requirement already satisfied, skipping upgrade: numpy>=1.11 in c:\\programdata\\anaconda3\\lib\\site-packages (from imbalanced-learn) (1.16.2)\n",
            "Requirement already satisfied, skipping upgrade: scipy>=0.17 in c:\\programdata\\anaconda3\\lib\\site-packages (from imbalanced-learn) (1.2.1)\n",
            "Requirement already satisfied, skipping upgrade: scikit-learn>=0.21 in c:\\programdata\\anaconda3\\lib\\site-packages (from imbalanced-learn) (0.21.3)\n",
            "Requirement already satisfied, skipping upgrade: joblib>=0.11 in c:\\programdata\\anaconda3\\lib\\site-packages (from imbalanced-learn) (0.14.0)\n",
            "Note: you may need to restart the kernel to use updated packages.\n"
          ],
          "name": "stdout"
        }
      ]
    },
    {
      "cell_type": "code",
      "metadata": {
        "id": "CVdV27Y-Thi_",
        "colab_type": "code",
        "outputId": "ce09f0dc-e9e9-48d7-ea2c-b3117ddc03cc",
        "colab": {}
      },
      "source": [
        "from imblearn.combine import SMOTEENN\n",
        "comb_echant=SMOTEENN()\n",
        "\n",
        "#%%\n",
        "# on applique la méthode fit_sample() sur nos données\n",
        "X_comb, y_comb= comb_echant.fit_sample(X_train, y_train)\n",
        "# on le transforme en Series pour avoir un affichage plus agréable\n",
        "pd.Series(y_comb).value_counts()"
      ],
      "execution_count": 0,
      "outputs": [
        {
          "output_type": "execute_result",
          "data": {
            "text/plain": [
              "1    84796\n",
              "0    70543\n",
              "dtype: int64"
            ]
          },
          "metadata": {
            "tags": []
          },
          "execution_count": 63
        }
      ]
    },
    {
      "cell_type": "code",
      "metadata": {
        "id": "lcbtFmVYThjB",
        "colab_type": "code",
        "outputId": "47589116-0f7d-4fe7-f437-1fd16e61d25f",
        "colab": {}
      },
      "source": [
        "rf_grid.fit(X_comb, y_comb)"
      ],
      "execution_count": 0,
      "outputs": [
        {
          "output_type": "execute_result",
          "data": {
            "text/plain": [
              "GridSearchCV(cv=5, error_score='raise-deprecating',\n",
              "             estimator=RandomForestClassifier(bootstrap=True,\n",
              "                                              class_weight='balanced',\n",
              "                                              criterion='gini', max_depth=4,\n",
              "                                              max_features='auto',\n",
              "                                              max_leaf_nodes=None,\n",
              "                                              min_impurity_decrease=0.0,\n",
              "                                              min_impurity_split=None,\n",
              "                                              min_samples_leaf=1,\n",
              "                                              min_samples_split=2,\n",
              "                                              min_weight_fraction_leaf=0.0,\n",
              "                                              n_estimators=200, n_jobs=None,\n",
              "                                              oob_score=False, random_state=0,\n",
              "                                              verbose=0, warm_start=False),\n",
              "             iid='warn', n_jobs=None,\n",
              "             param_grid={'max_depth': [3, 5], 'n_estimators': [20, 50, 100]},\n",
              "             pre_dispatch='2*n_jobs', refit=True, return_train_score=False,\n",
              "             scoring=None, verbose=0)"
            ]
          },
          "metadata": {
            "tags": []
          },
          "execution_count": 64
        }
      ]
    },
    {
      "cell_type": "code",
      "metadata": {
        "id": "jUbgl9vMThjC",
        "colab_type": "code",
        "outputId": "169e59a7-a615-4559-80ae-73ad0ed7de86",
        "colab": {}
      },
      "source": [
        "rf_grid.score(X_test,y_test)"
      ],
      "execution_count": 0,
      "outputs": [
        {
          "output_type": "execute_result",
          "data": {
            "text/plain": [
              "0.948669872501875"
            ]
          },
          "metadata": {
            "tags": []
          },
          "execution_count": 65
        }
      ]
    },
    {
      "cell_type": "code",
      "metadata": {
        "id": "Cw8bcd2mThjE",
        "colab_type": "code",
        "outputId": "c3744656-e417-4100-8724-dd0386116b81",
        "colab": {}
      },
      "source": [
        "roc_plot(rf_grid.best_estimator_,X_test,y_test)"
      ],
      "execution_count": 0,
      "outputs": [
        {
          "output_type": "display_data",
          "data": {
            "image/png": "[encoded data removed]",
            "text/plain": [
              "<Figure size 432x288 with 1 Axes>"
            ]
          },
          "metadata": {
            "tags": [],
            "needs_background": "light"
          }
        }
      ]
    },
    {
      "cell_type": "code",
      "metadata": {
        "id": "JwpXvo0VThjF",
        "colab_type": "code",
        "outputId": "9edcfe83-0ce5-4d6d-f993-739ba5b88230",
        "colab": {}
      },
      "source": [
        "from sklearn.linear_model import LogisticRegression\n",
        "logisticreg = LogisticRegression(class_weight=\"balanced\") # on définit le modèle de régression logistique à appliquer aux données\n",
        "\n",
        "logisticreg.fit(X_train, y_train) # estimation du modèle\n",
        "logisticreg.score(X_test, y_test) # la précision du modèle"
      ],
      "execution_count": 0,
      "outputs": [
        {
          "output_type": "stream",
          "text": [
            "C:\\ProgramData\\Anaconda3\\lib\\site-packages\\sklearn\\linear_model\\logistic.py:432: FutureWarning: Default solver will be changed to 'lbfgs' in 0.22. Specify a solver to silence this warning.\n",
            "  FutureWarning)\n"
          ],
          "name": "stderr"
        },
        {
          "output_type": "execute_result",
          "data": {
            "text/plain": [
              "0.6532624520227643"
            ]
          },
          "metadata": {
            "tags": []
          },
          "execution_count": 67
        }
      ]
    },
    {
      "cell_type": "code",
      "metadata": {
        "id": "pb7tPg24ThjH",
        "colab_type": "code",
        "outputId": "81854371-2267-4cb4-8786-030d1a452639",
        "colab": {}
      },
      "source": [
        "roc_plot(logisticreg,X_test,y_test)"
      ],
      "execution_count": 0,
      "outputs": [
        {
          "output_type": "display_data",
          "data": {
            "image/png": "[encoded data removed]",
            "text/plain": [
              "<Figure size 432x288 with 1 Axes>"
            ]
          },
          "metadata": {
            "tags": [],
            "needs_background": "light"
          }
        }
      ]
    },
    {
      "cell_type": "code",
      "metadata": {
        "id": "e8NI0jXBThjJ",
        "colab_type": "code",
        "colab": {}
      },
      "source": [
        "import xgboost as xgb"
      ],
      "execution_count": 0,
      "outputs": []
    },
    {
      "cell_type": "code",
      "metadata": {
        "id": "BZGzgnzpThjK",
        "colab_type": "code",
        "colab": {}
      },
      "source": [
        "xgb_model = xgb.XGBClassifier(weight=\"balanced\",learning_rate =0.1,\n",
        " n_estimators=500,\n",
        " max_depth=3,\n",
        " gamma=0,\n",
        " subsample=0.8,\n",
        " colsample_bytree=0.8,\n",
        " objective= 'binary:logistic',\n",
        " nthread=4,\n",
        " scale_pos_weight=1, random_state=42)\n",
        "\n",
        "#xgb_model.fit(X, y)\n",
        "\n",
        "#y_pred = xgb_model.predict(X)"
      ],
      "execution_count": 0,
      "outputs": []
    },
    {
      "cell_type": "code",
      "metadata": {
        "id": "6Gj4K0hSThjL",
        "colab_type": "code",
        "outputId": "3e7948f6-f3d2-4b2d-e5cc-5288b7b9891c",
        "colab": {}
      },
      "source": [
        "xgb_model.fit(X_train, y_train)"
      ],
      "execution_count": 0,
      "outputs": [
        {
          "output_type": "execute_result",
          "data": {
            "text/plain": [
              "XGBClassifier(base_score=0.5, booster='gbtree', colsample_bylevel=1,\n",
              "              colsample_bynode=1, colsample_bytree=0.8, gamma=0,\n",
              "              learning_rate=0.1, max_delta_step=0, max_depth=3,\n",
              "              min_child_weight=1, missing=None, n_estimators=500, n_jobs=1,\n",
              "              nthread=4, objective='binary:logistic', random_state=42,\n",
              "              reg_alpha=0, reg_lambda=1, scale_pos_weight=1, seed=None,\n",
              "              silent=None, subsample=0.8, verbosity=1, weight='balanced')"
            ]
          },
          "metadata": {
            "tags": []
          },
          "execution_count": 71
        }
      ]
    },
    {
      "cell_type": "code",
      "metadata": {
        "id": "XPVoTXUYThjM",
        "colab_type": "code",
        "outputId": "c3152a1f-9761-403b-cc06-539d0bea2e09",
        "colab": {}
      },
      "source": [
        "xgb_model.score(X_test,y_test)"
      ],
      "execution_count": 0,
      "outputs": [
        {
          "output_type": "execute_result",
          "data": {
            "text/plain": [
              "0.9562579962059381"
            ]
          },
          "metadata": {
            "tags": []
          },
          "execution_count": 72
        }
      ]
    },
    {
      "cell_type": "code",
      "metadata": {
        "id": "L6T6Z_c7ThjO",
        "colab_type": "code",
        "colab": {}
      },
      "source": [
        "y_pred = xgb_model.predict(X_test)"
      ],
      "execution_count": 0,
      "outputs": []
    },
    {
      "cell_type": "code",
      "metadata": {
        "id": "GlnxtVVmThjP",
        "colab_type": "code",
        "outputId": "08f22d32-ccb3-4049-9423-1c55a1f7ea1b",
        "colab": {}
      },
      "source": [
        "roc_plot(xgb_model,X_test,y_test)"
      ],
      "execution_count": 0,
      "outputs": [
        {
          "output_type": "display_data",
          "data": {
            "image/png": "[encoded data removed]",
            "text/plain": [
              "<Figure size 432x288 with 1 Axes>"
            ]
          },
          "metadata": {
            "tags": [],
            "needs_background": "light"
          }
        }
      ]
    },
    {
      "cell_type": "code",
      "metadata": {
        "id": "feb496wIThjQ",
        "colab_type": "code",
        "outputId": "f9306c06-3eae-4e74-bb59-3a1fb601f800",
        "colab": {}
      },
      "source": [
        "type(X_test)"
      ],
      "execution_count": 0,
      "outputs": [
        {
          "output_type": "execute_result",
          "data": {
            "text/plain": [
              "numpy.ndarray"
            ]
          },
          "metadata": {
            "tags": []
          },
          "execution_count": 75
        }
      ]
    },
    {
      "cell_type": "code",
      "metadata": {
        "id": "lhzsdRMXThjR",
        "colab_type": "code",
        "colab": {}
      },
      "source": [
        "res = pd.DataFrame(X_test,columns = fraud_final.drop(\"class\", 1).columns)"
      ],
      "execution_count": 0,
      "outputs": []
    },
    {
      "cell_type": "code",
      "metadata": {
        "id": "ZuqsYHb6ThjS",
        "colab_type": "code",
        "colab": {}
      },
      "source": [
        "rep = pd.DataFrame(y_test)"
      ],
      "execution_count": 0,
      "outputs": []
    },
    {
      "cell_type": "code",
      "metadata": {
        "id": "Q4sbyT5LThjT",
        "colab_type": "code",
        "outputId": "e02085c1-a6cb-4d7f-c346-686d3e66c90b",
        "colab": {}
      },
      "source": [
        "res.head()"
      ],
      "execution_count": 0,
      "outputs": [
        {
          "output_type": "execute_result",
          "data": {
            "text/html": [
              "<div>\n",
              "<style scoped>\n",
              "    .dataframe tbody tr th:only-of-type {\n",
              "        vertical-align: middle;\n",
              "    }\n",
              "\n",
              "    .dataframe tbody tr th {\n",
              "        vertical-align: top;\n",
              "    }\n",
              "\n",
              "    .dataframe thead th {\n",
              "        text-align: right;\n",
              "    }\n",
              "</style>\n",
              "<table border=\"1\" class=\"dataframe\">\n",
              "  <thead>\n",
              "    <tr style=\"text-align: right;\">\n",
              "      <th></th>\n",
              "      <th>purchase_value</th>\n",
              "      <th>age</th>\n",
              "      <th>elapse</th>\n",
              "      <th>cl_country</th>\n",
              "      <th>source_Ads</th>\n",
              "      <th>source_Direct</th>\n",
              "      <th>source_SEO</th>\n",
              "      <th>browser_Chrome</th>\n",
              "      <th>browser_FireFox</th>\n",
              "      <th>browser_IE</th>\n",
              "      <th>browser_Opera</th>\n",
              "      <th>browser_Safari</th>\n",
              "      <th>sex_F</th>\n",
              "      <th>sex_M</th>\n",
              "    </tr>\n",
              "  </thead>\n",
              "  <tbody>\n",
              "    <tr>\n",
              "      <th>0</th>\n",
              "      <td>0.709000</td>\n",
              "      <td>-0.712272</td>\n",
              "      <td>-1.171825</td>\n",
              "      <td>0.091482</td>\n",
              "      <td>1.235550</td>\n",
              "      <td>-0.504861</td>\n",
              "      <td>-0.818360</td>\n",
              "      <td>1.206370</td>\n",
              "      <td>-0.440627</td>\n",
              "      <td>-0.565523</td>\n",
              "      <td>-0.157738</td>\n",
              "      <td>-0.442171</td>\n",
              "      <td>-0.844445</td>\n",
              "      <td>0.844445</td>\n",
              "    </tr>\n",
              "    <tr>\n",
              "      <th>1</th>\n",
              "      <td>1.254316</td>\n",
              "      <td>1.141733</td>\n",
              "      <td>1.002252</td>\n",
              "      <td>0.091482</td>\n",
              "      <td>-0.809356</td>\n",
              "      <td>-0.504861</td>\n",
              "      <td>1.221956</td>\n",
              "      <td>1.206370</td>\n",
              "      <td>-0.440627</td>\n",
              "      <td>-0.565523</td>\n",
              "      <td>-0.157738</td>\n",
              "      <td>-0.442171</td>\n",
              "      <td>-0.844445</td>\n",
              "      <td>0.844445</td>\n",
              "    </tr>\n",
              "    <tr>\n",
              "      <th>2</th>\n",
              "      <td>-0.708822</td>\n",
              "      <td>-0.712272</td>\n",
              "      <td>1.296985</td>\n",
              "      <td>-0.358884</td>\n",
              "      <td>-0.809356</td>\n",
              "      <td>-0.504861</td>\n",
              "      <td>1.221956</td>\n",
              "      <td>1.206370</td>\n",
              "      <td>-0.440627</td>\n",
              "      <td>-0.565523</td>\n",
              "      <td>-0.157738</td>\n",
              "      <td>-0.442171</td>\n",
              "      <td>1.184210</td>\n",
              "      <td>-1.184210</td>\n",
              "    </tr>\n",
              "    <tr>\n",
              "      <th>3</th>\n",
              "      <td>-0.163506</td>\n",
              "      <td>0.214730</td>\n",
              "      <td>0.301571</td>\n",
              "      <td>0.091482</td>\n",
              "      <td>1.235550</td>\n",
              "      <td>-0.504861</td>\n",
              "      <td>-0.818360</td>\n",
              "      <td>1.206370</td>\n",
              "      <td>-0.440627</td>\n",
              "      <td>-0.565523</td>\n",
              "      <td>-0.157738</td>\n",
              "      <td>-0.442171</td>\n",
              "      <td>-0.844445</td>\n",
              "      <td>0.844445</td>\n",
              "    </tr>\n",
              "    <tr>\n",
              "      <th>4</th>\n",
              "      <td>0.545405</td>\n",
              "      <td>-1.291648</td>\n",
              "      <td>-0.649870</td>\n",
              "      <td>0.091482</td>\n",
              "      <td>-0.809356</td>\n",
              "      <td>-0.504861</td>\n",
              "      <td>1.221956</td>\n",
              "      <td>-0.828933</td>\n",
              "      <td>2.269493</td>\n",
              "      <td>-0.565523</td>\n",
              "      <td>-0.157738</td>\n",
              "      <td>-0.442171</td>\n",
              "      <td>-0.844445</td>\n",
              "      <td>0.844445</td>\n",
              "    </tr>\n",
              "  </tbody>\n",
              "</table>\n",
              "</div>"
            ],
            "text/plain": [
              "   purchase_value       age    elapse  cl_country  source_Ads  source_Direct  \\\n",
              "0        0.709000 -0.712272 -1.171825    0.091482    1.235550      -0.504861   \n",
              "1        1.254316  1.141733  1.002252    0.091482   -0.809356      -0.504861   \n",
              "2       -0.708822 -0.712272  1.296985   -0.358884   -0.809356      -0.504861   \n",
              "3       -0.163506  0.214730  0.301571    0.091482    1.235550      -0.504861   \n",
              "4        0.545405 -1.291648 -0.649870    0.091482   -0.809356      -0.504861   \n",
              "\n",
              "   source_SEO  browser_Chrome  browser_FireFox  browser_IE  browser_Opera  \\\n",
              "0   -0.818360        1.206370        -0.440627   -0.565523      -0.157738   \n",
              "1    1.221956        1.206370        -0.440627   -0.565523      -0.157738   \n",
              "2    1.221956        1.206370        -0.440627   -0.565523      -0.157738   \n",
              "3   -0.818360        1.206370        -0.440627   -0.565523      -0.157738   \n",
              "4    1.221956       -0.828933         2.269493   -0.565523      -0.157738   \n",
              "\n",
              "   browser_Safari     sex_F     sex_M  \n",
              "0       -0.442171 -0.844445  0.844445  \n",
              "1       -0.442171 -0.844445  0.844445  \n",
              "2       -0.442171  1.184210 -1.184210  \n",
              "3       -0.442171 -0.844445  0.844445  \n",
              "4       -0.442171 -0.844445  0.844445  "
            ]
          },
          "metadata": {
            "tags": []
          },
          "execution_count": 78
        }
      ]
    },
    {
      "cell_type": "code",
      "metadata": {
        "id": "4pub2bwbThjV",
        "colab_type": "code",
        "colab": {}
      },
      "source": [
        ""
      ],
      "execution_count": 0,
      "outputs": []
    },
    {
      "cell_type": "code",
      "metadata": {
        "id": "WZID03zZThjY",
        "colab_type": "code",
        "colab": {}
      },
      "source": [
        "m = y_test==y_pred"
      ],
      "execution_count": 0,
      "outputs": []
    },
    {
      "cell_type": "code",
      "metadata": {
        "id": "pqRUSnMIThjZ",
        "colab_type": "code",
        "outputId": "a8038550-de20-488a-9f8b-b642e4bc4f9e",
        "colab": {}
      },
      "source": [
        "y_test[m==False].index"
      ],
      "execution_count": 0,
      "outputs": [
        {
          "output_type": "execute_result",
          "data": {
            "text/plain": [
              "Int64Index([  3066,  87588,  36361,  26860, 130904,  70567,  14633,  49860,\n",
              "            137915, 134807,\n",
              "            ...\n",
              "             86987, 142413,  91380,  88618, 107804,  96572,  47554, 113131,\n",
              "            150681,  99146],\n",
              "           dtype='int64', length=1983)"
            ]
          },
          "metadata": {
            "tags": []
          },
          "execution_count": 80
        }
      ]
    },
    {
      "cell_type": "code",
      "metadata": {
        "id": "hVh9owNaThjb",
        "colab_type": "code",
        "outputId": "3b5ef0c6-bf4d-424d-a57c-381a5d6b3b6d",
        "colab": {}
      },
      "source": [
        "fraud.iloc[y_test[m!=True].index,:][fraud[\"class\"] == 1]"
      ],
      "execution_count": 0,
      "outputs": [
        {
          "output_type": "stream",
          "text": [
            "C:\\ProgramData\\Anaconda3\\lib\\site-packages\\ipykernel_launcher.py:1: UserWarning: Boolean Series key will be reindexed to match DataFrame index.\n",
            "  \"\"\"Entry point for launching an IPython kernel.\n"
          ],
          "name": "stderr"
        },
        {
          "output_type": "execute_result",
          "data": {
            "text/html": [
              "<div>\n",
              "<style scoped>\n",
              "    .dataframe tbody tr th:only-of-type {\n",
              "        vertical-align: middle;\n",
              "    }\n",
              "\n",
              "    .dataframe tbody tr th {\n",
              "        vertical-align: top;\n",
              "    }\n",
              "\n",
              "    .dataframe thead th {\n",
              "        text-align: right;\n",
              "    }\n",
              "</style>\n",
              "<table border=\"1\" class=\"dataframe\">\n",
              "  <thead>\n",
              "    <tr style=\"text-align: right;\">\n",
              "      <th></th>\n",
              "      <th>user_id</th>\n",
              "      <th>signup_time</th>\n",
              "      <th>purchase_time</th>\n",
              "      <th>purchase_value</th>\n",
              "      <th>device_id</th>\n",
              "      <th>source</th>\n",
              "      <th>browser</th>\n",
              "      <th>sex</th>\n",
              "      <th>age</th>\n",
              "      <th>class</th>\n",
              "      <th>country</th>\n",
              "      <th>elapse</th>\n",
              "      <th>cl_country</th>\n",
              "    </tr>\n",
              "  </thead>\n",
              "  <tbody>\n",
              "    <tr>\n",
              "      <th>3066</th>\n",
              "      <td>232702</td>\n",
              "      <td>2015-01-18 18:50:34</td>\n",
              "      <td>2015-04-27 12:24:20</td>\n",
              "      <td>38</td>\n",
              "      <td>SRVANJHTSJCZT</td>\n",
              "      <td>SEO</td>\n",
              "      <td>IE</td>\n",
              "      <td>M</td>\n",
              "      <td>42</td>\n",
              "      <td>1</td>\n",
              "      <td>United States</td>\n",
              "      <td>63226</td>\n",
              "      <td>0.095626</td>\n",
              "    </tr>\n",
              "    <tr>\n",
              "      <th>87588</th>\n",
              "      <td>250152</td>\n",
              "      <td>2015-08-02 15:54:44</td>\n",
              "      <td>2015-08-12 04:25:37</td>\n",
              "      <td>62</td>\n",
              "      <td>BDDJUCORUOPAU</td>\n",
              "      <td>Ads</td>\n",
              "      <td>Safari</td>\n",
              "      <td>M</td>\n",
              "      <td>40</td>\n",
              "      <td>1</td>\n",
              "      <td>China</td>\n",
              "      <td>45053</td>\n",
              "      <td>0.086642</td>\n",
              "    </tr>\n",
              "    <tr>\n",
              "      <th>36361</th>\n",
              "      <td>149049</td>\n",
              "      <td>2015-01-06 08:32:21</td>\n",
              "      <td>2015-04-03 04:18:28</td>\n",
              "      <td>22</td>\n",
              "      <td>ENAZEJHJSBHVK</td>\n",
              "      <td>Direct</td>\n",
              "      <td>IE</td>\n",
              "      <td>M</td>\n",
              "      <td>21</td>\n",
              "      <td>1</td>\n",
              "      <td>United States</td>\n",
              "      <td>71167</td>\n",
              "      <td>0.095626</td>\n",
              "    </tr>\n",
              "    <tr>\n",
              "      <th>26860</th>\n",
              "      <td>157374</td>\n",
              "      <td>2015-07-04 01:09:27</td>\n",
              "      <td>2015-09-12 04:14:03</td>\n",
              "      <td>42</td>\n",
              "      <td>UHWPAJWLAGLGN</td>\n",
              "      <td>SEO</td>\n",
              "      <td>Chrome</td>\n",
              "      <td>F</td>\n",
              "      <td>41</td>\n",
              "      <td>1</td>\n",
              "      <td>United States</td>\n",
              "      <td>11076</td>\n",
              "      <td>0.095626</td>\n",
              "    </tr>\n",
              "    <tr>\n",
              "      <th>130904</th>\n",
              "      <td>318465</td>\n",
              "      <td>2015-06-01 00:35:50</td>\n",
              "      <td>2015-09-20 06:00:46</td>\n",
              "      <td>29</td>\n",
              "      <td>PKHGEZJLBHTEC</td>\n",
              "      <td>SEO</td>\n",
              "      <td>Safari</td>\n",
              "      <td>M</td>\n",
              "      <td>33</td>\n",
              "      <td>1</td>\n",
              "      <td>Indonesia</td>\n",
              "      <td>19496</td>\n",
              "      <td>0.087827</td>\n",
              "    </tr>\n",
              "    <tr>\n",
              "      <th>70567</th>\n",
              "      <td>351754</td>\n",
              "      <td>2015-04-16 01:12:39</td>\n",
              "      <td>2015-04-26 01:35:11</td>\n",
              "      <td>33</td>\n",
              "      <td>PIZWWHLXIOKJH</td>\n",
              "      <td>SEO</td>\n",
              "      <td>Chrome</td>\n",
              "      <td>F</td>\n",
              "      <td>24</td>\n",
              "      <td>1</td>\n",
              "      <td>United States</td>\n",
              "      <td>1352</td>\n",
              "      <td>0.095626</td>\n",
              "    </tr>\n",
              "    <tr>\n",
              "      <th>14633</th>\n",
              "      <td>357082</td>\n",
              "      <td>2015-07-06 03:40:46</td>\n",
              "      <td>2015-08-12 06:37:59</td>\n",
              "      <td>40</td>\n",
              "      <td>TSRENYKXKNWPT</td>\n",
              "      <td>Ads</td>\n",
              "      <td>Chrome</td>\n",
              "      <td>M</td>\n",
              "      <td>37</td>\n",
              "      <td>1</td>\n",
              "      <td>Japan</td>\n",
              "      <td>10633</td>\n",
              "      <td>0.097865</td>\n",
              "    </tr>\n",
              "    <tr>\n",
              "      <th>49860</th>\n",
              "      <td>8622</td>\n",
              "      <td>2015-06-19 09:12:10</td>\n",
              "      <td>2015-07-20 11:17:35</td>\n",
              "      <td>35</td>\n",
              "      <td>JHPSKXXWEFNVD</td>\n",
              "      <td>Direct</td>\n",
              "      <td>Chrome</td>\n",
              "      <td>F</td>\n",
              "      <td>25</td>\n",
              "      <td>1</td>\n",
              "      <td>Germany</td>\n",
              "      <td>7525</td>\n",
              "      <td>0.071860</td>\n",
              "    </tr>\n",
              "    <tr>\n",
              "      <th>137915</th>\n",
              "      <td>345214</td>\n",
              "      <td>2015-08-15 22:15:07</td>\n",
              "      <td>2015-11-10 09:08:08</td>\n",
              "      <td>55</td>\n",
              "      <td>RNGDNPMOVBGII</td>\n",
              "      <td>SEO</td>\n",
              "      <td>IE</td>\n",
              "      <td>M</td>\n",
              "      <td>19</td>\n",
              "      <td>1</td>\n",
              "      <td>United States</td>\n",
              "      <td>39181</td>\n",
              "      <td>0.095626</td>\n",
              "    </tr>\n",
              "    <tr>\n",
              "      <th>134807</th>\n",
              "      <td>208295</td>\n",
              "      <td>2015-01-04 19:20:25</td>\n",
              "      <td>2015-04-04 14:27:42</td>\n",
              "      <td>57</td>\n",
              "      <td>YVEWGCCFLSTXS</td>\n",
              "      <td>SEO</td>\n",
              "      <td>Chrome</td>\n",
              "      <td>F</td>\n",
              "      <td>48</td>\n",
              "      <td>1</td>\n",
              "      <td>United States</td>\n",
              "      <td>68837</td>\n",
              "      <td>0.095626</td>\n",
              "    </tr>\n",
              "    <tr>\n",
              "      <th>35547</th>\n",
              "      <td>91304</td>\n",
              "      <td>2015-08-06 06:27:36</td>\n",
              "      <td>2015-08-15 20:33:25</td>\n",
              "      <td>22</td>\n",
              "      <td>IETJXBIUVRUCF</td>\n",
              "      <td>Ads</td>\n",
              "      <td>Chrome</td>\n",
              "      <td>M</td>\n",
              "      <td>27</td>\n",
              "      <td>1</td>\n",
              "      <td>United States</td>\n",
              "      <td>50749</td>\n",
              "      <td>0.095626</td>\n",
              "    </tr>\n",
              "    <tr>\n",
              "      <th>146573</th>\n",
              "      <td>161471</td>\n",
              "      <td>2015-04-16 22:14:04</td>\n",
              "      <td>2015-05-07 13:40:39</td>\n",
              "      <td>40</td>\n",
              "      <td>DSYEGXKEYDGPP</td>\n",
              "      <td>Ads</td>\n",
              "      <td>FireFox</td>\n",
              "      <td>M</td>\n",
              "      <td>38</td>\n",
              "      <td>1</td>\n",
              "      <td>Netherlands</td>\n",
              "      <td>55595</td>\n",
              "      <td>0.073214</td>\n",
              "    </tr>\n",
              "    <tr>\n",
              "      <th>73060</th>\n",
              "      <td>107780</td>\n",
              "      <td>2015-07-19 18:36:00</td>\n",
              "      <td>2015-08-17 16:43:00</td>\n",
              "      <td>45</td>\n",
              "      <td>OOGCWHECFPZJE</td>\n",
              "      <td>Ads</td>\n",
              "      <td>Safari</td>\n",
              "      <td>M</td>\n",
              "      <td>23</td>\n",
              "      <td>1</td>\n",
              "      <td>Mexico</td>\n",
              "      <td>79620</td>\n",
              "      <td>0.128457</td>\n",
              "    </tr>\n",
              "    <tr>\n",
              "      <th>108482</th>\n",
              "      <td>241635</td>\n",
              "      <td>2015-08-15 14:16:56</td>\n",
              "      <td>2015-09-12 07:40:28</td>\n",
              "      <td>37</td>\n",
              "      <td>IZXCJRJIPTXCV</td>\n",
              "      <td>Ads</td>\n",
              "      <td>Chrome</td>\n",
              "      <td>M</td>\n",
              "      <td>23</td>\n",
              "      <td>1</td>\n",
              "      <td>United Kingdom</td>\n",
              "      <td>62612</td>\n",
              "      <td>0.106236</td>\n",
              "    </tr>\n",
              "    <tr>\n",
              "      <th>102542</th>\n",
              "      <td>133219</td>\n",
              "      <td>2015-02-21 14:39:49</td>\n",
              "      <td>2015-05-08 02:26:07</td>\n",
              "      <td>25</td>\n",
              "      <td>LRSAJIVIEGULU</td>\n",
              "      <td>Ads</td>\n",
              "      <td>Chrome</td>\n",
              "      <td>F</td>\n",
              "      <td>23</td>\n",
              "      <td>1</td>\n",
              "      <td>United Kingdom</td>\n",
              "      <td>42378</td>\n",
              "      <td>0.106236</td>\n",
              "    </tr>\n",
              "    <tr>\n",
              "      <th>121728</th>\n",
              "      <td>236134</td>\n",
              "      <td>2015-02-10 12:44:16</td>\n",
              "      <td>2015-04-14 10:56:22</td>\n",
              "      <td>54</td>\n",
              "      <td>YPNCKSNITMWTU</td>\n",
              "      <td>Ads</td>\n",
              "      <td>IE</td>\n",
              "      <td>F</td>\n",
              "      <td>23</td>\n",
              "      <td>1</td>\n",
              "      <td>China</td>\n",
              "      <td>79926</td>\n",
              "      <td>0.086642</td>\n",
              "    </tr>\n",
              "    <tr>\n",
              "      <th>63600</th>\n",
              "      <td>44524</td>\n",
              "      <td>2015-01-09 11:49:19</td>\n",
              "      <td>2015-03-15 20:19:46</td>\n",
              "      <td>31</td>\n",
              "      <td>NMOFIMTXPAQPG</td>\n",
              "      <td>Direct</td>\n",
              "      <td>Chrome</td>\n",
              "      <td>M</td>\n",
              "      <td>50</td>\n",
              "      <td>1</td>\n",
              "      <td>United States</td>\n",
              "      <td>30627</td>\n",
              "      <td>0.095626</td>\n",
              "    </tr>\n",
              "    <tr>\n",
              "      <th>29611</th>\n",
              "      <td>231061</td>\n",
              "      <td>2015-06-19 10:25:18</td>\n",
              "      <td>2015-06-26 13:55:55</td>\n",
              "      <td>22</td>\n",
              "      <td>GCNETVWSGOEGR</td>\n",
              "      <td>Ads</td>\n",
              "      <td>Chrome</td>\n",
              "      <td>F</td>\n",
              "      <td>32</td>\n",
              "      <td>1</td>\n",
              "      <td>United States</td>\n",
              "      <td>12637</td>\n",
              "      <td>0.095626</td>\n",
              "    </tr>\n",
              "    <tr>\n",
              "      <th>80815</th>\n",
              "      <td>104805</td>\n",
              "      <td>2015-06-30 08:34:34</td>\n",
              "      <td>2015-08-19 11:16:01</td>\n",
              "      <td>49</td>\n",
              "      <td>UAZRXCRTGKASJ</td>\n",
              "      <td>Direct</td>\n",
              "      <td>IE</td>\n",
              "      <td>M</td>\n",
              "      <td>20</td>\n",
              "      <td>1</td>\n",
              "      <td>Germany</td>\n",
              "      <td>9687</td>\n",
              "      <td>0.071860</td>\n",
              "    </tr>\n",
              "    <tr>\n",
              "      <th>134024</th>\n",
              "      <td>16149</td>\n",
              "      <td>2015-01-23 14:44:48</td>\n",
              "      <td>2015-02-21 13:56:42</td>\n",
              "      <td>28</td>\n",
              "      <td>ZALJQWZRMFQVD</td>\n",
              "      <td>Ads</td>\n",
              "      <td>FireFox</td>\n",
              "      <td>M</td>\n",
              "      <td>28</td>\n",
              "      <td>1</td>\n",
              "      <td>Germany</td>\n",
              "      <td>83514</td>\n",
              "      <td>0.071860</td>\n",
              "    </tr>\n",
              "    <tr>\n",
              "      <th>118193</th>\n",
              "      <td>50770</td>\n",
              "      <td>2015-07-30 04:40:29</td>\n",
              "      <td>2015-08-27 00:27:09</td>\n",
              "      <td>67</td>\n",
              "      <td>MVNGNXUBCVVLM</td>\n",
              "      <td>Ads</td>\n",
              "      <td>FireFox</td>\n",
              "      <td>F</td>\n",
              "      <td>31</td>\n",
              "      <td>1</td>\n",
              "      <td>United States</td>\n",
              "      <td>71200</td>\n",
              "      <td>0.095626</td>\n",
              "    </tr>\n",
              "    <tr>\n",
              "      <th>32642</th>\n",
              "      <td>316233</td>\n",
              "      <td>2015-01-03 11:20:55</td>\n",
              "      <td>2015-04-06 14:27:03</td>\n",
              "      <td>39</td>\n",
              "      <td>JLIDQJCKSBHWL</td>\n",
              "      <td>SEO</td>\n",
              "      <td>IE</td>\n",
              "      <td>M</td>\n",
              "      <td>34</td>\n",
              "      <td>1</td>\n",
              "      <td>United States</td>\n",
              "      <td>11168</td>\n",
              "      <td>0.095626</td>\n",
              "    </tr>\n",
              "    <tr>\n",
              "      <th>81023</th>\n",
              "      <td>101887</td>\n",
              "      <td>2015-06-14 16:49:12</td>\n",
              "      <td>2015-08-01 03:34:19</td>\n",
              "      <td>71</td>\n",
              "      <td>AGQQYACZPZYVS</td>\n",
              "      <td>SEO</td>\n",
              "      <td>IE</td>\n",
              "      <td>F</td>\n",
              "      <td>33</td>\n",
              "      <td>1</td>\n",
              "      <td>United States</td>\n",
              "      <td>38707</td>\n",
              "      <td>0.095626</td>\n",
              "    </tr>\n",
              "    <tr>\n",
              "      <th>34449</th>\n",
              "      <td>387812</td>\n",
              "      <td>2015-05-23 07:35:31</td>\n",
              "      <td>2015-09-09 13:40:50</td>\n",
              "      <td>29</td>\n",
              "      <td>PYCEWUXQIIACC</td>\n",
              "      <td>Ads</td>\n",
              "      <td>FireFox</td>\n",
              "      <td>M</td>\n",
              "      <td>35</td>\n",
              "      <td>1</td>\n",
              "      <td>Sweden</td>\n",
              "      <td>21919</td>\n",
              "      <td>0.120183</td>\n",
              "    </tr>\n",
              "    <tr>\n",
              "      <th>88571</th>\n",
              "      <td>180869</td>\n",
              "      <td>2015-08-15 12:37:37</td>\n",
              "      <td>2015-12-04 12:23:42</td>\n",
              "      <td>53</td>\n",
              "      <td>USIUWPPMPQTLX</td>\n",
              "      <td>SEO</td>\n",
              "      <td>FireFox</td>\n",
              "      <td>M</td>\n",
              "      <td>24</td>\n",
              "      <td>1</td>\n",
              "      <td>Japan</td>\n",
              "      <td>85565</td>\n",
              "      <td>0.097865</td>\n",
              "    </tr>\n",
              "    <tr>\n",
              "      <th>139644</th>\n",
              "      <td>153429</td>\n",
              "      <td>2015-07-13 23:53:25</td>\n",
              "      <td>2015-08-14 07:54:48</td>\n",
              "      <td>15</td>\n",
              "      <td>IUHBBJTNCQLTF</td>\n",
              "      <td>Ads</td>\n",
              "      <td>Chrome</td>\n",
              "      <td>F</td>\n",
              "      <td>27</td>\n",
              "      <td>1</td>\n",
              "      <td>Taiwan; Republic of China (ROC)</td>\n",
              "      <td>28883</td>\n",
              "      <td>0.080032</td>\n",
              "    </tr>\n",
              "    <tr>\n",
              "      <th>24256</th>\n",
              "      <td>209864</td>\n",
              "      <td>2015-01-11 15:48:44</td>\n",
              "      <td>2015-02-21 22:34:57</td>\n",
              "      <td>76</td>\n",
              "      <td>KZNXAZIFWORVQ</td>\n",
              "      <td>Ads</td>\n",
              "      <td>Chrome</td>\n",
              "      <td>F</td>\n",
              "      <td>44</td>\n",
              "      <td>1</td>\n",
              "      <td>unknown</td>\n",
              "      <td>24373</td>\n",
              "      <td>0.085723</td>\n",
              "    </tr>\n",
              "    <tr>\n",
              "      <th>51887</th>\n",
              "      <td>249520</td>\n",
              "      <td>2015-07-21 17:34:25</td>\n",
              "      <td>2015-08-23 19:28:10</td>\n",
              "      <td>36</td>\n",
              "      <td>UDDYRZEQSPZRD</td>\n",
              "      <td>Ads</td>\n",
              "      <td>Safari</td>\n",
              "      <td>M</td>\n",
              "      <td>38</td>\n",
              "      <td>1</td>\n",
              "      <td>Canada</td>\n",
              "      <td>6825</td>\n",
              "      <td>0.116975</td>\n",
              "    </tr>\n",
              "    <tr>\n",
              "      <th>52868</th>\n",
              "      <td>94640</td>\n",
              "      <td>2015-06-20 07:19:05</td>\n",
              "      <td>2015-07-26 10:29:43</td>\n",
              "      <td>30</td>\n",
              "      <td>FDWSIGXVGQXUM</td>\n",
              "      <td>Ads</td>\n",
              "      <td>IE</td>\n",
              "      <td>F</td>\n",
              "      <td>36</td>\n",
              "      <td>1</td>\n",
              "      <td>Brazil</td>\n",
              "      <td>11438</td>\n",
              "      <td>0.091185</td>\n",
              "    </tr>\n",
              "    <tr>\n",
              "      <th>105835</th>\n",
              "      <td>17806</td>\n",
              "      <td>2015-01-04 10:02:02</td>\n",
              "      <td>2015-01-17 07:54:51</td>\n",
              "      <td>41</td>\n",
              "      <td>JIFBAARGMJJOQ</td>\n",
              "      <td>SEO</td>\n",
              "      <td>Safari</td>\n",
              "      <td>F</td>\n",
              "      <td>25</td>\n",
              "      <td>1</td>\n",
              "      <td>United Kingdom</td>\n",
              "      <td>78769</td>\n",
              "      <td>0.106236</td>\n",
              "    </tr>\n",
              "    <tr>\n",
              "      <th>...</th>\n",
              "      <td>...</td>\n",
              "      <td>...</td>\n",
              "      <td>...</td>\n",
              "      <td>...</td>\n",
              "      <td>...</td>\n",
              "      <td>...</td>\n",
              "      <td>...</td>\n",
              "      <td>...</td>\n",
              "      <td>...</td>\n",
              "      <td>...</td>\n",
              "      <td>...</td>\n",
              "      <td>...</td>\n",
              "      <td>...</td>\n",
              "    </tr>\n",
              "    <tr>\n",
              "      <th>131015</th>\n",
              "      <td>194228</td>\n",
              "      <td>2015-02-07 18:59:16</td>\n",
              "      <td>2015-02-09 17:17:50</td>\n",
              "      <td>27</td>\n",
              "      <td>NMGDAAPXLCCVI</td>\n",
              "      <td>SEO</td>\n",
              "      <td>Safari</td>\n",
              "      <td>F</td>\n",
              "      <td>36</td>\n",
              "      <td>1</td>\n",
              "      <td>Japan</td>\n",
              "      <td>80314</td>\n",
              "      <td>0.097865</td>\n",
              "    </tr>\n",
              "    <tr>\n",
              "      <th>100760</th>\n",
              "      <td>14373</td>\n",
              "      <td>2015-05-30 20:12:02</td>\n",
              "      <td>2015-07-03 14:03:21</td>\n",
              "      <td>70</td>\n",
              "      <td>EOPDLOAHFBWHR</td>\n",
              "      <td>SEO</td>\n",
              "      <td>IE</td>\n",
              "      <td>F</td>\n",
              "      <td>34</td>\n",
              "      <td>1</td>\n",
              "      <td>Japan</td>\n",
              "      <td>64279</td>\n",
              "      <td>0.097865</td>\n",
              "    </tr>\n",
              "    <tr>\n",
              "      <th>138182</th>\n",
              "      <td>375332</td>\n",
              "      <td>2015-07-08 09:34:42</td>\n",
              "      <td>2015-10-29 18:58:51</td>\n",
              "      <td>48</td>\n",
              "      <td>CGEUUELXPYDRJ</td>\n",
              "      <td>Direct</td>\n",
              "      <td>Safari</td>\n",
              "      <td>F</td>\n",
              "      <td>23</td>\n",
              "      <td>1</td>\n",
              "      <td>unknown</td>\n",
              "      <td>33849</td>\n",
              "      <td>0.085723</td>\n",
              "    </tr>\n",
              "    <tr>\n",
              "      <th>91399</th>\n",
              "      <td>378506</td>\n",
              "      <td>2015-04-27 08:22:28</td>\n",
              "      <td>2015-06-10 22:08:36</td>\n",
              "      <td>30</td>\n",
              "      <td>KEVINKEAJOSXJ</td>\n",
              "      <td>Ads</td>\n",
              "      <td>Safari</td>\n",
              "      <td>F</td>\n",
              "      <td>34</td>\n",
              "      <td>1</td>\n",
              "      <td>Romania</td>\n",
              "      <td>49568</td>\n",
              "      <td>0.051429</td>\n",
              "    </tr>\n",
              "    <tr>\n",
              "      <th>74783</th>\n",
              "      <td>73168</td>\n",
              "      <td>2015-08-02 10:46:32</td>\n",
              "      <td>2015-10-26 06:32:27</td>\n",
              "      <td>56</td>\n",
              "      <td>GNRNCBUWNKZCB</td>\n",
              "      <td>Ads</td>\n",
              "      <td>FireFox</td>\n",
              "      <td>M</td>\n",
              "      <td>31</td>\n",
              "      <td>1</td>\n",
              "      <td>unknown</td>\n",
              "      <td>71155</td>\n",
              "      <td>0.085723</td>\n",
              "    </tr>\n",
              "    <tr>\n",
              "      <th>63310</th>\n",
              "      <td>49474</td>\n",
              "      <td>2015-07-11 08:00:56</td>\n",
              "      <td>2015-07-13 06:37:49</td>\n",
              "      <td>14</td>\n",
              "      <td>AOHUVOSQALRCO</td>\n",
              "      <td>Direct</td>\n",
              "      <td>Chrome</td>\n",
              "      <td>M</td>\n",
              "      <td>35</td>\n",
              "      <td>1</td>\n",
              "      <td>United States</td>\n",
              "      <td>81413</td>\n",
              "      <td>0.095626</td>\n",
              "    </tr>\n",
              "    <tr>\n",
              "      <th>10333</th>\n",
              "      <td>193669</td>\n",
              "      <td>2015-07-20 10:26:22</td>\n",
              "      <td>2015-10-17 16:46:22</td>\n",
              "      <td>39</td>\n",
              "      <td>WDAGTJECUIKBV</td>\n",
              "      <td>SEO</td>\n",
              "      <td>Chrome</td>\n",
              "      <td>F</td>\n",
              "      <td>37</td>\n",
              "      <td>1</td>\n",
              "      <td>France</td>\n",
              "      <td>22800</td>\n",
              "      <td>0.094907</td>\n",
              "    </tr>\n",
              "    <tr>\n",
              "      <th>92365</th>\n",
              "      <td>335244</td>\n",
              "      <td>2015-07-10 12:00:13</td>\n",
              "      <td>2015-10-12 08:11:54</td>\n",
              "      <td>25</td>\n",
              "      <td>ICQVAXVGROOLF</td>\n",
              "      <td>Ads</td>\n",
              "      <td>Chrome</td>\n",
              "      <td>F</td>\n",
              "      <td>38</td>\n",
              "      <td>1</td>\n",
              "      <td>United States</td>\n",
              "      <td>72701</td>\n",
              "      <td>0.095626</td>\n",
              "    </tr>\n",
              "    <tr>\n",
              "      <th>118595</th>\n",
              "      <td>138060</td>\n",
              "      <td>2015-04-30 15:01:50</td>\n",
              "      <td>2015-07-03 13:07:00</td>\n",
              "      <td>21</td>\n",
              "      <td>IGWBNWDSMZJWO</td>\n",
              "      <td>SEO</td>\n",
              "      <td>Chrome</td>\n",
              "      <td>M</td>\n",
              "      <td>34</td>\n",
              "      <td>1</td>\n",
              "      <td>Pakistan</td>\n",
              "      <td>79510</td>\n",
              "      <td>0.043011</td>\n",
              "    </tr>\n",
              "    <tr>\n",
              "      <th>149682</th>\n",
              "      <td>228192</td>\n",
              "      <td>2015-06-28 01:30:23</td>\n",
              "      <td>2015-08-15 18:54:03</td>\n",
              "      <td>54</td>\n",
              "      <td>RLFNPTGSXITLE</td>\n",
              "      <td>Ads</td>\n",
              "      <td>Chrome</td>\n",
              "      <td>M</td>\n",
              "      <td>39</td>\n",
              "      <td>1</td>\n",
              "      <td>unknown</td>\n",
              "      <td>62620</td>\n",
              "      <td>0.085723</td>\n",
              "    </tr>\n",
              "    <tr>\n",
              "      <th>93791</th>\n",
              "      <td>378615</td>\n",
              "      <td>2015-06-09 09:54:15</td>\n",
              "      <td>2015-08-05 17:10:02</td>\n",
              "      <td>34</td>\n",
              "      <td>TTKTEIRGRINDY</td>\n",
              "      <td>SEO</td>\n",
              "      <td>Chrome</td>\n",
              "      <td>M</td>\n",
              "      <td>29</td>\n",
              "      <td>1</td>\n",
              "      <td>unknown</td>\n",
              "      <td>26147</td>\n",
              "      <td>0.085723</td>\n",
              "    </tr>\n",
              "    <tr>\n",
              "      <th>87762</th>\n",
              "      <td>345165</td>\n",
              "      <td>2015-04-25 16:33:20</td>\n",
              "      <td>2015-05-08 23:51:04</td>\n",
              "      <td>31</td>\n",
              "      <td>HZTITKLNGBPWY</td>\n",
              "      <td>Direct</td>\n",
              "      <td>Chrome</td>\n",
              "      <td>F</td>\n",
              "      <td>26</td>\n",
              "      <td>1</td>\n",
              "      <td>unknown</td>\n",
              "      <td>26264</td>\n",
              "      <td>0.085723</td>\n",
              "    </tr>\n",
              "    <tr>\n",
              "      <th>56153</th>\n",
              "      <td>211700</td>\n",
              "      <td>2015-05-10 09:47:55</td>\n",
              "      <td>2015-08-31 05:49:53</td>\n",
              "      <td>43</td>\n",
              "      <td>DTRYWITOVFUHA</td>\n",
              "      <td>Ads</td>\n",
              "      <td>FireFox</td>\n",
              "      <td>F</td>\n",
              "      <td>42</td>\n",
              "      <td>1</td>\n",
              "      <td>United States</td>\n",
              "      <td>72118</td>\n",
              "      <td>0.095626</td>\n",
              "    </tr>\n",
              "    <tr>\n",
              "      <th>56237</th>\n",
              "      <td>27937</td>\n",
              "      <td>2015-08-17 15:26:24</td>\n",
              "      <td>2015-11-19 14:00:52</td>\n",
              "      <td>9</td>\n",
              "      <td>GRKFQEPMTRNYR</td>\n",
              "      <td>SEO</td>\n",
              "      <td>Chrome</td>\n",
              "      <td>M</td>\n",
              "      <td>28</td>\n",
              "      <td>1</td>\n",
              "      <td>Netherlands</td>\n",
              "      <td>81268</td>\n",
              "      <td>0.073214</td>\n",
              "    </tr>\n",
              "    <tr>\n",
              "      <th>136002</th>\n",
              "      <td>387784</td>\n",
              "      <td>2015-06-10 01:12:52</td>\n",
              "      <td>2015-09-08 00:28:00</td>\n",
              "      <td>22</td>\n",
              "      <td>DCRIUFQPLEFYV</td>\n",
              "      <td>SEO</td>\n",
              "      <td>Chrome</td>\n",
              "      <td>F</td>\n",
              "      <td>36</td>\n",
              "      <td>1</td>\n",
              "      <td>United States</td>\n",
              "      <td>83708</td>\n",
              "      <td>0.095626</td>\n",
              "    </tr>\n",
              "    <tr>\n",
              "      <th>84488</th>\n",
              "      <td>283441</td>\n",
              "      <td>2015-03-12 00:56:02</td>\n",
              "      <td>2015-05-24 20:22:51</td>\n",
              "      <td>10</td>\n",
              "      <td>TGEUZOEECWKDR</td>\n",
              "      <td>Direct</td>\n",
              "      <td>IE</td>\n",
              "      <td>M</td>\n",
              "      <td>20</td>\n",
              "      <td>1</td>\n",
              "      <td>United Kingdom</td>\n",
              "      <td>70009</td>\n",
              "      <td>0.106236</td>\n",
              "    </tr>\n",
              "    <tr>\n",
              "      <th>123284</th>\n",
              "      <td>315906</td>\n",
              "      <td>2015-05-08 15:17:05</td>\n",
              "      <td>2015-06-17 08:02:38</td>\n",
              "      <td>65</td>\n",
              "      <td>HXOWBMBYLOROD</td>\n",
              "      <td>Direct</td>\n",
              "      <td>Chrome</td>\n",
              "      <td>M</td>\n",
              "      <td>27</td>\n",
              "      <td>1</td>\n",
              "      <td>India</td>\n",
              "      <td>60333</td>\n",
              "      <td>0.115267</td>\n",
              "    </tr>\n",
              "    <tr>\n",
              "      <th>111068</th>\n",
              "      <td>368111</td>\n",
              "      <td>2015-07-27 16:19:36</td>\n",
              "      <td>2015-11-12 11:43:43</td>\n",
              "      <td>15</td>\n",
              "      <td>QHTKFRYYBMXUC</td>\n",
              "      <td>SEO</td>\n",
              "      <td>IE</td>\n",
              "      <td>F</td>\n",
              "      <td>24</td>\n",
              "      <td>1</td>\n",
              "      <td>unknown</td>\n",
              "      <td>69847</td>\n",
              "      <td>0.085723</td>\n",
              "    </tr>\n",
              "    <tr>\n",
              "      <th>25847</th>\n",
              "      <td>203504</td>\n",
              "      <td>2015-03-27 01:24:49</td>\n",
              "      <td>2015-06-25 07:46:00</td>\n",
              "      <td>53</td>\n",
              "      <td>KEWYDHOTMEGYV</td>\n",
              "      <td>SEO</td>\n",
              "      <td>Chrome</td>\n",
              "      <td>M</td>\n",
              "      <td>27</td>\n",
              "      <td>1</td>\n",
              "      <td>United Kingdom</td>\n",
              "      <td>22871</td>\n",
              "      <td>0.106236</td>\n",
              "    </tr>\n",
              "    <tr>\n",
              "      <th>25147</th>\n",
              "      <td>366305</td>\n",
              "      <td>2015-07-25 12:39:29</td>\n",
              "      <td>2015-08-06 21:09:31</td>\n",
              "      <td>32</td>\n",
              "      <td>DPLMICKTWQDVE</td>\n",
              "      <td>Ads</td>\n",
              "      <td>FireFox</td>\n",
              "      <td>F</td>\n",
              "      <td>30</td>\n",
              "      <td>1</td>\n",
              "      <td>unknown</td>\n",
              "      <td>30602</td>\n",
              "      <td>0.085723</td>\n",
              "    </tr>\n",
              "    <tr>\n",
              "      <th>86987</th>\n",
              "      <td>180204</td>\n",
              "      <td>2015-08-05 21:03:57</td>\n",
              "      <td>2015-09-02 02:26:31</td>\n",
              "      <td>38</td>\n",
              "      <td>VSJEIHEYOHFWA</td>\n",
              "      <td>SEO</td>\n",
              "      <td>IE</td>\n",
              "      <td>M</td>\n",
              "      <td>33</td>\n",
              "      <td>1</td>\n",
              "      <td>Russian Federation</td>\n",
              "      <td>19354</td>\n",
              "      <td>0.082921</td>\n",
              "    </tr>\n",
              "    <tr>\n",
              "      <th>142413</th>\n",
              "      <td>219038</td>\n",
              "      <td>2015-01-11 16:03:22</td>\n",
              "      <td>2015-03-13 04:54:31</td>\n",
              "      <td>16</td>\n",
              "      <td>IXSWKRXGCZZTZ</td>\n",
              "      <td>Ads</td>\n",
              "      <td>Chrome</td>\n",
              "      <td>M</td>\n",
              "      <td>27</td>\n",
              "      <td>1</td>\n",
              "      <td>United States</td>\n",
              "      <td>46269</td>\n",
              "      <td>0.095626</td>\n",
              "    </tr>\n",
              "    <tr>\n",
              "      <th>91380</th>\n",
              "      <td>255115</td>\n",
              "      <td>2015-02-27 21:47:39</td>\n",
              "      <td>2015-05-31 22:24:46</td>\n",
              "      <td>31</td>\n",
              "      <td>YIQWEHGGONDNM</td>\n",
              "      <td>Ads</td>\n",
              "      <td>IE</td>\n",
              "      <td>F</td>\n",
              "      <td>31</td>\n",
              "      <td>1</td>\n",
              "      <td>Australia</td>\n",
              "      <td>2227</td>\n",
              "      <td>0.089479</td>\n",
              "    </tr>\n",
              "    <tr>\n",
              "      <th>88618</th>\n",
              "      <td>395380</td>\n",
              "      <td>2015-03-15 05:00:01</td>\n",
              "      <td>2015-07-12 08:55:17</td>\n",
              "      <td>38</td>\n",
              "      <td>YHEIGWJDZYZWJ</td>\n",
              "      <td>SEO</td>\n",
              "      <td>Chrome</td>\n",
              "      <td>M</td>\n",
              "      <td>36</td>\n",
              "      <td>1</td>\n",
              "      <td>Canada</td>\n",
              "      <td>14116</td>\n",
              "      <td>0.116975</td>\n",
              "    </tr>\n",
              "    <tr>\n",
              "      <th>107804</th>\n",
              "      <td>54213</td>\n",
              "      <td>2015-07-05 03:56:48</td>\n",
              "      <td>2015-10-25 14:07:27</td>\n",
              "      <td>63</td>\n",
              "      <td>RKNFZAMUPUURO</td>\n",
              "      <td>Ads</td>\n",
              "      <td>Safari</td>\n",
              "      <td>F</td>\n",
              "      <td>32</td>\n",
              "      <td>1</td>\n",
              "      <td>United States</td>\n",
              "      <td>36639</td>\n",
              "      <td>0.095626</td>\n",
              "    </tr>\n",
              "    <tr>\n",
              "      <th>96572</th>\n",
              "      <td>214665</td>\n",
              "      <td>2015-06-11 14:25:28</td>\n",
              "      <td>2015-09-06 13:09:21</td>\n",
              "      <td>23</td>\n",
              "      <td>YKGWJQRZTWYVR</td>\n",
              "      <td>Direct</td>\n",
              "      <td>Safari</td>\n",
              "      <td>M</td>\n",
              "      <td>19</td>\n",
              "      <td>1</td>\n",
              "      <td>France</td>\n",
              "      <td>81833</td>\n",
              "      <td>0.094907</td>\n",
              "    </tr>\n",
              "    <tr>\n",
              "      <th>47554</th>\n",
              "      <td>79366</td>\n",
              "      <td>2015-03-08 07:36:45</td>\n",
              "      <td>2015-05-25 11:39:49</td>\n",
              "      <td>20</td>\n",
              "      <td>UHWHSHNKHPXAH</td>\n",
              "      <td>Direct</td>\n",
              "      <td>Chrome</td>\n",
              "      <td>F</td>\n",
              "      <td>50</td>\n",
              "      <td>1</td>\n",
              "      <td>United States</td>\n",
              "      <td>14584</td>\n",
              "      <td>0.095626</td>\n",
              "    </tr>\n",
              "    <tr>\n",
              "      <th>113131</th>\n",
              "      <td>78267</td>\n",
              "      <td>2015-01-26 01:06:59</td>\n",
              "      <td>2015-04-14 00:28:35</td>\n",
              "      <td>68</td>\n",
              "      <td>FCBITMVZFAIYQ</td>\n",
              "      <td>Direct</td>\n",
              "      <td>FireFox</td>\n",
              "      <td>M</td>\n",
              "      <td>29</td>\n",
              "      <td>1</td>\n",
              "      <td>United States</td>\n",
              "      <td>84096</td>\n",
              "      <td>0.095626</td>\n",
              "    </tr>\n",
              "    <tr>\n",
              "      <th>150681</th>\n",
              "      <td>264759</td>\n",
              "      <td>2015-06-21 12:00:15</td>\n",
              "      <td>2015-09-15 16:33:38</td>\n",
              "      <td>55</td>\n",
              "      <td>ECWKVHXMNAFUT</td>\n",
              "      <td>SEO</td>\n",
              "      <td>IE</td>\n",
              "      <td>M</td>\n",
              "      <td>33</td>\n",
              "      <td>1</td>\n",
              "      <td>unknown</td>\n",
              "      <td>16403</td>\n",
              "      <td>0.085723</td>\n",
              "    </tr>\n",
              "    <tr>\n",
              "      <th>99146</th>\n",
              "      <td>359187</td>\n",
              "      <td>2015-08-10 07:41:38</td>\n",
              "      <td>2015-10-01 01:56:24</td>\n",
              "      <td>53</td>\n",
              "      <td>EZNYNBPDYQUZV</td>\n",
              "      <td>SEO</td>\n",
              "      <td>Chrome</td>\n",
              "      <td>F</td>\n",
              "      <td>35</td>\n",
              "      <td>1</td>\n",
              "      <td>United States</td>\n",
              "      <td>65686</td>\n",
              "      <td>0.095626</td>\n",
              "    </tr>\n",
              "  </tbody>\n",
              "</table>\n",
              "<p>1982 rows × 13 columns</p>\n",
              "</div>"
            ],
            "text/plain": [
              "        user_id          signup_time        purchase_time  purchase_value  \\\n",
              "3066     232702  2015-01-18 18:50:34  2015-04-27 12:24:20              38   \n",
              "87588    250152  2015-08-02 15:54:44  2015-08-12 04:25:37              62   \n",
              "36361    149049  2015-01-06 08:32:21  2015-04-03 04:18:28              22   \n",
              "26860    157374  2015-07-04 01:09:27  2015-09-12 04:14:03              42   \n",
              "130904   318465  2015-06-01 00:35:50  2015-09-20 06:00:46              29   \n",
              "70567    351754  2015-04-16 01:12:39  2015-04-26 01:35:11              33   \n",
              "14633    357082  2015-07-06 03:40:46  2015-08-12 06:37:59              40   \n",
              "49860      8622  2015-06-19 09:12:10  2015-07-20 11:17:35              35   \n",
              "137915   345214  2015-08-15 22:15:07  2015-11-10 09:08:08              55   \n",
              "134807   208295  2015-01-04 19:20:25  2015-04-04 14:27:42              57   \n",
              "35547     91304  2015-08-06 06:27:36  2015-08-15 20:33:25              22   \n",
              "146573   161471  2015-04-16 22:14:04  2015-05-07 13:40:39              40   \n",
              "73060    107780  2015-07-19 18:36:00  2015-08-17 16:43:00              45   \n",
              "108482   241635  2015-08-15 14:16:56  2015-09-12 07:40:28              37   \n",
              "102542   133219  2015-02-21 14:39:49  2015-05-08 02:26:07              25   \n",
              "121728   236134  2015-02-10 12:44:16  2015-04-14 10:56:22              54   \n",
              "63600     44524  2015-01-09 11:49:19  2015-03-15 20:19:46              31   \n",
              "29611    231061  2015-06-19 10:25:18  2015-06-26 13:55:55              22   \n",
              "80815    104805  2015-06-30 08:34:34  2015-08-19 11:16:01              49   \n",
              "134024    16149  2015-01-23 14:44:48  2015-02-21 13:56:42              28   \n",
              "118193    50770  2015-07-30 04:40:29  2015-08-27 00:27:09              67   \n",
              "32642    316233  2015-01-03 11:20:55  2015-04-06 14:27:03              39   \n",
              "81023    101887  2015-06-14 16:49:12  2015-08-01 03:34:19              71   \n",
              "34449    387812  2015-05-23 07:35:31  2015-09-09 13:40:50              29   \n",
              "88571    180869  2015-08-15 12:37:37  2015-12-04 12:23:42              53   \n",
              "139644   153429  2015-07-13 23:53:25  2015-08-14 07:54:48              15   \n",
              "24256    209864  2015-01-11 15:48:44  2015-02-21 22:34:57              76   \n",
              "51887    249520  2015-07-21 17:34:25  2015-08-23 19:28:10              36   \n",
              "52868     94640  2015-06-20 07:19:05  2015-07-26 10:29:43              30   \n",
              "105835    17806  2015-01-04 10:02:02  2015-01-17 07:54:51              41   \n",
              "...         ...                  ...                  ...             ...   \n",
              "131015   194228  2015-02-07 18:59:16  2015-02-09 17:17:50              27   \n",
              "100760    14373  2015-05-30 20:12:02  2015-07-03 14:03:21              70   \n",
              "138182   375332  2015-07-08 09:34:42  2015-10-29 18:58:51              48   \n",
              "91399    378506  2015-04-27 08:22:28  2015-06-10 22:08:36              30   \n",
              "74783     73168  2015-08-02 10:46:32  2015-10-26 06:32:27              56   \n",
              "63310     49474  2015-07-11 08:00:56  2015-07-13 06:37:49              14   \n",
              "10333    193669  2015-07-20 10:26:22  2015-10-17 16:46:22              39   \n",
              "92365    335244  2015-07-10 12:00:13  2015-10-12 08:11:54              25   \n",
              "118595   138060  2015-04-30 15:01:50  2015-07-03 13:07:00              21   \n",
              "149682   228192  2015-06-28 01:30:23  2015-08-15 18:54:03              54   \n",
              "93791    378615  2015-06-09 09:54:15  2015-08-05 17:10:02              34   \n",
              "87762    345165  2015-04-25 16:33:20  2015-05-08 23:51:04              31   \n",
              "56153    211700  2015-05-10 09:47:55  2015-08-31 05:49:53              43   \n",
              "56237     27937  2015-08-17 15:26:24  2015-11-19 14:00:52               9   \n",
              "136002   387784  2015-06-10 01:12:52  2015-09-08 00:28:00              22   \n",
              "84488    283441  2015-03-12 00:56:02  2015-05-24 20:22:51              10   \n",
              "123284   315906  2015-05-08 15:17:05  2015-06-17 08:02:38              65   \n",
              "111068   368111  2015-07-27 16:19:36  2015-11-12 11:43:43              15   \n",
              "25847    203504  2015-03-27 01:24:49  2015-06-25 07:46:00              53   \n",
              "25147    366305  2015-07-25 12:39:29  2015-08-06 21:09:31              32   \n",
              "86987    180204  2015-08-05 21:03:57  2015-09-02 02:26:31              38   \n",
              "142413   219038  2015-01-11 16:03:22  2015-03-13 04:54:31              16   \n",
              "91380    255115  2015-02-27 21:47:39  2015-05-31 22:24:46              31   \n",
              "88618    395380  2015-03-15 05:00:01  2015-07-12 08:55:17              38   \n",
              "107804    54213  2015-07-05 03:56:48  2015-10-25 14:07:27              63   \n",
              "96572    214665  2015-06-11 14:25:28  2015-09-06 13:09:21              23   \n",
              "47554     79366  2015-03-08 07:36:45  2015-05-25 11:39:49              20   \n",
              "113131    78267  2015-01-26 01:06:59  2015-04-14 00:28:35              68   \n",
              "150681   264759  2015-06-21 12:00:15  2015-09-15 16:33:38              55   \n",
              "99146    359187  2015-08-10 07:41:38  2015-10-01 01:56:24              53   \n",
              "\n",
              "            device_id  source  browser sex  age  class  \\\n",
              "3066    SRVANJHTSJCZT     SEO       IE   M   42      1   \n",
              "87588   BDDJUCORUOPAU     Ads   Safari   M   40      1   \n",
              "36361   ENAZEJHJSBHVK  Direct       IE   M   21      1   \n",
              "26860   UHWPAJWLAGLGN     SEO   Chrome   F   41      1   \n",
              "130904  PKHGEZJLBHTEC     SEO   Safari   M   33      1   \n",
              "70567   PIZWWHLXIOKJH     SEO   Chrome   F   24      1   \n",
              "14633   TSRENYKXKNWPT     Ads   Chrome   M   37      1   \n",
              "49860   JHPSKXXWEFNVD  Direct   Chrome   F   25      1   \n",
              "137915  RNGDNPMOVBGII     SEO       IE   M   19      1   \n",
              "134807  YVEWGCCFLSTXS     SEO   Chrome   F   48      1   \n",
              "35547   IETJXBIUVRUCF     Ads   Chrome   M   27      1   \n",
              "146573  DSYEGXKEYDGPP     Ads  FireFox   M   38      1   \n",
              "73060   OOGCWHECFPZJE     Ads   Safari   M   23      1   \n",
              "108482  IZXCJRJIPTXCV     Ads   Chrome   M   23      1   \n",
              "102542  LRSAJIVIEGULU     Ads   Chrome   F   23      1   \n",
              "121728  YPNCKSNITMWTU     Ads       IE   F   23      1   \n",
              "63600   NMOFIMTXPAQPG  Direct   Chrome   M   50      1   \n",
              "29611   GCNETVWSGOEGR     Ads   Chrome   F   32      1   \n",
              "80815   UAZRXCRTGKASJ  Direct       IE   M   20      1   \n",
              "134024  ZALJQWZRMFQVD     Ads  FireFox   M   28      1   \n",
              "118193  MVNGNXUBCVVLM     Ads  FireFox   F   31      1   \n",
              "32642   JLIDQJCKSBHWL     SEO       IE   M   34      1   \n",
              "81023   AGQQYACZPZYVS     SEO       IE   F   33      1   \n",
              "34449   PYCEWUXQIIACC     Ads  FireFox   M   35      1   \n",
              "88571   USIUWPPMPQTLX     SEO  FireFox   M   24      1   \n",
              "139644  IUHBBJTNCQLTF     Ads   Chrome   F   27      1   \n",
              "24256   KZNXAZIFWORVQ     Ads   Chrome   F   44      1   \n",
              "51887   UDDYRZEQSPZRD     Ads   Safari   M   38      1   \n",
              "52868   FDWSIGXVGQXUM     Ads       IE   F   36      1   \n",
              "105835  JIFBAARGMJJOQ     SEO   Safari   F   25      1   \n",
              "...               ...     ...      ...  ..  ...    ...   \n",
              "131015  NMGDAAPXLCCVI     SEO   Safari   F   36      1   \n",
              "100760  EOPDLOAHFBWHR     SEO       IE   F   34      1   \n",
              "138182  CGEUUELXPYDRJ  Direct   Safari   F   23      1   \n",
              "91399   KEVINKEAJOSXJ     Ads   Safari   F   34      1   \n",
              "74783   GNRNCBUWNKZCB     Ads  FireFox   M   31      1   \n",
              "63310   AOHUVOSQALRCO  Direct   Chrome   M   35      1   \n",
              "10333   WDAGTJECUIKBV     SEO   Chrome   F   37      1   \n",
              "92365   ICQVAXVGROOLF     Ads   Chrome   F   38      1   \n",
              "118595  IGWBNWDSMZJWO     SEO   Chrome   M   34      1   \n",
              "149682  RLFNPTGSXITLE     Ads   Chrome   M   39      1   \n",
              "93791   TTKTEIRGRINDY     SEO   Chrome   M   29      1   \n",
              "87762   HZTITKLNGBPWY  Direct   Chrome   F   26      1   \n",
              "56153   DTRYWITOVFUHA     Ads  FireFox   F   42      1   \n",
              "56237   GRKFQEPMTRNYR     SEO   Chrome   M   28      1   \n",
              "136002  DCRIUFQPLEFYV     SEO   Chrome   F   36      1   \n",
              "84488   TGEUZOEECWKDR  Direct       IE   M   20      1   \n",
              "123284  HXOWBMBYLOROD  Direct   Chrome   M   27      1   \n",
              "111068  QHTKFRYYBMXUC     SEO       IE   F   24      1   \n",
              "25847   KEWYDHOTMEGYV     SEO   Chrome   M   27      1   \n",
              "25147   DPLMICKTWQDVE     Ads  FireFox   F   30      1   \n",
              "86987   VSJEIHEYOHFWA     SEO       IE   M   33      1   \n",
              "142413  IXSWKRXGCZZTZ     Ads   Chrome   M   27      1   \n",
              "91380   YIQWEHGGONDNM     Ads       IE   F   31      1   \n",
              "88618   YHEIGWJDZYZWJ     SEO   Chrome   M   36      1   \n",
              "107804  RKNFZAMUPUURO     Ads   Safari   F   32      1   \n",
              "96572   YKGWJQRZTWYVR  Direct   Safari   M   19      1   \n",
              "47554   UHWHSHNKHPXAH  Direct   Chrome   F   50      1   \n",
              "113131  FCBITMVZFAIYQ  Direct  FireFox   M   29      1   \n",
              "150681  ECWKVHXMNAFUT     SEO       IE   M   33      1   \n",
              "99146   EZNYNBPDYQUZV     SEO   Chrome   F   35      1   \n",
              "\n",
              "                                country  elapse  cl_country  \n",
              "3066                      United States   63226    0.095626  \n",
              "87588                             China   45053    0.086642  \n",
              "36361                     United States   71167    0.095626  \n",
              "26860                     United States   11076    0.095626  \n",
              "130904                        Indonesia   19496    0.087827  \n",
              "70567                     United States    1352    0.095626  \n",
              "14633                             Japan   10633    0.097865  \n",
              "49860                           Germany    7525    0.071860  \n",
              "137915                    United States   39181    0.095626  \n",
              "134807                    United States   68837    0.095626  \n",
              "35547                     United States   50749    0.095626  \n",
              "146573                      Netherlands   55595    0.073214  \n",
              "73060                            Mexico   79620    0.128457  \n",
              "108482                   United Kingdom   62612    0.106236  \n",
              "102542                   United Kingdom   42378    0.106236  \n",
              "121728                            China   79926    0.086642  \n",
              "63600                     United States   30627    0.095626  \n",
              "29611                     United States   12637    0.095626  \n",
              "80815                           Germany    9687    0.071860  \n",
              "134024                          Germany   83514    0.071860  \n",
              "118193                    United States   71200    0.095626  \n",
              "32642                     United States   11168    0.095626  \n",
              "81023                     United States   38707    0.095626  \n",
              "34449                            Sweden   21919    0.120183  \n",
              "88571                             Japan   85565    0.097865  \n",
              "139644  Taiwan; Republic of China (ROC)   28883    0.080032  \n",
              "24256                           unknown   24373    0.085723  \n",
              "51887                            Canada    6825    0.116975  \n",
              "52868                            Brazil   11438    0.091185  \n",
              "105835                   United Kingdom   78769    0.106236  \n",
              "...                                 ...     ...         ...  \n",
              "131015                            Japan   80314    0.097865  \n",
              "100760                            Japan   64279    0.097865  \n",
              "138182                          unknown   33849    0.085723  \n",
              "91399                           Romania   49568    0.051429  \n",
              "74783                           unknown   71155    0.085723  \n",
              "63310                     United States   81413    0.095626  \n",
              "10333                            France   22800    0.094907  \n",
              "92365                     United States   72701    0.095626  \n",
              "118595                         Pakistan   79510    0.043011  \n",
              "149682                          unknown   62620    0.085723  \n",
              "93791                           unknown   26147    0.085723  \n",
              "87762                           unknown   26264    0.085723  \n",
              "56153                     United States   72118    0.095626  \n",
              "56237                       Netherlands   81268    0.073214  \n",
              "136002                    United States   83708    0.095626  \n",
              "84488                    United Kingdom   70009    0.106236  \n",
              "123284                            India   60333    0.115267  \n",
              "111068                          unknown   69847    0.085723  \n",
              "25847                    United Kingdom   22871    0.106236  \n",
              "25147                           unknown   30602    0.085723  \n",
              "86987                Russian Federation   19354    0.082921  \n",
              "142413                    United States   46269    0.095626  \n",
              "91380                         Australia    2227    0.089479  \n",
              "88618                            Canada   14116    0.116975  \n",
              "107804                    United States   36639    0.095626  \n",
              "96572                            France   81833    0.094907  \n",
              "47554                     United States   14584    0.095626  \n",
              "113131                    United States   84096    0.095626  \n",
              "150681                          unknown   16403    0.085723  \n",
              "99146                     United States   65686    0.095626  \n",
              "\n",
              "[1982 rows x 13 columns]"
            ]
          },
          "metadata": {
            "tags": []
          },
          "execution_count": 81
        }
      ]
    },
    {
      "cell_type": "code",
      "metadata": {
        "id": "3g0aMTTSThjc",
        "colab_type": "code",
        "outputId": "305d17a1-e16f-4c0c-f278-525f372f623c",
        "colab": {}
      },
      "source": [
        "fraud.iloc[y_test[m==True].index,:][((fraud[\"class\"] == 1)  & (fraud.elapse > 1))]"
      ],
      "execution_count": 0,
      "outputs": [
        {
          "output_type": "stream",
          "text": [
            "C:\\ProgramData\\Anaconda3\\lib\\site-packages\\ipykernel_launcher.py:1: UserWarning: Boolean Series key will be reindexed to match DataFrame index.\n",
            "  \"\"\"Entry point for launching an IPython kernel.\n"
          ],
          "name": "stderr"
        },
        {
          "output_type": "execute_result",
          "data": {
            "text/html": [
              "<div>\n",
              "<style scoped>\n",
              "    .dataframe tbody tr th:only-of-type {\n",
              "        vertical-align: middle;\n",
              "    }\n",
              "\n",
              "    .dataframe tbody tr th {\n",
              "        vertical-align: top;\n",
              "    }\n",
              "\n",
              "    .dataframe thead th {\n",
              "        text-align: right;\n",
              "    }\n",
              "</style>\n",
              "<table border=\"1\" class=\"dataframe\">\n",
              "  <thead>\n",
              "    <tr style=\"text-align: right;\">\n",
              "      <th></th>\n",
              "      <th>user_id</th>\n",
              "      <th>signup_time</th>\n",
              "      <th>purchase_time</th>\n",
              "      <th>purchase_value</th>\n",
              "      <th>device_id</th>\n",
              "      <th>source</th>\n",
              "      <th>browser</th>\n",
              "      <th>sex</th>\n",
              "      <th>age</th>\n",
              "      <th>class</th>\n",
              "      <th>country</th>\n",
              "      <th>elapse</th>\n",
              "      <th>cl_country</th>\n",
              "    </tr>\n",
              "  </thead>\n",
              "  <tbody>\n",
              "  </tbody>\n",
              "</table>\n",
              "</div>"
            ],
            "text/plain": [
              "Empty DataFrame\n",
              "Columns: [user_id, signup_time, purchase_time, purchase_value, device_id, source, browser, sex, age, class, country, elapse, cl_country]\n",
              "Index: []"
            ]
          },
          "metadata": {
            "tags": []
          },
          "execution_count": 82
        }
      ]
    },
    {
      "cell_type": "markdown",
      "metadata": {
        "id": "oYqLlyjqThje",
        "colab_type": "text"
      },
      "source": [
        "Comment améliorer ce modèle. N'est t'on pas passé a coté de quelque chose"
      ]
    },
    {
      "cell_type": "code",
      "metadata": {
        "id": "M33vAIgVThje",
        "colab_type": "code",
        "colab": {}
      },
      "source": [
        ""
      ],
      "execution_count": 0,
      "outputs": []
    },
    {
      "cell_type": "code",
      "metadata": {
        "id": "FseoRGKGThjf",
        "colab_type": "code",
        "outputId": "6fa6b7b7-2f26-4236-cdb1-1b5d001f60af",
        "colab": {}
      },
      "source": [
        "fraud_full.device_id.describe()"
      ],
      "execution_count": 0,
      "outputs": [
        {
          "output_type": "execute_result",
          "data": {
            "text/plain": [
              "count            151112\n",
              "unique           137956\n",
              "top       NGQCKIADMZORL\n",
              "freq                 20\n",
              "Name: device_id, dtype: object"
            ]
          },
          "metadata": {
            "tags": []
          },
          "execution_count": 83
        }
      ]
    },
    {
      "cell_type": "code",
      "metadata": {
        "id": "VZZ1jMxZThjh",
        "colab_type": "code",
        "outputId": "3ec8c839-8d74-4ae0-828b-c42682e24089",
        "colab": {}
      },
      "source": [
        "fraud_full.device_id[fraud_full[\"class\"] == 1].describe()"
      ],
      "execution_count": 0,
      "outputs": [
        {
          "output_type": "execute_result",
          "data": {
            "text/plain": [
              "count             14151\n",
              "unique             6987\n",
              "top       ITUMJCKWEYNDD\n",
              "freq                 19\n",
              "Name: device_id, dtype: object"
            ]
          },
          "metadata": {
            "tags": []
          },
          "execution_count": 84
        }
      ]
    },
    {
      "cell_type": "code",
      "metadata": {
        "id": "YZ0b3x4rThji",
        "colab_type": "code",
        "outputId": "aaf1f2d0-5546-4302-a4fb-9cc6bd17af83",
        "colab": {}
      },
      "source": [
        "fraud_full.device_id[fraud_full[\"class\"] == 1].duplicated().sum()"
      ],
      "execution_count": 0,
      "outputs": [
        {
          "output_type": "execute_result",
          "data": {
            "text/plain": [
              "7164"
            ]
          },
          "metadata": {
            "tags": []
          },
          "execution_count": 85
        }
      ]
    },
    {
      "cell_type": "code",
      "metadata": {
        "id": "QYyrbg_oThjk",
        "colab_type": "code",
        "outputId": "e4f07515-56b5-4026-f255-bb91a9432c35",
        "colab": {}
      },
      "source": [
        "fraud_full[fraud_full.device_id == \"NGQCKIADMZORL\"]"
      ],
      "execution_count": 0,
      "outputs": [
        {
          "output_type": "execute_result",
          "data": {
            "text/html": [
              "<div>\n",
              "<style scoped>\n",
              "    .dataframe tbody tr th:only-of-type {\n",
              "        vertical-align: middle;\n",
              "    }\n",
              "\n",
              "    .dataframe tbody tr th {\n",
              "        vertical-align: top;\n",
              "    }\n",
              "\n",
              "    .dataframe thead th {\n",
              "        text-align: right;\n",
              "    }\n",
              "</style>\n",
              "<table border=\"1\" class=\"dataframe\">\n",
              "  <thead>\n",
              "    <tr style=\"text-align: right;\">\n",
              "      <th></th>\n",
              "      <th>user_id</th>\n",
              "      <th>signup_time</th>\n",
              "      <th>purchase_time</th>\n",
              "      <th>purchase_value</th>\n",
              "      <th>device_id</th>\n",
              "      <th>source</th>\n",
              "      <th>browser</th>\n",
              "      <th>sex</th>\n",
              "      <th>age</th>\n",
              "      <th>ip_address</th>\n",
              "      <th>class</th>\n",
              "    </tr>\n",
              "  </thead>\n",
              "  <tbody>\n",
              "    <tr>\n",
              "      <th>13973</th>\n",
              "      <td>278428</td>\n",
              "      <td>2015-01-03 13:10:40</td>\n",
              "      <td>2015-01-03 13:10:41</td>\n",
              "      <td>42</td>\n",
              "      <td>NGQCKIADMZORL</td>\n",
              "      <td>SEO</td>\n",
              "      <td>FireFox</td>\n",
              "      <td>F</td>\n",
              "      <td>34</td>\n",
              "      <td>2.050964e+09</td>\n",
              "      <td>1</td>\n",
              "    </tr>\n",
              "    <tr>\n",
              "      <th>17397</th>\n",
              "      <td>53591</td>\n",
              "      <td>2015-01-03 13:10:43</td>\n",
              "      <td>2015-01-03 13:10:44</td>\n",
              "      <td>42</td>\n",
              "      <td>NGQCKIADMZORL</td>\n",
              "      <td>SEO</td>\n",
              "      <td>FireFox</td>\n",
              "      <td>F</td>\n",
              "      <td>34</td>\n",
              "      <td>2.050964e+09</td>\n",
              "      <td>1</td>\n",
              "    </tr>\n",
              "    <tr>\n",
              "      <th>17551</th>\n",
              "      <td>384595</td>\n",
              "      <td>2015-01-03 13:10:35</td>\n",
              "      <td>2015-01-03 13:10:36</td>\n",
              "      <td>42</td>\n",
              "      <td>NGQCKIADMZORL</td>\n",
              "      <td>SEO</td>\n",
              "      <td>FireFox</td>\n",
              "      <td>F</td>\n",
              "      <td>34</td>\n",
              "      <td>2.050964e+09</td>\n",
              "      <td>1</td>\n",
              "    </tr>\n",
              "    <tr>\n",
              "      <th>19324</th>\n",
              "      <td>181018</td>\n",
              "      <td>2015-01-03 13:10:41</td>\n",
              "      <td>2015-01-03 13:10:42</td>\n",
              "      <td>42</td>\n",
              "      <td>NGQCKIADMZORL</td>\n",
              "      <td>SEO</td>\n",
              "      <td>FireFox</td>\n",
              "      <td>F</td>\n",
              "      <td>34</td>\n",
              "      <td>2.050964e+09</td>\n",
              "      <td>1</td>\n",
              "    </tr>\n",
              "    <tr>\n",
              "      <th>23254</th>\n",
              "      <td>226646</td>\n",
              "      <td>2015-01-03 13:10:51</td>\n",
              "      <td>2015-01-03 13:10:52</td>\n",
              "      <td>42</td>\n",
              "      <td>NGQCKIADMZORL</td>\n",
              "      <td>SEO</td>\n",
              "      <td>FireFox</td>\n",
              "      <td>F</td>\n",
              "      <td>34</td>\n",
              "      <td>2.050964e+09</td>\n",
              "      <td>1</td>\n",
              "    </tr>\n",
              "    <tr>\n",
              "      <th>23670</th>\n",
              "      <td>381483</td>\n",
              "      <td>2015-01-03 13:10:49</td>\n",
              "      <td>2015-01-03 13:10:50</td>\n",
              "      <td>42</td>\n",
              "      <td>NGQCKIADMZORL</td>\n",
              "      <td>SEO</td>\n",
              "      <td>FireFox</td>\n",
              "      <td>F</td>\n",
              "      <td>34</td>\n",
              "      <td>2.050964e+09</td>\n",
              "      <td>1</td>\n",
              "    </tr>\n",
              "    <tr>\n",
              "      <th>27888</th>\n",
              "      <td>277313</td>\n",
              "      <td>2015-01-03 13:10:45</td>\n",
              "      <td>2015-01-03 13:10:46</td>\n",
              "      <td>42</td>\n",
              "      <td>NGQCKIADMZORL</td>\n",
              "      <td>SEO</td>\n",
              "      <td>FireFox</td>\n",
              "      <td>F</td>\n",
              "      <td>34</td>\n",
              "      <td>2.050964e+09</td>\n",
              "      <td>1</td>\n",
              "    </tr>\n",
              "    <tr>\n",
              "      <th>62937</th>\n",
              "      <td>186785</td>\n",
              "      <td>2015-01-03 13:10:52</td>\n",
              "      <td>2015-01-03 13:10:53</td>\n",
              "      <td>42</td>\n",
              "      <td>NGQCKIADMZORL</td>\n",
              "      <td>SEO</td>\n",
              "      <td>FireFox</td>\n",
              "      <td>F</td>\n",
              "      <td>34</td>\n",
              "      <td>2.050964e+09</td>\n",
              "      <td>1</td>\n",
              "    </tr>\n",
              "    <tr>\n",
              "      <th>64799</th>\n",
              "      <td>38749</td>\n",
              "      <td>2015-01-03 13:10:44</td>\n",
              "      <td>2015-01-03 13:10:45</td>\n",
              "      <td>42</td>\n",
              "      <td>NGQCKIADMZORL</td>\n",
              "      <td>SEO</td>\n",
              "      <td>FireFox</td>\n",
              "      <td>F</td>\n",
              "      <td>34</td>\n",
              "      <td>2.050964e+09</td>\n",
              "      <td>1</td>\n",
              "    </tr>\n",
              "    <tr>\n",
              "      <th>68063</th>\n",
              "      <td>179901</td>\n",
              "      <td>2015-01-03 13:10:50</td>\n",
              "      <td>2015-01-03 13:10:51</td>\n",
              "      <td>42</td>\n",
              "      <td>NGQCKIADMZORL</td>\n",
              "      <td>SEO</td>\n",
              "      <td>FireFox</td>\n",
              "      <td>F</td>\n",
              "      <td>34</td>\n",
              "      <td>2.050964e+09</td>\n",
              "      <td>1</td>\n",
              "    </tr>\n",
              "    <tr>\n",
              "      <th>77137</th>\n",
              "      <td>139414</td>\n",
              "      <td>2015-01-03 13:10:36</td>\n",
              "      <td>2015-01-03 13:10:37</td>\n",
              "      <td>42</td>\n",
              "      <td>NGQCKIADMZORL</td>\n",
              "      <td>SEO</td>\n",
              "      <td>FireFox</td>\n",
              "      <td>F</td>\n",
              "      <td>34</td>\n",
              "      <td>2.050964e+09</td>\n",
              "      <td>1</td>\n",
              "    </tr>\n",
              "    <tr>\n",
              "      <th>91482</th>\n",
              "      <td>86889</td>\n",
              "      <td>2015-01-03 13:10:39</td>\n",
              "      <td>2015-01-03 13:10:40</td>\n",
              "      <td>42</td>\n",
              "      <td>NGQCKIADMZORL</td>\n",
              "      <td>SEO</td>\n",
              "      <td>FireFox</td>\n",
              "      <td>F</td>\n",
              "      <td>34</td>\n",
              "      <td>2.050964e+09</td>\n",
              "      <td>1</td>\n",
              "    </tr>\n",
              "    <tr>\n",
              "      <th>96193</th>\n",
              "      <td>326970</td>\n",
              "      <td>2015-01-03 13:10:48</td>\n",
              "      <td>2015-01-03 13:10:49</td>\n",
              "      <td>42</td>\n",
              "      <td>NGQCKIADMZORL</td>\n",
              "      <td>SEO</td>\n",
              "      <td>FireFox</td>\n",
              "      <td>F</td>\n",
              "      <td>34</td>\n",
              "      <td>2.050964e+09</td>\n",
              "      <td>1</td>\n",
              "    </tr>\n",
              "    <tr>\n",
              "      <th>114889</th>\n",
              "      <td>10019</td>\n",
              "      <td>2015-01-03 13:10:34</td>\n",
              "      <td>2015-01-03 13:10:35</td>\n",
              "      <td>42</td>\n",
              "      <td>NGQCKIADMZORL</td>\n",
              "      <td>SEO</td>\n",
              "      <td>FireFox</td>\n",
              "      <td>F</td>\n",
              "      <td>34</td>\n",
              "      <td>2.050964e+09</td>\n",
              "      <td>1</td>\n",
              "    </tr>\n",
              "    <tr>\n",
              "      <th>115004</th>\n",
              "      <td>77813</td>\n",
              "      <td>2015-01-03 13:10:47</td>\n",
              "      <td>2015-01-03 13:10:48</td>\n",
              "      <td>42</td>\n",
              "      <td>NGQCKIADMZORL</td>\n",
              "      <td>SEO</td>\n",
              "      <td>FireFox</td>\n",
              "      <td>F</td>\n",
              "      <td>34</td>\n",
              "      <td>2.050964e+09</td>\n",
              "      <td>1</td>\n",
              "    </tr>\n",
              "    <tr>\n",
              "      <th>135131</th>\n",
              "      <td>344981</td>\n",
              "      <td>2015-01-03 13:10:38</td>\n",
              "      <td>2015-01-03 13:10:39</td>\n",
              "      <td>42</td>\n",
              "      <td>NGQCKIADMZORL</td>\n",
              "      <td>SEO</td>\n",
              "      <td>FireFox</td>\n",
              "      <td>F</td>\n",
              "      <td>34</td>\n",
              "      <td>2.050964e+09</td>\n",
              "      <td>1</td>\n",
              "    </tr>\n",
              "    <tr>\n",
              "      <th>137743</th>\n",
              "      <td>111457</td>\n",
              "      <td>2015-01-03 13:10:46</td>\n",
              "      <td>2015-01-03 13:10:47</td>\n",
              "      <td>42</td>\n",
              "      <td>NGQCKIADMZORL</td>\n",
              "      <td>SEO</td>\n",
              "      <td>FireFox</td>\n",
              "      <td>F</td>\n",
              "      <td>34</td>\n",
              "      <td>2.050964e+09</td>\n",
              "      <td>1</td>\n",
              "    </tr>\n",
              "    <tr>\n",
              "      <th>139973</th>\n",
              "      <td>203014</td>\n",
              "      <td>2015-01-03 13:10:37</td>\n",
              "      <td>2015-01-03 13:10:38</td>\n",
              "      <td>42</td>\n",
              "      <td>NGQCKIADMZORL</td>\n",
              "      <td>SEO</td>\n",
              "      <td>FireFox</td>\n",
              "      <td>F</td>\n",
              "      <td>34</td>\n",
              "      <td>2.050964e+09</td>\n",
              "      <td>1</td>\n",
              "    </tr>\n",
              "    <tr>\n",
              "      <th>149145</th>\n",
              "      <td>236180</td>\n",
              "      <td>2015-01-03 13:10:42</td>\n",
              "      <td>2015-01-03 13:10:43</td>\n",
              "      <td>42</td>\n",
              "      <td>NGQCKIADMZORL</td>\n",
              "      <td>SEO</td>\n",
              "      <td>FireFox</td>\n",
              "      <td>F</td>\n",
              "      <td>34</td>\n",
              "      <td>2.050964e+09</td>\n",
              "      <td>1</td>\n",
              "    </tr>\n",
              "    <tr>\n",
              "      <th>149650</th>\n",
              "      <td>376799</td>\n",
              "      <td>2015-01-03 13:10:33</td>\n",
              "      <td>2015-02-08 15:33:59</td>\n",
              "      <td>42</td>\n",
              "      <td>NGQCKIADMZORL</td>\n",
              "      <td>SEO</td>\n",
              "      <td>FireFox</td>\n",
              "      <td>F</td>\n",
              "      <td>34</td>\n",
              "      <td>2.050964e+09</td>\n",
              "      <td>0</td>\n",
              "    </tr>\n",
              "  </tbody>\n",
              "</table>\n",
              "</div>"
            ],
            "text/plain": [
              "        user_id          signup_time        purchase_time  purchase_value  \\\n",
              "13973    278428  2015-01-03 13:10:40  2015-01-03 13:10:41              42   \n",
              "17397     53591  2015-01-03 13:10:43  2015-01-03 13:10:44              42   \n",
              "17551    384595  2015-01-03 13:10:35  2015-01-03 13:10:36              42   \n",
              "19324    181018  2015-01-03 13:10:41  2015-01-03 13:10:42              42   \n",
              "23254    226646  2015-01-03 13:10:51  2015-01-03 13:10:52              42   \n",
              "23670    381483  2015-01-03 13:10:49  2015-01-03 13:10:50              42   \n",
              "27888    277313  2015-01-03 13:10:45  2015-01-03 13:10:46              42   \n",
              "62937    186785  2015-01-03 13:10:52  2015-01-03 13:10:53              42   \n",
              "64799     38749  2015-01-03 13:10:44  2015-01-03 13:10:45              42   \n",
              "68063    179901  2015-01-03 13:10:50  2015-01-03 13:10:51              42   \n",
              "77137    139414  2015-01-03 13:10:36  2015-01-03 13:10:37              42   \n",
              "91482     86889  2015-01-03 13:10:39  2015-01-03 13:10:40              42   \n",
              "96193    326970  2015-01-03 13:10:48  2015-01-03 13:10:49              42   \n",
              "114889    10019  2015-01-03 13:10:34  2015-01-03 13:10:35              42   \n",
              "115004    77813  2015-01-03 13:10:47  2015-01-03 13:10:48              42   \n",
              "135131   344981  2015-01-03 13:10:38  2015-01-03 13:10:39              42   \n",
              "137743   111457  2015-01-03 13:10:46  2015-01-03 13:10:47              42   \n",
              "139973   203014  2015-01-03 13:10:37  2015-01-03 13:10:38              42   \n",
              "149145   236180  2015-01-03 13:10:42  2015-01-03 13:10:43              42   \n",
              "149650   376799  2015-01-03 13:10:33  2015-02-08 15:33:59              42   \n",
              "\n",
              "            device_id source  browser sex  age    ip_address  class  \n",
              "13973   NGQCKIADMZORL    SEO  FireFox   F   34  2.050964e+09      1  \n",
              "17397   NGQCKIADMZORL    SEO  FireFox   F   34  2.050964e+09      1  \n",
              "17551   NGQCKIADMZORL    SEO  FireFox   F   34  2.050964e+09      1  \n",
              "19324   NGQCKIADMZORL    SEO  FireFox   F   34  2.050964e+09      1  \n",
              "23254   NGQCKIADMZORL    SEO  FireFox   F   34  2.050964e+09      1  \n",
              "23670   NGQCKIADMZORL    SEO  FireFox   F   34  2.050964e+09      1  \n",
              "27888   NGQCKIADMZORL    SEO  FireFox   F   34  2.050964e+09      1  \n",
              "62937   NGQCKIADMZORL    SEO  FireFox   F   34  2.050964e+09      1  \n",
              "64799   NGQCKIADMZORL    SEO  FireFox   F   34  2.050964e+09      1  \n",
              "68063   NGQCKIADMZORL    SEO  FireFox   F   34  2.050964e+09      1  \n",
              "77137   NGQCKIADMZORL    SEO  FireFox   F   34  2.050964e+09      1  \n",
              "91482   NGQCKIADMZORL    SEO  FireFox   F   34  2.050964e+09      1  \n",
              "96193   NGQCKIADMZORL    SEO  FireFox   F   34  2.050964e+09      1  \n",
              "114889  NGQCKIADMZORL    SEO  FireFox   F   34  2.050964e+09      1  \n",
              "115004  NGQCKIADMZORL    SEO  FireFox   F   34  2.050964e+09      1  \n",
              "135131  NGQCKIADMZORL    SEO  FireFox   F   34  2.050964e+09      1  \n",
              "137743  NGQCKIADMZORL    SEO  FireFox   F   34  2.050964e+09      1  \n",
              "139973  NGQCKIADMZORL    SEO  FireFox   F   34  2.050964e+09      1  \n",
              "149145  NGQCKIADMZORL    SEO  FireFox   F   34  2.050964e+09      1  \n",
              "149650  NGQCKIADMZORL    SEO  FireFox   F   34  2.050964e+09      0  "
            ]
          },
          "metadata": {
            "tags": []
          },
          "execution_count": 87
        }
      ]
    },
    {
      "cell_type": "code",
      "metadata": {
        "id": "oMSC5bROThjl",
        "colab_type": "code",
        "colab": {}
      },
      "source": [
        ""
      ],
      "execution_count": 0,
      "outputs": []
    },
    {
      "cell_type": "code",
      "metadata": {
        "id": "NBNkeuf_Thjm",
        "colab_type": "code",
        "colab": {}
      },
      "source": [
        ""
      ],
      "execution_count": 0,
      "outputs": []
    },
    {
      "cell_type": "code",
      "metadata": {
        "id": "5sX-ZZepThjm",
        "colab_type": "code",
        "colab": {}
      },
      "source": [
        "#fraud.iloc[y_test[m==False].index,:].device.value_counts()"
      ],
      "execution_count": 0,
      "outputs": []
    },
    {
      "cell_type": "code",
      "metadata": {
        "id": "xYkE5JiUThjn",
        "colab_type": "code",
        "outputId": "707a34d5-c5c2-4b6c-9045-c1da6b763804",
        "colab": {}
      },
      "source": [
        "fraud.head()"
      ],
      "execution_count": 0,
      "outputs": [
        {
          "output_type": "execute_result",
          "data": {
            "text/html": [
              "<div>\n",
              "<style scoped>\n",
              "    .dataframe tbody tr th:only-of-type {\n",
              "        vertical-align: middle;\n",
              "    }\n",
              "\n",
              "    .dataframe tbody tr th {\n",
              "        vertical-align: top;\n",
              "    }\n",
              "\n",
              "    .dataframe thead th {\n",
              "        text-align: right;\n",
              "    }\n",
              "</style>\n",
              "<table border=\"1\" class=\"dataframe\">\n",
              "  <thead>\n",
              "    <tr style=\"text-align: right;\">\n",
              "      <th></th>\n",
              "      <th>user_id</th>\n",
              "      <th>signup_time</th>\n",
              "      <th>purchase_time</th>\n",
              "      <th>purchase_value</th>\n",
              "      <th>device_id</th>\n",
              "      <th>source</th>\n",
              "      <th>browser</th>\n",
              "      <th>sex</th>\n",
              "      <th>age</th>\n",
              "      <th>class</th>\n",
              "      <th>country</th>\n",
              "      <th>elapse</th>\n",
              "      <th>cl_country</th>\n",
              "    </tr>\n",
              "  </thead>\n",
              "  <tbody>\n",
              "    <tr>\n",
              "      <th>0</th>\n",
              "      <td>22058</td>\n",
              "      <td>2015-02-24 22:55:49</td>\n",
              "      <td>2015-04-18 02:47:11</td>\n",
              "      <td>34</td>\n",
              "      <td>QVPSPJUOCKZAR</td>\n",
              "      <td>SEO</td>\n",
              "      <td>Chrome</td>\n",
              "      <td>M</td>\n",
              "      <td>39</td>\n",
              "      <td>0</td>\n",
              "      <td>Japan</td>\n",
              "      <td>13882</td>\n",
              "      <td>0.097865</td>\n",
              "    </tr>\n",
              "    <tr>\n",
              "      <th>1</th>\n",
              "      <td>333320</td>\n",
              "      <td>2015-06-07 20:39:50</td>\n",
              "      <td>2015-06-08 01:38:54</td>\n",
              "      <td>16</td>\n",
              "      <td>EOGFQPIZPYXFZ</td>\n",
              "      <td>Ads</td>\n",
              "      <td>Chrome</td>\n",
              "      <td>F</td>\n",
              "      <td>53</td>\n",
              "      <td>0</td>\n",
              "      <td>United States</td>\n",
              "      <td>17944</td>\n",
              "      <td>0.095626</td>\n",
              "    </tr>\n",
              "    <tr>\n",
              "      <th>2</th>\n",
              "      <td>1359</td>\n",
              "      <td>2015-01-01 18:52:44</td>\n",
              "      <td>2015-01-01 18:52:45</td>\n",
              "      <td>15</td>\n",
              "      <td>YSSKYOSJHPPLJ</td>\n",
              "      <td>SEO</td>\n",
              "      <td>Opera</td>\n",
              "      <td>M</td>\n",
              "      <td>53</td>\n",
              "      <td>1</td>\n",
              "      <td>United States</td>\n",
              "      <td>1</td>\n",
              "      <td>0.095626</td>\n",
              "    </tr>\n",
              "    <tr>\n",
              "      <th>3</th>\n",
              "      <td>150084</td>\n",
              "      <td>2015-04-28 21:13:25</td>\n",
              "      <td>2015-05-04 13:54:50</td>\n",
              "      <td>44</td>\n",
              "      <td>ATGTXKYKUDUQN</td>\n",
              "      <td>SEO</td>\n",
              "      <td>Safari</td>\n",
              "      <td>M</td>\n",
              "      <td>41</td>\n",
              "      <td>0</td>\n",
              "      <td>unknown</td>\n",
              "      <td>60085</td>\n",
              "      <td>0.085723</td>\n",
              "    </tr>\n",
              "    <tr>\n",
              "      <th>4</th>\n",
              "      <td>221365</td>\n",
              "      <td>2015-07-21 07:09:52</td>\n",
              "      <td>2015-09-09 18:40:53</td>\n",
              "      <td>39</td>\n",
              "      <td>NAUITBZFJKHWW</td>\n",
              "      <td>Ads</td>\n",
              "      <td>Safari</td>\n",
              "      <td>M</td>\n",
              "      <td>45</td>\n",
              "      <td>0</td>\n",
              "      <td>United States</td>\n",
              "      <td>41461</td>\n",
              "      <td>0.095626</td>\n",
              "    </tr>\n",
              "  </tbody>\n",
              "</table>\n",
              "</div>"
            ],
            "text/plain": [
              "   user_id          signup_time        purchase_time  purchase_value  \\\n",
              "0    22058  2015-02-24 22:55:49  2015-04-18 02:47:11              34   \n",
              "1   333320  2015-06-07 20:39:50  2015-06-08 01:38:54              16   \n",
              "2     1359  2015-01-01 18:52:44  2015-01-01 18:52:45              15   \n",
              "3   150084  2015-04-28 21:13:25  2015-05-04 13:54:50              44   \n",
              "4   221365  2015-07-21 07:09:52  2015-09-09 18:40:53              39   \n",
              "\n",
              "       device_id source browser sex  age  class        country  elapse  \\\n",
              "0  QVPSPJUOCKZAR    SEO  Chrome   M   39      0          Japan   13882   \n",
              "1  EOGFQPIZPYXFZ    Ads  Chrome   F   53      0  United States   17944   \n",
              "2  YSSKYOSJHPPLJ    SEO   Opera   M   53      1  United States       1   \n",
              "3  ATGTXKYKUDUQN    SEO  Safari   M   41      0        unknown   60085   \n",
              "4  NAUITBZFJKHWW    Ads  Safari   M   45      0  United States   41461   \n",
              "\n",
              "   cl_country  \n",
              "0    0.097865  \n",
              "1    0.095626  \n",
              "2    0.095626  \n",
              "3    0.085723  \n",
              "4    0.095626  "
            ]
          },
          "metadata": {
            "tags": []
          },
          "execution_count": 89
        }
      ]
    },
    {
      "cell_type": "code",
      "metadata": {
        "id": "ymDzIh3fThjo",
        "colab_type": "code",
        "outputId": "9d005187-5b52-4db4-be74-fd51bce80455",
        "colab": {}
      },
      "source": [
        "fraud.iloc[y_test[m==True].index,:].source.value_counts()"
      ],
      "execution_count": 0,
      "outputs": [
        {
          "output_type": "execute_result",
          "data": {
            "text/plain": [
              "SEO       17433\n",
              "Ads       17266\n",
              "Direct     8652\n",
              "Name: source, dtype: int64"
            ]
          },
          "metadata": {
            "tags": []
          },
          "execution_count": 90
        }
      ]
    },
    {
      "cell_type": "code",
      "metadata": {
        "id": "4sksxVXZThjp",
        "colab_type": "code",
        "outputId": "020216e9-a65d-459d-ad78-e6eec4bbada5",
        "colab": {}
      },
      "source": [
        "fraud.iloc[y_test[m==True].index,:].groupby(by=\"source\").sum()"
      ],
      "execution_count": 0,
      "outputs": [
        {
          "output_type": "execute_result",
          "data": {
            "text/html": [
              "<div>\n",
              "<style scoped>\n",
              "    .dataframe tbody tr th:only-of-type {\n",
              "        vertical-align: middle;\n",
              "    }\n",
              "\n",
              "    .dataframe tbody tr th {\n",
              "        vertical-align: top;\n",
              "    }\n",
              "\n",
              "    .dataframe thead th {\n",
              "        text-align: right;\n",
              "    }\n",
              "</style>\n",
              "<table border=\"1\" class=\"dataframe\">\n",
              "  <thead>\n",
              "    <tr style=\"text-align: right;\">\n",
              "      <th></th>\n",
              "      <th>user_id</th>\n",
              "      <th>purchase_value</th>\n",
              "      <th>age</th>\n",
              "      <th>class</th>\n",
              "      <th>elapse</th>\n",
              "      <th>cl_country</th>\n",
              "    </tr>\n",
              "    <tr>\n",
              "      <th>source</th>\n",
              "      <th></th>\n",
              "      <th></th>\n",
              "      <th></th>\n",
              "      <th></th>\n",
              "      <th></th>\n",
              "      <th></th>\n",
              "    </tr>\n",
              "  </thead>\n",
              "  <tbody>\n",
              "    <tr>\n",
              "      <th>Ads</th>\n",
              "      <td>3462483682</td>\n",
              "      <td>635016</td>\n",
              "      <td>572741</td>\n",
              "      <td>908</td>\n",
              "      <td>706252707</td>\n",
              "      <td>1616.674298</td>\n",
              "    </tr>\n",
              "    <tr>\n",
              "      <th>Direct</th>\n",
              "      <td>1732853505</td>\n",
              "      <td>319553</td>\n",
              "      <td>287611</td>\n",
              "      <td>474</td>\n",
              "      <td>348953667</td>\n",
              "      <td>809.158348</td>\n",
              "    </tr>\n",
              "    <tr>\n",
              "      <th>SEO</th>\n",
              "      <td>3502180079</td>\n",
              "      <td>640104</td>\n",
              "      <td>576293</td>\n",
              "      <td>881</td>\n",
              "      <td>712529309</td>\n",
              "      <td>1636.427908</td>\n",
              "    </tr>\n",
              "  </tbody>\n",
              "</table>\n",
              "</div>"
            ],
            "text/plain": [
              "           user_id  purchase_value     age  class     elapse   cl_country\n",
              "source                                                                   \n",
              "Ads     3462483682          635016  572741    908  706252707  1616.674298\n",
              "Direct  1732853505          319553  287611    474  348953667   809.158348\n",
              "SEO     3502180079          640104  576293    881  712529309  1636.427908"
            ]
          },
          "metadata": {
            "tags": []
          },
          "execution_count": 91
        }
      ]
    },
    {
      "cell_type": "code",
      "metadata": {
        "id": "0DrXDxNfThjs",
        "colab_type": "code",
        "colab": {}
      },
      "source": [
        ""
      ],
      "execution_count": 0,
      "outputs": []
    },
    {
      "cell_type": "code",
      "metadata": {
        "id": "k9Rz6cueThjt",
        "colab_type": "code",
        "colab": {}
      },
      "source": [
        "X_train_dis = pd.DataFrame(X_train, columns=fraud_final.drop(\"class\",axis =1).columns)\n",
        "X_train_dis.head()\n",
        "\n",
        "X_test_dis = pd.DataFrame(X_test, columns=fraud_final.drop(\"class\",axis =1).columns)\n"
      ],
      "execution_count": 0,
      "outputs": []
    },
    {
      "cell_type": "code",
      "metadata": {
        "id": "Bjcosn3BThju",
        "colab_type": "code",
        "colab": {}
      },
      "source": [
        "from sklearn.preprocessing import KBinsDiscretizer\n",
        "est = KBinsDiscretizer(n_bins=5, encode='ordinal', strategy='quantile')\n",
        "X_train_dis.age = est.fit_transform(X_train_dis.age.values.reshape(-1, 1))   \n",
        "X_test_dis.age = est.fit_transform(X_test_dis.age.values.reshape(-1, 1))   \n",
        "\n",
        "X_train_dis.purchase_value = est.fit_transform(X_train_dis.purchase_value.values.reshape(-1, 1))   \n",
        "X_test_dis.purchase_value = est.fit_transform(X_test_dis.purchase_value.values.reshape(-1, 1))   \n",
        "#X_test.age = est.transform(X_test.age)"
      ],
      "execution_count": 0,
      "outputs": []
    },
    {
      "cell_type": "code",
      "metadata": {
        "id": "0t9LHR1eThjv",
        "colab_type": "code",
        "outputId": "706dbb22-f933-4867-cf7b-df70bc5ee840",
        "colab": {}
      },
      "source": [
        "X_train_dis.shape"
      ],
      "execution_count": 0,
      "outputs": [
        {
          "output_type": "execute_result",
          "data": {
            "text/plain": [
              "(105778, 14)"
            ]
          },
          "metadata": {
            "tags": []
          },
          "execution_count": 94
        }
      ]
    },
    {
      "cell_type": "code",
      "metadata": {
        "id": "khL4NUdxThjw",
        "colab_type": "code",
        "outputId": "0ce6d40d-b85c-4ada-fbab-32cb68c2fe38",
        "colab": {}
      },
      "source": [
        "xgb_model.fit(X_train_dis, y_train)"
      ],
      "execution_count": 0,
      "outputs": [
        {
          "output_type": "execute_result",
          "data": {
            "text/plain": [
              "XGBClassifier(base_score=0.5, booster='gbtree', colsample_bylevel=1,\n",
              "              colsample_bynode=1, colsample_bytree=0.8, gamma=0,\n",
              "              learning_rate=0.1, max_delta_step=0, max_depth=3,\n",
              "              min_child_weight=1, missing=None, n_estimators=500, n_jobs=1,\n",
              "              nthread=4, objective='binary:logistic', random_state=42,\n",
              "              reg_alpha=0, reg_lambda=1, scale_pos_weight=1, seed=None,\n",
              "              silent=None, subsample=0.8, verbosity=1, weight='balanced')"
            ]
          },
          "metadata": {
            "tags": []
          },
          "execution_count": 95
        }
      ]
    },
    {
      "cell_type": "code",
      "metadata": {
        "id": "1RNIZPM6Thjx",
        "colab_type": "code",
        "outputId": "210aee46-03f4-4964-9f9f-8a04a2d531c0",
        "colab": {}
      },
      "source": [
        "xgb_model.score(X_test_dis,y_test)"
      ],
      "execution_count": 0,
      "outputs": [
        {
          "output_type": "execute_result",
          "data": {
            "text/plain": [
              "0.9562800547050778"
            ]
          },
          "metadata": {
            "tags": []
          },
          "execution_count": 96
        }
      ]
    },
    {
      "cell_type": "code",
      "metadata": {
        "id": "WcGBOb7xThjy",
        "colab_type": "code",
        "outputId": "a2ac5579-6af4-4179-de5b-c7eac81839cc",
        "colab": {}
      },
      "source": [
        "roc_plot(xgb_model,X_test_dis,y_test)"
      ],
      "execution_count": 0,
      "outputs": [
        {
          "output_type": "display_data",
          "data": {
            "image/png": "[encoded data removed]",
            "text/plain": [
              "<Figure size 432x288 with 1 Axes>"
            ]
          },
          "metadata": {
            "tags": [],
            "needs_background": "light"
          }
        }
      ]
    },
    {
      "cell_type": "code",
      "metadata": {
        "id": "JR8h6LtgThjz",
        "colab_type": "code",
        "colab": {}
      },
      "source": [
        "\n",
        "\n"
      ],
      "execution_count": 0,
      "outputs": []
    },
    {
      "cell_type": "code",
      "metadata": {
        "id": "UXEp2OxFThjz",
        "colab_type": "code",
        "colab": {}
      },
      "source": [
        ""
      ],
      "execution_count": 0,
      "outputs": []
    },
    {
      "cell_type": "code",
      "metadata": {
        "id": "3WVlbP0FThj0",
        "colab_type": "code",
        "colab": {}
      },
      "source": [
        ""
      ],
      "execution_count": 0,
      "outputs": []
    },
    {
      "cell_type": "markdown",
      "metadata": {
        "id": "HOi9cSyDThj0",
        "colab_type": "text"
      },
      "source": [
        "traitement des device id"
      ]
    },
    {
      "cell_type": "code",
      "metadata": {
        "id": "2Z9_0JCCThj1",
        "colab_type": "code",
        "colab": {}
      },
      "source": [
        "fraud_final[\"device\"] = fraud_full.device_id.duplicated()"
      ],
      "execution_count": 0,
      "outputs": []
    },
    {
      "cell_type": "code",
      "metadata": {
        "id": "ss-7v7D6Thj1",
        "colab_type": "code",
        "outputId": "ddb38de3-25fa-484f-da25-841a2d9c3f37",
        "colab": {}
      },
      "source": [
        "fraud.head()"
      ],
      "execution_count": 0,
      "outputs": [
        {
          "output_type": "execute_result",
          "data": {
            "text/html": [
              "<div>\n",
              "<style scoped>\n",
              "    .dataframe tbody tr th:only-of-type {\n",
              "        vertical-align: middle;\n",
              "    }\n",
              "\n",
              "    .dataframe tbody tr th {\n",
              "        vertical-align: top;\n",
              "    }\n",
              "\n",
              "    .dataframe thead th {\n",
              "        text-align: right;\n",
              "    }\n",
              "</style>\n",
              "<table border=\"1\" class=\"dataframe\">\n",
              "  <thead>\n",
              "    <tr style=\"text-align: right;\">\n",
              "      <th></th>\n",
              "      <th>user_id</th>\n",
              "      <th>signup_time</th>\n",
              "      <th>purchase_time</th>\n",
              "      <th>purchase_value</th>\n",
              "      <th>device_id</th>\n",
              "      <th>source</th>\n",
              "      <th>browser</th>\n",
              "      <th>sex</th>\n",
              "      <th>age</th>\n",
              "      <th>class</th>\n",
              "      <th>country</th>\n",
              "      <th>elapse</th>\n",
              "      <th>cl_country</th>\n",
              "    </tr>\n",
              "  </thead>\n",
              "  <tbody>\n",
              "    <tr>\n",
              "      <th>0</th>\n",
              "      <td>22058</td>\n",
              "      <td>2015-02-24 22:55:49</td>\n",
              "      <td>2015-04-18 02:47:11</td>\n",
              "      <td>34</td>\n",
              "      <td>QVPSPJUOCKZAR</td>\n",
              "      <td>SEO</td>\n",
              "      <td>Chrome</td>\n",
              "      <td>M</td>\n",
              "      <td>39</td>\n",
              "      <td>0</td>\n",
              "      <td>Japan</td>\n",
              "      <td>13882</td>\n",
              "      <td>0.097865</td>\n",
              "    </tr>\n",
              "    <tr>\n",
              "      <th>1</th>\n",
              "      <td>333320</td>\n",
              "      <td>2015-06-07 20:39:50</td>\n",
              "      <td>2015-06-08 01:38:54</td>\n",
              "      <td>16</td>\n",
              "      <td>EOGFQPIZPYXFZ</td>\n",
              "      <td>Ads</td>\n",
              "      <td>Chrome</td>\n",
              "      <td>F</td>\n",
              "      <td>53</td>\n",
              "      <td>0</td>\n",
              "      <td>United States</td>\n",
              "      <td>17944</td>\n",
              "      <td>0.095626</td>\n",
              "    </tr>\n",
              "    <tr>\n",
              "      <th>2</th>\n",
              "      <td>1359</td>\n",
              "      <td>2015-01-01 18:52:44</td>\n",
              "      <td>2015-01-01 18:52:45</td>\n",
              "      <td>15</td>\n",
              "      <td>YSSKYOSJHPPLJ</td>\n",
              "      <td>SEO</td>\n",
              "      <td>Opera</td>\n",
              "      <td>M</td>\n",
              "      <td>53</td>\n",
              "      <td>1</td>\n",
              "      <td>United States</td>\n",
              "      <td>1</td>\n",
              "      <td>0.095626</td>\n",
              "    </tr>\n",
              "    <tr>\n",
              "      <th>3</th>\n",
              "      <td>150084</td>\n",
              "      <td>2015-04-28 21:13:25</td>\n",
              "      <td>2015-05-04 13:54:50</td>\n",
              "      <td>44</td>\n",
              "      <td>ATGTXKYKUDUQN</td>\n",
              "      <td>SEO</td>\n",
              "      <td>Safari</td>\n",
              "      <td>M</td>\n",
              "      <td>41</td>\n",
              "      <td>0</td>\n",
              "      <td>unknown</td>\n",
              "      <td>60085</td>\n",
              "      <td>0.085723</td>\n",
              "    </tr>\n",
              "    <tr>\n",
              "      <th>4</th>\n",
              "      <td>221365</td>\n",
              "      <td>2015-07-21 07:09:52</td>\n",
              "      <td>2015-09-09 18:40:53</td>\n",
              "      <td>39</td>\n",
              "      <td>NAUITBZFJKHWW</td>\n",
              "      <td>Ads</td>\n",
              "      <td>Safari</td>\n",
              "      <td>M</td>\n",
              "      <td>45</td>\n",
              "      <td>0</td>\n",
              "      <td>United States</td>\n",
              "      <td>41461</td>\n",
              "      <td>0.095626</td>\n",
              "    </tr>\n",
              "  </tbody>\n",
              "</table>\n",
              "</div>"
            ],
            "text/plain": [
              "   user_id          signup_time        purchase_time  purchase_value  \\\n",
              "0    22058  2015-02-24 22:55:49  2015-04-18 02:47:11              34   \n",
              "1   333320  2015-06-07 20:39:50  2015-06-08 01:38:54              16   \n",
              "2     1359  2015-01-01 18:52:44  2015-01-01 18:52:45              15   \n",
              "3   150084  2015-04-28 21:13:25  2015-05-04 13:54:50              44   \n",
              "4   221365  2015-07-21 07:09:52  2015-09-09 18:40:53              39   \n",
              "\n",
              "       device_id source browser sex  age  class        country  elapse  \\\n",
              "0  QVPSPJUOCKZAR    SEO  Chrome   M   39      0          Japan   13882   \n",
              "1  EOGFQPIZPYXFZ    Ads  Chrome   F   53      0  United States   17944   \n",
              "2  YSSKYOSJHPPLJ    SEO   Opera   M   53      1  United States       1   \n",
              "3  ATGTXKYKUDUQN    SEO  Safari   M   41      0        unknown   60085   \n",
              "4  NAUITBZFJKHWW    Ads  Safari   M   45      0  United States   41461   \n",
              "\n",
              "   cl_country  \n",
              "0    0.097865  \n",
              "1    0.095626  \n",
              "2    0.095626  \n",
              "3    0.085723  \n",
              "4    0.095626  "
            ]
          },
          "metadata": {
            "tags": []
          },
          "execution_count": 99
        }
      ]
    },
    {
      "cell_type": "code",
      "metadata": {
        "id": "l7A6zm5oThj2",
        "colab_type": "code",
        "outputId": "6410365c-4684-47c3-bb0b-f8cb6403ee82",
        "colab": {}
      },
      "source": [
        "fraud_final.head()"
      ],
      "execution_count": 0,
      "outputs": [
        {
          "output_type": "execute_result",
          "data": {
            "text/html": [
              "<div>\n",
              "<style scoped>\n",
              "    .dataframe tbody tr th:only-of-type {\n",
              "        vertical-align: middle;\n",
              "    }\n",
              "\n",
              "    .dataframe tbody tr th {\n",
              "        vertical-align: top;\n",
              "    }\n",
              "\n",
              "    .dataframe thead th {\n",
              "        text-align: right;\n",
              "    }\n",
              "</style>\n",
              "<table border=\"1\" class=\"dataframe\">\n",
              "  <thead>\n",
              "    <tr style=\"text-align: right;\">\n",
              "      <th></th>\n",
              "      <th>purchase_value</th>\n",
              "      <th>age</th>\n",
              "      <th>class</th>\n",
              "      <th>elapse</th>\n",
              "      <th>cl_country</th>\n",
              "      <th>source_Ads</th>\n",
              "      <th>source_Direct</th>\n",
              "      <th>source_SEO</th>\n",
              "      <th>browser_Chrome</th>\n",
              "      <th>browser_FireFox</th>\n",
              "      <th>browser_IE</th>\n",
              "      <th>browser_Opera</th>\n",
              "      <th>browser_Safari</th>\n",
              "      <th>sex_F</th>\n",
              "      <th>sex_M</th>\n",
              "      <th>device</th>\n",
              "    </tr>\n",
              "  </thead>\n",
              "  <tbody>\n",
              "    <tr>\n",
              "      <th>0</th>\n",
              "      <td>34</td>\n",
              "      <td>39</td>\n",
              "      <td>0</td>\n",
              "      <td>13882</td>\n",
              "      <td>0.097865</td>\n",
              "      <td>0</td>\n",
              "      <td>0</td>\n",
              "      <td>1</td>\n",
              "      <td>1</td>\n",
              "      <td>0</td>\n",
              "      <td>0</td>\n",
              "      <td>0</td>\n",
              "      <td>0</td>\n",
              "      <td>0</td>\n",
              "      <td>1</td>\n",
              "      <td>False</td>\n",
              "    </tr>\n",
              "    <tr>\n",
              "      <th>1</th>\n",
              "      <td>16</td>\n",
              "      <td>53</td>\n",
              "      <td>0</td>\n",
              "      <td>17944</td>\n",
              "      <td>0.095626</td>\n",
              "      <td>1</td>\n",
              "      <td>0</td>\n",
              "      <td>0</td>\n",
              "      <td>1</td>\n",
              "      <td>0</td>\n",
              "      <td>0</td>\n",
              "      <td>0</td>\n",
              "      <td>0</td>\n",
              "      <td>1</td>\n",
              "      <td>0</td>\n",
              "      <td>False</td>\n",
              "    </tr>\n",
              "    <tr>\n",
              "      <th>2</th>\n",
              "      <td>15</td>\n",
              "      <td>53</td>\n",
              "      <td>1</td>\n",
              "      <td>1</td>\n",
              "      <td>0.095626</td>\n",
              "      <td>0</td>\n",
              "      <td>0</td>\n",
              "      <td>1</td>\n",
              "      <td>0</td>\n",
              "      <td>0</td>\n",
              "      <td>0</td>\n",
              "      <td>1</td>\n",
              "      <td>0</td>\n",
              "      <td>0</td>\n",
              "      <td>1</td>\n",
              "      <td>False</td>\n",
              "    </tr>\n",
              "    <tr>\n",
              "      <th>3</th>\n",
              "      <td>44</td>\n",
              "      <td>41</td>\n",
              "      <td>0</td>\n",
              "      <td>60085</td>\n",
              "      <td>0.085723</td>\n",
              "      <td>0</td>\n",
              "      <td>0</td>\n",
              "      <td>1</td>\n",
              "      <td>0</td>\n",
              "      <td>0</td>\n",
              "      <td>0</td>\n",
              "      <td>0</td>\n",
              "      <td>1</td>\n",
              "      <td>0</td>\n",
              "      <td>1</td>\n",
              "      <td>False</td>\n",
              "    </tr>\n",
              "    <tr>\n",
              "      <th>4</th>\n",
              "      <td>39</td>\n",
              "      <td>45</td>\n",
              "      <td>0</td>\n",
              "      <td>41461</td>\n",
              "      <td>0.095626</td>\n",
              "      <td>1</td>\n",
              "      <td>0</td>\n",
              "      <td>0</td>\n",
              "      <td>0</td>\n",
              "      <td>0</td>\n",
              "      <td>0</td>\n",
              "      <td>0</td>\n",
              "      <td>1</td>\n",
              "      <td>0</td>\n",
              "      <td>1</td>\n",
              "      <td>False</td>\n",
              "    </tr>\n",
              "  </tbody>\n",
              "</table>\n",
              "</div>"
            ],
            "text/plain": [
              "   purchase_value  age  class  elapse  cl_country  source_Ads  source_Direct  \\\n",
              "0              34   39      0   13882    0.097865           0              0   \n",
              "1              16   53      0   17944    0.095626           1              0   \n",
              "2              15   53      1       1    0.095626           0              0   \n",
              "3              44   41      0   60085    0.085723           0              0   \n",
              "4              39   45      0   41461    0.095626           1              0   \n",
              "\n",
              "   source_SEO  browser_Chrome  browser_FireFox  browser_IE  browser_Opera  \\\n",
              "0           1               1                0           0              0   \n",
              "1           0               1                0           0              0   \n",
              "2           1               0                0           0              1   \n",
              "3           1               0                0           0              0   \n",
              "4           0               0                0           0              0   \n",
              "\n",
              "   browser_Safari  sex_F  sex_M  device  \n",
              "0               0      0      1   False  \n",
              "1               0      1      0   False  \n",
              "2               0      0      1   False  \n",
              "3               1      0      1   False  \n",
              "4               1      0      1   False  "
            ]
          },
          "metadata": {
            "tags": []
          },
          "execution_count": 100
        }
      ]
    },
    {
      "cell_type": "code",
      "metadata": {
        "id": "cWZvrk9SThj4",
        "colab_type": "code",
        "colab": {}
      },
      "source": [
        "X = fraud_final.drop(\"class\",axis =1)\n",
        "y = fraud_final[\"class\"]"
      ],
      "execution_count": 0,
      "outputs": []
    },
    {
      "cell_type": "code",
      "metadata": {
        "id": "DYeT6rmhThj4",
        "colab_type": "code",
        "colab": {}
      },
      "source": [
        "from sklearn.model_selection import train_test_split\n",
        "X_train, X_test, y_train, y_test = train_test_split(X,y,test_size = 0.3,stratify = y,random_state=42)\n",
        "\n",
        "from sklearn.preprocessing import StandardScaler\n",
        "sc = StandardScaler()\n",
        "\n",
        "X_train = sc.fit_transform(X_train)\n",
        "X_test = sc.transform(X_test)"
      ],
      "execution_count": 0,
      "outputs": []
    },
    {
      "cell_type": "code",
      "metadata": {
        "id": "BPSo2p6nThj5",
        "colab_type": "code",
        "outputId": "a1db80bc-28c4-4f6a-ffd3-292bde60ed0c",
        "colab": {}
      },
      "source": [
        "\n",
        "parameters = {'n_estimators':[20,50,100], 'max_depth':[ 3, 5]}\n",
        "rf_grid = GridSearchCV(rf, parameters, cv=5)\n",
        "rf_grid.fit(X_train, y_train)\n"
      ],
      "execution_count": 0,
      "outputs": [
        {
          "output_type": "execute_result",
          "data": {
            "text/plain": [
              "GridSearchCV(cv=5, error_score='raise-deprecating',\n",
              "             estimator=RandomForestClassifier(bootstrap=True,\n",
              "                                              class_weight='balanced',\n",
              "                                              criterion='gini', max_depth=4,\n",
              "                                              max_features='auto',\n",
              "                                              max_leaf_nodes=None,\n",
              "                                              min_impurity_decrease=0.0,\n",
              "                                              min_impurity_split=None,\n",
              "                                              min_samples_leaf=1,\n",
              "                                              min_samples_split=2,\n",
              "                                              min_weight_fraction_leaf=0.0,\n",
              "                                              n_estimators=200, n_jobs=None,\n",
              "                                              oob_score=False, random_state=0,\n",
              "                                              verbose=0, warm_start=False),\n",
              "             iid='warn', n_jobs=None,\n",
              "             param_grid={'max_depth': [3, 5], 'n_estimators': [20, 50, 100]},\n",
              "             pre_dispatch='2*n_jobs', refit=True, return_train_score=False,\n",
              "             scoring=None, verbose=0)"
            ]
          },
          "metadata": {
            "tags": []
          },
          "execution_count": 103
        }
      ]
    },
    {
      "cell_type": "code",
      "metadata": {
        "id": "aBfK6LSyThj7",
        "colab_type": "code",
        "outputId": "8331102f-a78f-415a-cf3c-1ae6954166c1",
        "colab": {}
      },
      "source": [
        "rf_grid.best_estimator_.score(X_test,y_test)"
      ],
      "execution_count": 0,
      "outputs": [
        {
          "output_type": "execute_result",
          "data": {
            "text/plain": [
              "0.9326333436272995"
            ]
          },
          "metadata": {
            "tags": []
          },
          "execution_count": 104
        }
      ]
    },
    {
      "cell_type": "code",
      "metadata": {
        "id": "3G5n1KnoThj9",
        "colab_type": "code",
        "outputId": "5fdcd16f-216c-4975-b63e-bb1e7963149c",
        "colab": {}
      },
      "source": [
        "roc_plot(rf_grid.best_estimator_,X_test,y_test)"
      ],
      "execution_count": 0,
      "outputs": [
        {
          "output_type": "display_data",
          "data": {
            "image/png": "[encoded data removed]",
            "text/plain": [
              "<Figure size 432x288 with 1 Axes>"
            ]
          },
          "metadata": {
            "tags": [],
            "needs_background": "light"
          }
        }
      ]
    },
    {
      "cell_type": "code",
      "metadata": {
        "id": "-8TZz-LrThkA",
        "colab_type": "code",
        "colab": {}
      },
      "source": [
        ""
      ],
      "execution_count": 0,
      "outputs": []
    },
    {
      "cell_type": "code",
      "metadata": {
        "id": "4YXDsVXlThkB",
        "colab_type": "code",
        "colab": {}
      },
      "source": [
        "d = pd.DataFrame(fraud_full.device_id.value_counts()).reset_index().rename(columns= {\"index\":\"device_id\",\"device_id\":\"count\"})"
      ],
      "execution_count": 0,
      "outputs": []
    },
    {
      "cell_type": "code",
      "metadata": {
        "id": "fa-45_PFThkE",
        "colab_type": "code",
        "colab": {}
      },
      "source": [
        "comp = fraud_full.groupby(by=\"device_id\").sum().sort_values(by=\"purchase_value\",ascending=False)"
      ],
      "execution_count": 0,
      "outputs": []
    },
    {
      "cell_type": "code",
      "metadata": {
        "id": "dcZu10gYThkE",
        "colab_type": "code",
        "outputId": "9ff6565a-7df4-44f7-c05e-66b56159c003",
        "colab": {}
      },
      "source": [
        "comp.head()"
      ],
      "execution_count": 0,
      "outputs": [
        {
          "output_type": "execute_result",
          "data": {
            "text/html": [
              "<div>\n",
              "<style scoped>\n",
              "    .dataframe tbody tr th:only-of-type {\n",
              "        vertical-align: middle;\n",
              "    }\n",
              "\n",
              "    .dataframe tbody tr th {\n",
              "        vertical-align: top;\n",
              "    }\n",
              "\n",
              "    .dataframe thead th {\n",
              "        text-align: right;\n",
              "    }\n",
              "</style>\n",
              "<table border=\"1\" class=\"dataframe\">\n",
              "  <thead>\n",
              "    <tr style=\"text-align: right;\">\n",
              "      <th></th>\n",
              "      <th>user_id</th>\n",
              "      <th>purchase_value</th>\n",
              "      <th>age</th>\n",
              "      <th>ip_address</th>\n",
              "      <th>class</th>\n",
              "    </tr>\n",
              "    <tr>\n",
              "      <th>device_id</th>\n",
              "      <th></th>\n",
              "      <th></th>\n",
              "      <th></th>\n",
              "      <th></th>\n",
              "      <th></th>\n",
              "    </tr>\n",
              "  </thead>\n",
              "  <tbody>\n",
              "    <tr>\n",
              "      <th>KPAAACGRQWYIK</th>\n",
              "      <td>4113295</td>\n",
              "      <td>1458</td>\n",
              "      <td>432</td>\n",
              "      <td>3.311546e+09</td>\n",
              "      <td>17</td>\n",
              "    </tr>\n",
              "    <tr>\n",
              "      <th>UOMHJMHDVTLAS</th>\n",
              "      <td>3442096</td>\n",
              "      <td>1376</td>\n",
              "      <td>288</td>\n",
              "      <td>3.272740e+10</td>\n",
              "      <td>15</td>\n",
              "    </tr>\n",
              "    <tr>\n",
              "      <th>EQYVNEGOFLAWK</th>\n",
              "      <td>3661993</td>\n",
              "      <td>1369</td>\n",
              "      <td>744</td>\n",
              "      <td>3.500421e+10</td>\n",
              "      <td>19</td>\n",
              "    </tr>\n",
              "    <tr>\n",
              "      <th>KHHAMKJCMODJA</th>\n",
              "      <td>3222535</td>\n",
              "      <td>1320</td>\n",
              "      <td>405</td>\n",
              "      <td>5.028436e+10</td>\n",
              "      <td>14</td>\n",
              "    </tr>\n",
              "    <tr>\n",
              "      <th>TZSHXHDMKLRYJ</th>\n",
              "      <td>2871784</td>\n",
              "      <td>1288</td>\n",
              "      <td>252</td>\n",
              "      <td>8.423327e+09</td>\n",
              "      <td>13</td>\n",
              "    </tr>\n",
              "  </tbody>\n",
              "</table>\n",
              "</div>"
            ],
            "text/plain": [
              "               user_id  purchase_value  age    ip_address  class\n",
              "device_id                                                       \n",
              "KPAAACGRQWYIK  4113295            1458  432  3.311546e+09     17\n",
              "UOMHJMHDVTLAS  3442096            1376  288  3.272740e+10     15\n",
              "EQYVNEGOFLAWK  3661993            1369  744  3.500421e+10     19\n",
              "KHHAMKJCMODJA  3222535            1320  405  5.028436e+10     14\n",
              "TZSHXHDMKLRYJ  2871784            1288  252  8.423327e+09     13"
            ]
          },
          "metadata": {
            "tags": []
          },
          "execution_count": 348
        }
      ]
    },
    {
      "cell_type": "code",
      "metadata": {
        "id": "wCk-G6t0ThkF",
        "colab_type": "code",
        "colab": {}
      },
      "source": [
        "def find_device(x) :\n",
        "    return comp.query('device_id ==  @x').purchase_value.values[0]"
      ],
      "execution_count": 0,
      "outputs": []
    },
    {
      "cell_type": "code",
      "metadata": {
        "id": "30Swx36RThkG",
        "colab_type": "code",
        "colab": {}
      },
      "source": [
        "def find_device_n(x) :\n",
        "    return d.query('device_id ==  @x')[\"count\"].values[0]"
      ],
      "execution_count": 0,
      "outputs": []
    },
    {
      "cell_type": "code",
      "metadata": {
        "id": "HY90_ZDtThkH",
        "colab_type": "code",
        "outputId": "7f0b8f83-d2dc-41a8-8649-d94015843ce4",
        "colab": {}
      },
      "source": [
        "re =find_device_n(\"ZEJDOWBUFHCVR\")\n",
        "re"
      ],
      "execution_count": 0,
      "outputs": [
        {
          "output_type": "execute_result",
          "data": {
            "text/plain": [
              "1"
            ]
          },
          "metadata": {
            "tags": []
          },
          "execution_count": 351
        }
      ]
    },
    {
      "cell_type": "code",
      "metadata": {
        "id": "noVCnS-0ThkK",
        "colab_type": "code",
        "colab": {}
      },
      "source": [
        "#fraud['device_by_purchase'] = fraud_full.device_id.apply(lambda x: find_device(x))"
      ],
      "execution_count": 0,
      "outputs": []
    },
    {
      "cell_type": "code",
      "metadata": {
        "id": "lia53fUZThkL",
        "colab_type": "code",
        "colab": {}
      },
      "source": [
        "#fraud_device['device_by_count'] = fraud_full.device_id.apply(lambda x: find_device_n(x))"
      ],
      "execution_count": 0,
      "outputs": []
    },
    {
      "cell_type": "code",
      "metadata": {
        "id": "T_INxmTvThkL",
        "colab_type": "code",
        "colab": {}
      },
      "source": [
        "#fraud[fraud[\"class\"] == 1].device.value_counts()"
      ],
      "execution_count": 0,
      "outputs": []
    },
    {
      "cell_type": "code",
      "metadata": {
        "id": "aBFctccTThkM",
        "colab_type": "code",
        "colab": {}
      },
      "source": [
        "#fraud.to_csv(\"fraud_data_country3.csv\")"
      ],
      "execution_count": 0,
      "outputs": []
    },
    {
      "cell_type": "code",
      "metadata": {
        "id": "6w4abx34ThkN",
        "colab_type": "code",
        "colab": {}
      },
      "source": [
        "fraud_device = pd.read_csv(\"Fraud_Data_country4.csv\")"
      ],
      "execution_count": 0,
      "outputs": []
    },
    {
      "cell_type": "code",
      "metadata": {
        "id": "4CviDscNThkO",
        "colab_type": "code",
        "colab": {}
      },
      "source": [
        "#fraud_device = fraud_device.drop(\"Unnamed: 0.1\",axis = 1)"
      ],
      "execution_count": 0,
      "outputs": []
    },
    {
      "cell_type": "code",
      "metadata": {
        "id": "tk9PD0ZdThkP",
        "colab_type": "code",
        "outputId": "75956c61-926e-4e60-d3b2-dae76b0d0282",
        "colab": {}
      },
      "source": [
        "fraud_device.head()"
      ],
      "execution_count": 0,
      "outputs": [
        {
          "output_type": "execute_result",
          "data": {
            "text/html": [
              "<div>\n",
              "<style scoped>\n",
              "    .dataframe tbody tr th:only-of-type {\n",
              "        vertical-align: middle;\n",
              "    }\n",
              "\n",
              "    .dataframe tbody tr th {\n",
              "        vertical-align: top;\n",
              "    }\n",
              "\n",
              "    .dataframe thead th {\n",
              "        text-align: right;\n",
              "    }\n",
              "</style>\n",
              "<table border=\"1\" class=\"dataframe\">\n",
              "  <thead>\n",
              "    <tr style=\"text-align: right;\">\n",
              "      <th></th>\n",
              "      <th>signup_time</th>\n",
              "      <th>purchase_time</th>\n",
              "      <th>purchase_value</th>\n",
              "      <th>source</th>\n",
              "      <th>browser</th>\n",
              "      <th>sex</th>\n",
              "      <th>age</th>\n",
              "      <th>class</th>\n",
              "      <th>country</th>\n",
              "      <th>elapse</th>\n",
              "      <th>cl_country</th>\n",
              "      <th>device</th>\n",
              "      <th>device_by_purchase</th>\n",
              "      <th>device_by_count</th>\n",
              "    </tr>\n",
              "  </thead>\n",
              "  <tbody>\n",
              "    <tr>\n",
              "      <th>0</th>\n",
              "      <td>2015-02-24 22:55:49</td>\n",
              "      <td>2015-04-18 02:47:11</td>\n",
              "      <td>34</td>\n",
              "      <td>SEO</td>\n",
              "      <td>Chrome</td>\n",
              "      <td>M</td>\n",
              "      <td>39</td>\n",
              "      <td>0</td>\n",
              "      <td>Japan</td>\n",
              "      <td>13882</td>\n",
              "      <td>0.097865</td>\n",
              "      <td>False</td>\n",
              "      <td>34</td>\n",
              "      <td>1</td>\n",
              "    </tr>\n",
              "    <tr>\n",
              "      <th>1</th>\n",
              "      <td>2015-06-07 20:39:50</td>\n",
              "      <td>2015-06-08 01:38:54</td>\n",
              "      <td>16</td>\n",
              "      <td>Ads</td>\n",
              "      <td>Chrome</td>\n",
              "      <td>F</td>\n",
              "      <td>53</td>\n",
              "      <td>0</td>\n",
              "      <td>United States</td>\n",
              "      <td>17944</td>\n",
              "      <td>0.095626</td>\n",
              "      <td>False</td>\n",
              "      <td>16</td>\n",
              "      <td>1</td>\n",
              "    </tr>\n",
              "    <tr>\n",
              "      <th>2</th>\n",
              "      <td>2015-01-01 18:52:44</td>\n",
              "      <td>2015-01-01 18:52:45</td>\n",
              "      <td>15</td>\n",
              "      <td>SEO</td>\n",
              "      <td>Opera</td>\n",
              "      <td>M</td>\n",
              "      <td>53</td>\n",
              "      <td>1</td>\n",
              "      <td>United States</td>\n",
              "      <td>1</td>\n",
              "      <td>0.095626</td>\n",
              "      <td>False</td>\n",
              "      <td>180</td>\n",
              "      <td>12</td>\n",
              "    </tr>\n",
              "    <tr>\n",
              "      <th>3</th>\n",
              "      <td>2015-04-28 21:13:25</td>\n",
              "      <td>2015-05-04 13:54:50</td>\n",
              "      <td>44</td>\n",
              "      <td>SEO</td>\n",
              "      <td>Safari</td>\n",
              "      <td>M</td>\n",
              "      <td>41</td>\n",
              "      <td>0</td>\n",
              "      <td>unknown</td>\n",
              "      <td>60085</td>\n",
              "      <td>0.085723</td>\n",
              "      <td>False</td>\n",
              "      <td>44</td>\n",
              "      <td>1</td>\n",
              "    </tr>\n",
              "    <tr>\n",
              "      <th>4</th>\n",
              "      <td>2015-07-21 07:09:52</td>\n",
              "      <td>2015-09-09 18:40:53</td>\n",
              "      <td>39</td>\n",
              "      <td>Ads</td>\n",
              "      <td>Safari</td>\n",
              "      <td>M</td>\n",
              "      <td>45</td>\n",
              "      <td>0</td>\n",
              "      <td>United States</td>\n",
              "      <td>41461</td>\n",
              "      <td>0.095626</td>\n",
              "      <td>False</td>\n",
              "      <td>39</td>\n",
              "      <td>1</td>\n",
              "    </tr>\n",
              "  </tbody>\n",
              "</table>\n",
              "</div>"
            ],
            "text/plain": [
              "           signup_time        purchase_time  purchase_value source browser  \\\n",
              "0  2015-02-24 22:55:49  2015-04-18 02:47:11              34    SEO  Chrome   \n",
              "1  2015-06-07 20:39:50  2015-06-08 01:38:54              16    Ads  Chrome   \n",
              "2  2015-01-01 18:52:44  2015-01-01 18:52:45              15    SEO   Opera   \n",
              "3  2015-04-28 21:13:25  2015-05-04 13:54:50              44    SEO  Safari   \n",
              "4  2015-07-21 07:09:52  2015-09-09 18:40:53              39    Ads  Safari   \n",
              "\n",
              "  sex  age  class        country  elapse  cl_country  device  \\\n",
              "0   M   39      0          Japan   13882    0.097865   False   \n",
              "1   F   53      0  United States   17944    0.095626   False   \n",
              "2   M   53      1  United States       1    0.095626   False   \n",
              "3   M   41      0        unknown   60085    0.085723   False   \n",
              "4   M   45      0  United States   41461    0.095626   False   \n",
              "\n",
              "   device_by_purchase  device_by_count  \n",
              "0                  34                1  \n",
              "1                  16                1  \n",
              "2                 180               12  \n",
              "3                  44                1  \n",
              "4                  39                1  "
            ]
          },
          "metadata": {
            "tags": []
          },
          "execution_count": 137
        }
      ]
    },
    {
      "cell_type": "code",
      "metadata": {
        "id": "3HXVwG1SThkQ",
        "colab_type": "code",
        "colab": {}
      },
      "source": [
        "#fraud_device.to_csv(\"fraud_data_country4.csv\",index  = False)"
      ],
      "execution_count": 0,
      "outputs": []
    },
    {
      "cell_type": "code",
      "metadata": {
        "id": "occ5yNxmThkR",
        "colab_type": "code",
        "colab": {}
      },
      "source": [
        ""
      ],
      "execution_count": 0,
      "outputs": []
    },
    {
      "cell_type": "code",
      "metadata": {
        "id": "E_CR7NQ4ThkR",
        "colab_type": "code",
        "colab": {}
      },
      "source": [
        "fraud_device = fraud_device.drop([\"signup_time\",\"purchase_time\",\"country\"],axis = 1)"
      ],
      "execution_count": 0,
      "outputs": []
    },
    {
      "cell_type": "code",
      "metadata": {
        "id": "IPuvT5jIThkS",
        "colab_type": "code",
        "colab": {}
      },
      "source": [
        "\n",
        "fraud_device = pd.get_dummies(fraud_device)"
      ],
      "execution_count": 0,
      "outputs": []
    },
    {
      "cell_type": "code",
      "metadata": {
        "id": "m-sylaSwThkT",
        "colab_type": "code",
        "outputId": "41491b44-a562-43c7-8b02-84e0ad1fef4e",
        "colab": {}
      },
      "source": [
        "fraud_device.shape"
      ],
      "execution_count": 0,
      "outputs": [
        {
          "output_type": "execute_result",
          "data": {
            "text/plain": [
              "(151112, 18)"
            ]
          },
          "metadata": {
            "tags": []
          },
          "execution_count": 141
        }
      ]
    },
    {
      "cell_type": "code",
      "metadata": {
        "id": "IHBsRCVCThkV",
        "colab_type": "code",
        "colab": {}
      },
      "source": [
        "X = fraud_device.drop(\"class\",axis =1)\n",
        "y = fraud_device[\"class\"]"
      ],
      "execution_count": 0,
      "outputs": []
    },
    {
      "cell_type": "code",
      "metadata": {
        "id": "wb-q_aQYThkW",
        "colab_type": "code",
        "colab": {}
      },
      "source": [
        "from sklearn.model_selection import train_test_split\n",
        "X_train, X_test, y_train, y_test = train_test_split(X,y,test_size = 0.3,stratify = y,random_state=42)\n",
        "\n",
        "from sklearn.preprocessing import StandardScaler\n",
        "sc = StandardScaler()\n",
        "\n",
        "X_train = sc.fit_transform(X_train)\n",
        "X_test = sc.transform(X_test)"
      ],
      "execution_count": 0,
      "outputs": []
    },
    {
      "cell_type": "code",
      "metadata": {
        "id": "D4iSRmaqThkW",
        "colab_type": "code",
        "outputId": "fd3ba95b-34e9-4583-8aa8-2f2e5daab702",
        "colab": {}
      },
      "source": [
        "\n",
        "parameters = {'n_estimators':[20,50,100], 'max_depth':[ 3, 5]}\n",
        "rf_grid = GridSearchCV(rf, parameters, cv=5)\n",
        "rf_grid.fit(X_train, y_train)\n"
      ],
      "execution_count": 0,
      "outputs": [
        {
          "output_type": "execute_result",
          "data": {
            "text/plain": [
              "GridSearchCV(cv=5, error_score='raise-deprecating',\n",
              "             estimator=RandomForestClassifier(bootstrap=True,\n",
              "                                              class_weight='balanced',\n",
              "                                              criterion='gini', max_depth=4,\n",
              "                                              max_features='auto',\n",
              "                                              max_leaf_nodes=None,\n",
              "                                              min_impurity_decrease=0.0,\n",
              "                                              min_impurity_split=None,\n",
              "                                              min_samples_leaf=1,\n",
              "                                              min_samples_split=2,\n",
              "                                              min_weight_fraction_leaf=0.0,\n",
              "                                              n_estimators=200, n_jobs=None,\n",
              "                                              oob_score=False, random_state=0,\n",
              "                                              verbose=0, warm_start=False),\n",
              "             iid='warn', n_jobs=None,\n",
              "             param_grid={'max_depth': [3, 5], 'n_estimators': [20, 50, 100]},\n",
              "             pre_dispatch='2*n_jobs', refit=True, return_train_score=False,\n",
              "             scoring=None, verbose=0)"
            ]
          },
          "metadata": {
            "tags": []
          },
          "execution_count": 117
        }
      ]
    },
    {
      "cell_type": "code",
      "metadata": {
        "id": "fwZIJtqmThkX",
        "colab_type": "code",
        "outputId": "ded52ea8-84ab-4472-d171-9835f580537b",
        "colab": {}
      },
      "source": [
        "rf_grid.best_estimator_.score(X_test,y_test)"
      ],
      "execution_count": 0,
      "outputs": [
        {
          "output_type": "execute_result",
          "data": {
            "text/plain": [
              "0.9136630343671417"
            ]
          },
          "metadata": {
            "tags": []
          },
          "execution_count": 118
        }
      ]
    },
    {
      "cell_type": "code",
      "metadata": {
        "id": "Jwf6yTbIThkY",
        "colab_type": "code",
        "outputId": "04996dd9-29a4-4bfd-d3ad-96ebc6380aaa",
        "colab": {}
      },
      "source": [
        "X.head()"
      ],
      "execution_count": 0,
      "outputs": [
        {
          "output_type": "execute_result",
          "data": {
            "text/html": [
              "<div>\n",
              "<style scoped>\n",
              "    .dataframe tbody tr th:only-of-type {\n",
              "        vertical-align: middle;\n",
              "    }\n",
              "\n",
              "    .dataframe tbody tr th {\n",
              "        vertical-align: top;\n",
              "    }\n",
              "\n",
              "    .dataframe thead th {\n",
              "        text-align: right;\n",
              "    }\n",
              "</style>\n",
              "<table border=\"1\" class=\"dataframe\">\n",
              "  <thead>\n",
              "    <tr style=\"text-align: right;\">\n",
              "      <th></th>\n",
              "      <th>purchase_value</th>\n",
              "      <th>age</th>\n",
              "      <th>elapse</th>\n",
              "      <th>cl_country</th>\n",
              "      <th>device</th>\n",
              "      <th>device_by_purchase</th>\n",
              "      <th>device_by_count</th>\n",
              "      <th>source_Ads</th>\n",
              "      <th>source_Direct</th>\n",
              "      <th>source_SEO</th>\n",
              "      <th>browser_Chrome</th>\n",
              "      <th>browser_FireFox</th>\n",
              "      <th>browser_IE</th>\n",
              "      <th>browser_Opera</th>\n",
              "      <th>browser_Safari</th>\n",
              "      <th>sex_F</th>\n",
              "      <th>sex_M</th>\n",
              "    </tr>\n",
              "  </thead>\n",
              "  <tbody>\n",
              "    <tr>\n",
              "      <th>0</th>\n",
              "      <td>34</td>\n",
              "      <td>39</td>\n",
              "      <td>13882</td>\n",
              "      <td>0.097865</td>\n",
              "      <td>False</td>\n",
              "      <td>34</td>\n",
              "      <td>1</td>\n",
              "      <td>0</td>\n",
              "      <td>0</td>\n",
              "      <td>1</td>\n",
              "      <td>1</td>\n",
              "      <td>0</td>\n",
              "      <td>0</td>\n",
              "      <td>0</td>\n",
              "      <td>0</td>\n",
              "      <td>0</td>\n",
              "      <td>1</td>\n",
              "    </tr>\n",
              "    <tr>\n",
              "      <th>1</th>\n",
              "      <td>16</td>\n",
              "      <td>53</td>\n",
              "      <td>17944</td>\n",
              "      <td>0.095626</td>\n",
              "      <td>False</td>\n",
              "      <td>16</td>\n",
              "      <td>1</td>\n",
              "      <td>1</td>\n",
              "      <td>0</td>\n",
              "      <td>0</td>\n",
              "      <td>1</td>\n",
              "      <td>0</td>\n",
              "      <td>0</td>\n",
              "      <td>0</td>\n",
              "      <td>0</td>\n",
              "      <td>1</td>\n",
              "      <td>0</td>\n",
              "    </tr>\n",
              "    <tr>\n",
              "      <th>2</th>\n",
              "      <td>15</td>\n",
              "      <td>53</td>\n",
              "      <td>1</td>\n",
              "      <td>0.095626</td>\n",
              "      <td>False</td>\n",
              "      <td>180</td>\n",
              "      <td>12</td>\n",
              "      <td>0</td>\n",
              "      <td>0</td>\n",
              "      <td>1</td>\n",
              "      <td>0</td>\n",
              "      <td>0</td>\n",
              "      <td>0</td>\n",
              "      <td>1</td>\n",
              "      <td>0</td>\n",
              "      <td>0</td>\n",
              "      <td>1</td>\n",
              "    </tr>\n",
              "    <tr>\n",
              "      <th>3</th>\n",
              "      <td>44</td>\n",
              "      <td>41</td>\n",
              "      <td>60085</td>\n",
              "      <td>0.085723</td>\n",
              "      <td>False</td>\n",
              "      <td>44</td>\n",
              "      <td>1</td>\n",
              "      <td>0</td>\n",
              "      <td>0</td>\n",
              "      <td>1</td>\n",
              "      <td>0</td>\n",
              "      <td>0</td>\n",
              "      <td>0</td>\n",
              "      <td>0</td>\n",
              "      <td>1</td>\n",
              "      <td>0</td>\n",
              "      <td>1</td>\n",
              "    </tr>\n",
              "    <tr>\n",
              "      <th>4</th>\n",
              "      <td>39</td>\n",
              "      <td>45</td>\n",
              "      <td>41461</td>\n",
              "      <td>0.095626</td>\n",
              "      <td>False</td>\n",
              "      <td>39</td>\n",
              "      <td>1</td>\n",
              "      <td>1</td>\n",
              "      <td>0</td>\n",
              "      <td>0</td>\n",
              "      <td>0</td>\n",
              "      <td>0</td>\n",
              "      <td>0</td>\n",
              "      <td>0</td>\n",
              "      <td>1</td>\n",
              "      <td>0</td>\n",
              "      <td>1</td>\n",
              "    </tr>\n",
              "  </tbody>\n",
              "</table>\n",
              "</div>"
            ],
            "text/plain": [
              "   purchase_value  age  elapse  cl_country  device  device_by_purchase  \\\n",
              "0              34   39   13882    0.097865   False                  34   \n",
              "1              16   53   17944    0.095626   False                  16   \n",
              "2              15   53       1    0.095626   False                 180   \n",
              "3              44   41   60085    0.085723   False                  44   \n",
              "4              39   45   41461    0.095626   False                  39   \n",
              "\n",
              "   device_by_count  source_Ads  source_Direct  source_SEO  browser_Chrome  \\\n",
              "0                1           0              0           1               1   \n",
              "1                1           1              0           0               1   \n",
              "2               12           0              0           1               0   \n",
              "3                1           0              0           1               0   \n",
              "4                1           1              0           0               0   \n",
              "\n",
              "   browser_FireFox  browser_IE  browser_Opera  browser_Safari  sex_F  sex_M  \n",
              "0                0           0              0               0      0      1  \n",
              "1                0           0              0               0      1      0  \n",
              "2                0           0              1               0      0      1  \n",
              "3                0           0              0               1      0      1  \n",
              "4                0           0              0               1      0      1  "
            ]
          },
          "metadata": {
            "tags": []
          },
          "execution_count": 119
        }
      ]
    },
    {
      "cell_type": "code",
      "metadata": {
        "id": "5J3xU71lThkZ",
        "colab_type": "code",
        "outputId": "b4103e90-86bd-4069-ff2e-66e27296fc90",
        "colab": {}
      },
      "source": [
        "rf_grid.best_estimator_.feature_importances_.round(3)"
      ],
      "execution_count": 0,
      "outputs": [
        {
          "output_type": "execute_result",
          "data": {
            "text/plain": [
              "array([0.002, 0.001, 0.162, 0.003, 0.259, 0.199, 0.371, 0.   , 0.002,\n",
              "       0.   , 0.   , 0.   , 0.   , 0.   , 0.   , 0.   , 0.   ])"
            ]
          },
          "metadata": {
            "tags": []
          },
          "execution_count": 120
        }
      ]
    },
    {
      "cell_type": "code",
      "metadata": {
        "id": "VaZy_UTrThkb",
        "colab_type": "code",
        "outputId": "70121fe7-025c-472a-f1e1-30784a48b49f",
        "colab": {}
      },
      "source": [
        "roc_plot(rf_grid.best_estimator_,X_test,y_test)"
      ],
      "execution_count": 0,
      "outputs": [
        {
          "output_type": "display_data",
          "data": {
            "image/png": "[encoded data removed]",
            "text/plain": [
              "<Figure size 432x288 with 1 Axes>"
            ]
          },
          "metadata": {
            "tags": [],
            "needs_background": "light"
          }
        }
      ]
    },
    {
      "cell_type": "code",
      "metadata": {
        "id": "UirOBZdbThkc",
        "colab_type": "code",
        "outputId": "f5161a59-72d2-4be0-a4b6-e06feb593bee",
        "colab": {}
      },
      "source": [
        "fraud.head()"
      ],
      "execution_count": 0,
      "outputs": [
        {
          "output_type": "execute_result",
          "data": {
            "text/html": [
              "<div>\n",
              "<style scoped>\n",
              "    .dataframe tbody tr th:only-of-type {\n",
              "        vertical-align: middle;\n",
              "    }\n",
              "\n",
              "    .dataframe tbody tr th {\n",
              "        vertical-align: top;\n",
              "    }\n",
              "\n",
              "    .dataframe thead th {\n",
              "        text-align: right;\n",
              "    }\n",
              "</style>\n",
              "<table border=\"1\" class=\"dataframe\">\n",
              "  <thead>\n",
              "    <tr style=\"text-align: right;\">\n",
              "      <th></th>\n",
              "      <th>user_id</th>\n",
              "      <th>signup_time</th>\n",
              "      <th>purchase_time</th>\n",
              "      <th>purchase_value</th>\n",
              "      <th>device_id</th>\n",
              "      <th>source</th>\n",
              "      <th>browser</th>\n",
              "      <th>sex</th>\n",
              "      <th>age</th>\n",
              "      <th>class</th>\n",
              "      <th>country</th>\n",
              "      <th>elapse</th>\n",
              "      <th>cl_country</th>\n",
              "    </tr>\n",
              "  </thead>\n",
              "  <tbody>\n",
              "    <tr>\n",
              "      <th>0</th>\n",
              "      <td>22058</td>\n",
              "      <td>2015-02-24 22:55:49</td>\n",
              "      <td>2015-04-18 02:47:11</td>\n",
              "      <td>34</td>\n",
              "      <td>QVPSPJUOCKZAR</td>\n",
              "      <td>SEO</td>\n",
              "      <td>Chrome</td>\n",
              "      <td>M</td>\n",
              "      <td>39</td>\n",
              "      <td>0</td>\n",
              "      <td>Japan</td>\n",
              "      <td>13882</td>\n",
              "      <td>0.097865</td>\n",
              "    </tr>\n",
              "    <tr>\n",
              "      <th>1</th>\n",
              "      <td>333320</td>\n",
              "      <td>2015-06-07 20:39:50</td>\n",
              "      <td>2015-06-08 01:38:54</td>\n",
              "      <td>16</td>\n",
              "      <td>EOGFQPIZPYXFZ</td>\n",
              "      <td>Ads</td>\n",
              "      <td>Chrome</td>\n",
              "      <td>F</td>\n",
              "      <td>53</td>\n",
              "      <td>0</td>\n",
              "      <td>United States</td>\n",
              "      <td>17944</td>\n",
              "      <td>0.095626</td>\n",
              "    </tr>\n",
              "    <tr>\n",
              "      <th>2</th>\n",
              "      <td>1359</td>\n",
              "      <td>2015-01-01 18:52:44</td>\n",
              "      <td>2015-01-01 18:52:45</td>\n",
              "      <td>15</td>\n",
              "      <td>YSSKYOSJHPPLJ</td>\n",
              "      <td>SEO</td>\n",
              "      <td>Opera</td>\n",
              "      <td>M</td>\n",
              "      <td>53</td>\n",
              "      <td>1</td>\n",
              "      <td>United States</td>\n",
              "      <td>1</td>\n",
              "      <td>0.095626</td>\n",
              "    </tr>\n",
              "    <tr>\n",
              "      <th>3</th>\n",
              "      <td>150084</td>\n",
              "      <td>2015-04-28 21:13:25</td>\n",
              "      <td>2015-05-04 13:54:50</td>\n",
              "      <td>44</td>\n",
              "      <td>ATGTXKYKUDUQN</td>\n",
              "      <td>SEO</td>\n",
              "      <td>Safari</td>\n",
              "      <td>M</td>\n",
              "      <td>41</td>\n",
              "      <td>0</td>\n",
              "      <td>unknown</td>\n",
              "      <td>60085</td>\n",
              "      <td>0.085723</td>\n",
              "    </tr>\n",
              "    <tr>\n",
              "      <th>4</th>\n",
              "      <td>221365</td>\n",
              "      <td>2015-07-21 07:09:52</td>\n",
              "      <td>2015-09-09 18:40:53</td>\n",
              "      <td>39</td>\n",
              "      <td>NAUITBZFJKHWW</td>\n",
              "      <td>Ads</td>\n",
              "      <td>Safari</td>\n",
              "      <td>M</td>\n",
              "      <td>45</td>\n",
              "      <td>0</td>\n",
              "      <td>United States</td>\n",
              "      <td>41461</td>\n",
              "      <td>0.095626</td>\n",
              "    </tr>\n",
              "  </tbody>\n",
              "</table>\n",
              "</div>"
            ],
            "text/plain": [
              "   user_id          signup_time        purchase_time  purchase_value  \\\n",
              "0    22058  2015-02-24 22:55:49  2015-04-18 02:47:11              34   \n",
              "1   333320  2015-06-07 20:39:50  2015-06-08 01:38:54              16   \n",
              "2     1359  2015-01-01 18:52:44  2015-01-01 18:52:45              15   \n",
              "3   150084  2015-04-28 21:13:25  2015-05-04 13:54:50              44   \n",
              "4   221365  2015-07-21 07:09:52  2015-09-09 18:40:53              39   \n",
              "\n",
              "       device_id source browser sex  age  class        country  elapse  \\\n",
              "0  QVPSPJUOCKZAR    SEO  Chrome   M   39      0          Japan   13882   \n",
              "1  EOGFQPIZPYXFZ    Ads  Chrome   F   53      0  United States   17944   \n",
              "2  YSSKYOSJHPPLJ    SEO   Opera   M   53      1  United States       1   \n",
              "3  ATGTXKYKUDUQN    SEO  Safari   M   41      0        unknown   60085   \n",
              "4  NAUITBZFJKHWW    Ads  Safari   M   45      0  United States   41461   \n",
              "\n",
              "   cl_country  \n",
              "0    0.097865  \n",
              "1    0.095626  \n",
              "2    0.095626  \n",
              "3    0.085723  \n",
              "4    0.095626  "
            ]
          },
          "metadata": {
            "tags": []
          },
          "execution_count": 122
        }
      ]
    },
    {
      "cell_type": "code",
      "metadata": {
        "id": "w0s_6CUzThke",
        "colab_type": "code",
        "colab": {}
      },
      "source": [
        "fraud.signup_time = pd.to_datetime(fraud.signup_time)\n",
        "fraud.purchase_time = pd.to_datetime(fraud.purchase_time)\n",
        "\n",
        "fraud_device['p_year'] = fraud.purchase_time.apply(lambda x: x.year)\n",
        "fraud_device['p_month'] = fraud.purchase_time.apply(lambda x: x.month)\n",
        "fraud_device['p_day'] = fraud.purchase_time.apply(lambda x: x.day)"
      ],
      "execution_count": 0,
      "outputs": []
    },
    {
      "cell_type": "code",
      "metadata": {
        "id": "JT7jJvfbThkf",
        "colab_type": "code",
        "outputId": "a0f2f119-4be2-4d6c-ded8-60465beac7d8",
        "colab": {}
      },
      "source": [
        "import calendar\n",
        "\n",
        "fraud_device['weekday'] = 0\n",
        "\n",
        "for i in range(len(fraud_device)):\n",
        "   fraud_device.weekday[i] = calendar.weekday(fraud_device.p_year[i], fraud_device.p_month[i], fraud_device.p_day[i])"
      ],
      "execution_count": 0,
      "outputs": [
        {
          "output_type": "stream",
          "text": [
            "C:\\ProgramData\\Anaconda3\\lib\\site-packages\\ipykernel_launcher.py:6: SettingWithCopyWarning: \n",
            "A value is trying to be set on a copy of a slice from a DataFrame\n",
            "\n",
            "See the caveats in the documentation: http://pandas.pydata.org/pandas-docs/stable/indexing.html#indexing-view-versus-copy\n",
            "  \n"
          ],
          "name": "stderr"
        }
      ]
    },
    {
      "cell_type": "code",
      "metadata": {
        "id": "jF3V5pv7Thkg",
        "colab_type": "code",
        "outputId": "f630221a-561e-449e-eca0-b43c0d6251d4",
        "colab": {}
      },
      "source": [
        "fraud_device.head()"
      ],
      "execution_count": 0,
      "outputs": [
        {
          "output_type": "execute_result",
          "data": {
            "text/html": [
              "<div>\n",
              "<style scoped>\n",
              "    .dataframe tbody tr th:only-of-type {\n",
              "        vertical-align: middle;\n",
              "    }\n",
              "\n",
              "    .dataframe tbody tr th {\n",
              "        vertical-align: top;\n",
              "    }\n",
              "\n",
              "    .dataframe thead th {\n",
              "        text-align: right;\n",
              "    }\n",
              "</style>\n",
              "<table border=\"1\" class=\"dataframe\">\n",
              "  <thead>\n",
              "    <tr style=\"text-align: right;\">\n",
              "      <th></th>\n",
              "      <th>purchase_value</th>\n",
              "      <th>age</th>\n",
              "      <th>class</th>\n",
              "      <th>elapse</th>\n",
              "      <th>cl_country</th>\n",
              "      <th>device</th>\n",
              "      <th>device_by_purchase</th>\n",
              "      <th>device_by_count</th>\n",
              "      <th>source_Ads</th>\n",
              "      <th>source_Direct</th>\n",
              "      <th>...</th>\n",
              "      <th>browser_Chrome</th>\n",
              "      <th>browser_FireFox</th>\n",
              "      <th>browser_IE</th>\n",
              "      <th>browser_Opera</th>\n",
              "      <th>browser_Safari</th>\n",
              "      <th>sex_F</th>\n",
              "      <th>sex_M</th>\n",
              "      <th>p_year</th>\n",
              "      <th>p_month</th>\n",
              "      <th>p_day</th>\n",
              "    </tr>\n",
              "  </thead>\n",
              "  <tbody>\n",
              "    <tr>\n",
              "      <th>0</th>\n",
              "      <td>34</td>\n",
              "      <td>39</td>\n",
              "      <td>0</td>\n",
              "      <td>13882</td>\n",
              "      <td>0.097865</td>\n",
              "      <td>False</td>\n",
              "      <td>34</td>\n",
              "      <td>1</td>\n",
              "      <td>0</td>\n",
              "      <td>0</td>\n",
              "      <td>...</td>\n",
              "      <td>1</td>\n",
              "      <td>0</td>\n",
              "      <td>0</td>\n",
              "      <td>0</td>\n",
              "      <td>0</td>\n",
              "      <td>0</td>\n",
              "      <td>1</td>\n",
              "      <td>2015</td>\n",
              "      <td>4</td>\n",
              "      <td>18</td>\n",
              "    </tr>\n",
              "    <tr>\n",
              "      <th>1</th>\n",
              "      <td>16</td>\n",
              "      <td>53</td>\n",
              "      <td>0</td>\n",
              "      <td>17944</td>\n",
              "      <td>0.095626</td>\n",
              "      <td>False</td>\n",
              "      <td>16</td>\n",
              "      <td>1</td>\n",
              "      <td>1</td>\n",
              "      <td>0</td>\n",
              "      <td>...</td>\n",
              "      <td>1</td>\n",
              "      <td>0</td>\n",
              "      <td>0</td>\n",
              "      <td>0</td>\n",
              "      <td>0</td>\n",
              "      <td>1</td>\n",
              "      <td>0</td>\n",
              "      <td>2015</td>\n",
              "      <td>6</td>\n",
              "      <td>8</td>\n",
              "    </tr>\n",
              "    <tr>\n",
              "      <th>2</th>\n",
              "      <td>15</td>\n",
              "      <td>53</td>\n",
              "      <td>1</td>\n",
              "      <td>1</td>\n",
              "      <td>0.095626</td>\n",
              "      <td>False</td>\n",
              "      <td>180</td>\n",
              "      <td>12</td>\n",
              "      <td>0</td>\n",
              "      <td>0</td>\n",
              "      <td>...</td>\n",
              "      <td>0</td>\n",
              "      <td>0</td>\n",
              "      <td>0</td>\n",
              "      <td>1</td>\n",
              "      <td>0</td>\n",
              "      <td>0</td>\n",
              "      <td>1</td>\n",
              "      <td>2015</td>\n",
              "      <td>1</td>\n",
              "      <td>1</td>\n",
              "    </tr>\n",
              "    <tr>\n",
              "      <th>3</th>\n",
              "      <td>44</td>\n",
              "      <td>41</td>\n",
              "      <td>0</td>\n",
              "      <td>60085</td>\n",
              "      <td>0.085723</td>\n",
              "      <td>False</td>\n",
              "      <td>44</td>\n",
              "      <td>1</td>\n",
              "      <td>0</td>\n",
              "      <td>0</td>\n",
              "      <td>...</td>\n",
              "      <td>0</td>\n",
              "      <td>0</td>\n",
              "      <td>0</td>\n",
              "      <td>0</td>\n",
              "      <td>1</td>\n",
              "      <td>0</td>\n",
              "      <td>1</td>\n",
              "      <td>2015</td>\n",
              "      <td>5</td>\n",
              "      <td>4</td>\n",
              "    </tr>\n",
              "    <tr>\n",
              "      <th>4</th>\n",
              "      <td>39</td>\n",
              "      <td>45</td>\n",
              "      <td>0</td>\n",
              "      <td>41461</td>\n",
              "      <td>0.095626</td>\n",
              "      <td>False</td>\n",
              "      <td>39</td>\n",
              "      <td>1</td>\n",
              "      <td>1</td>\n",
              "      <td>0</td>\n",
              "      <td>...</td>\n",
              "      <td>0</td>\n",
              "      <td>0</td>\n",
              "      <td>0</td>\n",
              "      <td>0</td>\n",
              "      <td>1</td>\n",
              "      <td>0</td>\n",
              "      <td>1</td>\n",
              "      <td>2015</td>\n",
              "      <td>9</td>\n",
              "      <td>9</td>\n",
              "    </tr>\n",
              "  </tbody>\n",
              "</table>\n",
              "<p>5 rows × 21 columns</p>\n",
              "</div>"
            ],
            "text/plain": [
              "   purchase_value  age  class  elapse  cl_country  device  device_by_purchase  \\\n",
              "0              34   39      0   13882    0.097865   False                  34   \n",
              "1              16   53      0   17944    0.095626   False                  16   \n",
              "2              15   53      1       1    0.095626   False                 180   \n",
              "3              44   41      0   60085    0.085723   False                  44   \n",
              "4              39   45      0   41461    0.095626   False                  39   \n",
              "\n",
              "   device_by_count  source_Ads  source_Direct  ...  browser_Chrome  \\\n",
              "0                1           0              0  ...               1   \n",
              "1                1           1              0  ...               1   \n",
              "2               12           0              0  ...               0   \n",
              "3                1           0              0  ...               0   \n",
              "4                1           1              0  ...               0   \n",
              "\n",
              "   browser_FireFox  browser_IE  browser_Opera  browser_Safari  sex_F  sex_M  \\\n",
              "0                0           0              0               0      0      1   \n",
              "1                0           0              0               0      1      0   \n",
              "2                0           0              1               0      0      1   \n",
              "3                0           0              0               1      0      1   \n",
              "4                0           0              0               1      0      1   \n",
              "\n",
              "   p_year  p_month  p_day  \n",
              "0    2015        4     18  \n",
              "1    2015        6      8  \n",
              "2    2015        1      1  \n",
              "3    2015        5      4  \n",
              "4    2015        9      9  \n",
              "\n",
              "[5 rows x 21 columns]"
            ]
          },
          "metadata": {
            "tags": []
          },
          "execution_count": 124
        }
      ]
    },
    {
      "cell_type": "code",
      "metadata": {
        "id": "RvKgcDS0Thkh",
        "colab_type": "code",
        "colab": {}
      },
      "source": [
        "X = fraud_device.drop(\"class\",axis =1)\n",
        "y = fraud_device[\"class\"]"
      ],
      "execution_count": 0,
      "outputs": []
    },
    {
      "cell_type": "code",
      "metadata": {
        "id": "rPy9Wwp-Thkh",
        "colab_type": "code",
        "colab": {}
      },
      "source": [
        "from sklearn.model_selection import train_test_split\n",
        "X_train, X_test, y_train, y_test = train_test_split(X,y,test_size = 0.3,stratify = y,random_state=42)\n",
        "\n",
        "from sklearn.preprocessing import StandardScaler\n",
        "sc = StandardScaler()\n",
        "\n",
        "X_train = sc.fit_transform(X_train)\n",
        "X_test = sc.transform(X_test)"
      ],
      "execution_count": 0,
      "outputs": []
    },
    {
      "cell_type": "code",
      "metadata": {
        "id": "6DO4sj-FThki",
        "colab_type": "code",
        "outputId": "fd63973d-4aef-4881-9891-7f90e1b7a3d8",
        "colab": {}
      },
      "source": [
        "parameters = {'n_estimators':[20,30,50,100], 'max_depth':[ 2,3,5]}\n",
        "rf_grid = GridSearchCV(rf, parameters, cv=5)\n",
        "rf_grid.fit(X_train, y_train)\n"
      ],
      "execution_count": 0,
      "outputs": [
        {
          "output_type": "execute_result",
          "data": {
            "text/plain": [
              "GridSearchCV(cv=5, error_score='raise-deprecating',\n",
              "             estimator=RandomForestClassifier(bootstrap=True,\n",
              "                                              class_weight='balanced',\n",
              "                                              criterion='gini', max_depth=4,\n",
              "                                              max_features='auto',\n",
              "                                              max_leaf_nodes=None,\n",
              "                                              min_impurity_decrease=0.0,\n",
              "                                              min_impurity_split=None,\n",
              "                                              min_samples_leaf=1,\n",
              "                                              min_samples_split=2,\n",
              "                                              min_weight_fraction_leaf=0.0,\n",
              "                                              n_estimators=200, n_jobs=None,\n",
              "                                              oob_score=False, random_state=0,\n",
              "                                              verbose=0, warm_start=False),\n",
              "             iid='warn', n_jobs=None,\n",
              "             param_grid={'max_depth': [2, 3, 5],\n",
              "                         'n_estimators': [20, 30, 50, 100]},\n",
              "             pre_dispatch='2*n_jobs', refit=True, return_train_score=False,\n",
              "             scoring=None, verbose=0)"
            ]
          },
          "metadata": {
            "tags": []
          },
          "execution_count": 144
        }
      ]
    },
    {
      "cell_type": "code",
      "metadata": {
        "id": "AsvfG1l7Thkj",
        "colab_type": "code",
        "outputId": "5066335c-91aa-4857-ad79-a6900714ce1b",
        "colab": {}
      },
      "source": [
        "rf_grid.best_estimator_.score(X_test,y_test)"
      ],
      "execution_count": 0,
      "outputs": [
        {
          "output_type": "execute_result",
          "data": {
            "text/plain": [
              "0.9136630343671417"
            ]
          },
          "metadata": {
            "tags": []
          },
          "execution_count": 145
        }
      ]
    },
    {
      "cell_type": "code",
      "metadata": {
        "id": "SQyxEI2QThkm",
        "colab_type": "code",
        "outputId": "adb3f453-7e4c-483b-aa76-08a80c30c222",
        "colab": {}
      },
      "source": [
        "rf_grid.best_params_"
      ],
      "execution_count": 0,
      "outputs": [
        {
          "output_type": "execute_result",
          "data": {
            "text/plain": [
              "{'max_depth': 5, 'n_estimators': 20}"
            ]
          },
          "metadata": {
            "tags": []
          },
          "execution_count": 146
        }
      ]
    },
    {
      "cell_type": "code",
      "metadata": {
        "id": "2i1hbeyyThkn",
        "colab_type": "code",
        "outputId": "b0e3fe77-5ee1-4f1b-a987-b7d2fa0021f6",
        "colab": {}
      },
      "source": [
        "roc_plot(rf_grid.best_estimator_,X_test,y_test)"
      ],
      "execution_count": 0,
      "outputs": [
        {
          "output_type": "display_data",
          "data": {
            "image/png": "[encoded data removed]",
            "text/plain": [
              "<Figure size 432x288 with 1 Axes>"
            ]
          },
          "metadata": {
            "tags": [],
            "needs_background": "light"
          }
        }
      ]
    },
    {
      "cell_type": "code",
      "metadata": {
        "id": "afaJI0XsThkn",
        "colab_type": "code",
        "colab": {}
      },
      "source": [
        ""
      ],
      "execution_count": 0,
      "outputs": []
    },
    {
      "cell_type": "code",
      "metadata": {
        "id": "mFhGL1kYThko",
        "colab_type": "code",
        "colab": {}
      },
      "source": [
        ""
      ],
      "execution_count": 0,
      "outputs": []
    },
    {
      "cell_type": "code",
      "metadata": {
        "id": "5azzgoAsThkp",
        "colab_type": "code",
        "colab": {}
      },
      "source": [
        "#ADABOOST"
      ],
      "execution_count": 0,
      "outputs": []
    },
    {
      "cell_type": "code",
      "metadata": {
        "id": "iBiajK4zThkp",
        "colab_type": "code",
        "outputId": "87b95ccf-e845-4784-b36f-8e8d2366e042",
        "colab": {}
      },
      "source": [
        "from sklearn.ensemble import AdaBoostClassifier\n",
        "adaboost = AdaBoostClassifier( random_state=42)\n",
        "\n",
        "parameters = {'n_estimators':[20,50,100,200]}\n",
        "ada_grid = GridSearchCV(adaboost, parameters, cv=5)\n",
        "ada_grid.fit(X_train, y_train)\n"
      ],
      "execution_count": 0,
      "outputs": [
        {
          "output_type": "execute_result",
          "data": {
            "text/plain": [
              "GridSearchCV(cv=5, error_score='raise-deprecating',\n",
              "             estimator=AdaBoostClassifier(algorithm='SAMME.R',\n",
              "                                          base_estimator=None,\n",
              "                                          learning_rate=1.0, n_estimators=50,\n",
              "                                          random_state=42),\n",
              "             iid='warn', n_jobs=None,\n",
              "             param_grid={'n_estimators': [20, 50, 100, 200]},\n",
              "             pre_dispatch='2*n_jobs', refit=True, return_train_score=False,\n",
              "             scoring=None, verbose=0)"
            ]
          },
          "metadata": {
            "tags": []
          },
          "execution_count": 148
        }
      ]
    },
    {
      "cell_type": "code",
      "metadata": {
        "id": "jvnB2FyeThkq",
        "colab_type": "code",
        "outputId": "8f63618a-1d0c-4dda-863a-1491ffddeaf4",
        "colab": {}
      },
      "source": [
        "ada_grid.best_estimator_.score(X_test,y_test)"
      ],
      "execution_count": 0,
      "outputs": [
        {
          "output_type": "execute_result",
          "data": {
            "text/plain": [
              "0.9562800547050778"
            ]
          },
          "metadata": {
            "tags": []
          },
          "execution_count": 149
        }
      ]
    },
    {
      "cell_type": "code",
      "metadata": {
        "id": "fWK8lB0ZThkr",
        "colab_type": "code",
        "outputId": "a7d1c091-f33f-4be1-d645-e898a6003786",
        "colab": {}
      },
      "source": [
        "roc_plot(ada_grid.best_estimator_,X_test,y_test)"
      ],
      "execution_count": 0,
      "outputs": [
        {
          "output_type": "display_data",
          "data": {
            "image/png": "[encoded data removed]",
            "text/plain": [
              "<Figure size 432x288 with 1 Axes>"
            ]
          },
          "metadata": {
            "tags": [],
            "needs_background": "light"
          }
        }
      ]
    },
    {
      "cell_type": "code",
      "metadata": {
        "id": "IFSjBr3xThks",
        "colab_type": "code",
        "colab": {}
      },
      "source": [
        "#XGBOOST"
      ],
      "execution_count": 0,
      "outputs": []
    },
    {
      "cell_type": "code",
      "metadata": {
        "id": "FALSzp8pThks",
        "colab_type": "code",
        "colab": {}
      },
      "source": [
        "xgb_model"
      ],
      "execution_count": 0,
      "outputs": []
    },
    {
      "cell_type": "code",
      "metadata": {
        "id": "MEnARDA3Thkt",
        "colab_type": "code",
        "outputId": "11bec58a-d65b-460b-decc-1c326658ce2e",
        "colab": {}
      },
      "source": [
        "parameters = {'n_estimators':[20,50,100,200]}\n",
        "xgb_grid = GridSearchCV(xgb_model, parameters, cv=5)\n",
        "xgb_grid.fit(X_train, y_train)\n"
      ],
      "execution_count": 0,
      "outputs": [
        {
          "output_type": "execute_result",
          "data": {
            "text/plain": [
              "GridSearchCV(cv=5, error_score='raise-deprecating',\n",
              "             estimator=XGBClassifier(base_score=0.5, booster='gbtree',\n",
              "                                     colsample_bylevel=1, colsample_bynode=1,\n",
              "                                     colsample_bytree=0.8, gamma=0,\n",
              "                                     learning_rate=0.1, max_delta_step=0,\n",
              "                                     max_depth=3, min_child_weight=1,\n",
              "                                     missing=None, n_estimators=500, n_jobs=1,\n",
              "                                     nthread=4, objective='binary:logistic',\n",
              "                                     random_state=42, reg_alpha=0, reg_lambda=1,\n",
              "                                     scale_pos_weight=1, seed=None, silent=None,\n",
              "                                     subsample=0.8, verbosity=1,\n",
              "                                     weight='balanced'),\n",
              "             iid='warn', n_jobs=None,\n",
              "             param_grid={'n_estimators': [20, 50, 100, 200]},\n",
              "             pre_dispatch='2*n_jobs', refit=True, return_train_score=False,\n",
              "             scoring=None, verbose=0)"
            ]
          },
          "metadata": {
            "tags": []
          },
          "execution_count": 151
        }
      ]
    },
    {
      "cell_type": "code",
      "metadata": {
        "id": "Qepv-9XvThku",
        "colab_type": "code",
        "outputId": "58fd27c7-2eeb-4a00-91ca-5ca02a3fbff9",
        "colab": {}
      },
      "source": [
        "xgb_grid.best_estimator_.score(X_test,y_test)"
      ],
      "execution_count": 0,
      "outputs": [
        {
          "output_type": "execute_result",
          "data": {
            "text/plain": [
              "0.9562800547050778"
            ]
          },
          "metadata": {
            "tags": []
          },
          "execution_count": 154
        }
      ]
    },
    {
      "cell_type": "code",
      "metadata": {
        "id": "qFyp-007Thkv",
        "colab_type": "code",
        "outputId": "8584330a-5259-4f4f-b4d4-79479a0b88c0",
        "colab": {}
      },
      "source": [
        "roc_plot(xgb_grid.best_estimator_,X_test,y_test)"
      ],
      "execution_count": 0,
      "outputs": [
        {
          "output_type": "display_data",
          "data": {
            "image/png": "[encoded data removed]",
            "text/plain": [
              "<Figure size 432x288 with 1 Axes>"
            ]
          },
          "metadata": {
            "tags": [],
            "needs_background": "light"
          }
        }
      ]
    },
    {
      "cell_type": "code",
      "metadata": {
        "id": "5WkNrj4IThkv",
        "colab_type": "code",
        "colab": {}
      },
      "source": [
        ""
      ],
      "execution_count": 0,
      "outputs": []
    },
    {
      "cell_type": "code",
      "metadata": {
        "id": "zecjrIeLThkw",
        "colab_type": "code",
        "colab": {}
      },
      "source": [
        "from mlxtend.classifier import StackingClassifier"
      ],
      "execution_count": 0,
      "outputs": []
    },
    {
      "cell_type": "code",
      "metadata": {
        "id": "TLRYs4uUThkx",
        "colab_type": "code",
        "colab": {}
      },
      "source": [
        "sclf = StackingClassifier(classifiers=[rf_grid.best_estimator_, ada_grid.best_estimator_, xgb_grid.best_estimator_], \n",
        "                          meta_classifier=rf_grid.best_estimator_)\n",
        "\n"
      ],
      "execution_count": 0,
      "outputs": []
    },
    {
      "cell_type": "code",
      "metadata": {
        "id": "kazIYU6-Thky",
        "colab_type": "code",
        "outputId": "6a5b23d3-888c-4441-c975-a57d56d47acc",
        "colab": {}
      },
      "source": [
        "sclf.fit(X_train,y_train)"
      ],
      "execution_count": 0,
      "outputs": [
        {
          "output_type": "execute_result",
          "data": {
            "text/plain": [
              "StackingClassifier(average_probas=False,\n",
              "                   classifiers=[RandomForestClassifier(bootstrap=True,\n",
              "                                                       class_weight='balanced',\n",
              "                                                       criterion='gini',\n",
              "                                                       max_depth=5,\n",
              "                                                       max_features='auto',\n",
              "                                                       max_leaf_nodes=None,\n",
              "                                                       min_impurity_decrease=0.0,\n",
              "                                                       min_impurity_split=None,\n",
              "                                                       min_samples_leaf=1,\n",
              "                                                       min_samples_split=2,\n",
              "                                                       min_weight_fraction_leaf=0.0,\n",
              "                                                       n_estimators=20,\n",
              "                                                       n_jobs=None,\n",
              "                                                       oob_score=False,\n",
              "                                                       rand...\n",
              "                                                          max_features='auto',\n",
              "                                                          max_leaf_nodes=None,\n",
              "                                                          min_impurity_decrease=0.0,\n",
              "                                                          min_impurity_split=None,\n",
              "                                                          min_samples_leaf=1,\n",
              "                                                          min_samples_split=2,\n",
              "                                                          min_weight_fraction_leaf=0.0,\n",
              "                                                          n_estimators=20,\n",
              "                                                          n_jobs=None,\n",
              "                                                          oob_score=False,\n",
              "                                                          random_state=0,\n",
              "                                                          verbose=0,\n",
              "                                                          warm_start=False),\n",
              "                   store_train_meta_features=False, use_clones=True,\n",
              "                   use_features_in_secondary=False, use_probas=False,\n",
              "                   verbose=0)"
            ]
          },
          "metadata": {
            "tags": []
          },
          "execution_count": 158
        }
      ]
    },
    {
      "cell_type": "code",
      "metadata": {
        "id": "UqnAyLwTThkz",
        "colab_type": "code",
        "outputId": "1159816c-4de7-421e-e527-0c35d0de7b3a",
        "colab": {}
      },
      "source": [
        "roc_plot(sclf,X_test,y_test)"
      ],
      "execution_count": 0,
      "outputs": [
        {
          "output_type": "display_data",
          "data": {
            "image/png": "[encoded data removed]",
            "text/plain": [
              "<Figure size 432x288 with 1 Axes>"
            ]
          },
          "metadata": {
            "tags": [],
            "needs_background": "light"
          }
        }
      ]
    },
    {
      "cell_type": "code",
      "metadata": {
        "id": "BbWg3UnYThk0",
        "colab_type": "code",
        "outputId": "89ef9ae5-7a26-4230-b853-4fbd114db622",
        "colab": {}
      },
      "source": [
        "sclf.score(X_test,y_test)"
      ],
      "execution_count": 0,
      "outputs": [
        {
          "output_type": "execute_result",
          "data": {
            "text/plain": [
              "0.9136630343671417"
            ]
          },
          "metadata": {
            "tags": []
          },
          "execution_count": 160
        }
      ]
    },
    {
      "cell_type": "code",
      "metadata": {
        "id": "Aee6d97gThk1",
        "colab_type": "code",
        "colab": {}
      },
      "source": [
        ""
      ],
      "execution_count": 0,
      "outputs": []
    },
    {
      "cell_type": "code",
      "metadata": {
        "id": "Akq9df8qThk2",
        "colab_type": "code",
        "colab": {}
      },
      "source": [
        ""
      ],
      "execution_count": 0,
      "outputs": []
    },
    {
      "cell_type": "code",
      "metadata": {
        "id": "JXnrakcyThk2",
        "colab_type": "code",
        "colab": {}
      },
      "source": [
        ""
      ],
      "execution_count": 0,
      "outputs": []
    },
    {
      "cell_type": "code",
      "metadata": {
        "id": "jUvzzLcEThk3",
        "colab_type": "code",
        "colab": {}
      },
      "source": [
        ""
      ],
      "execution_count": 0,
      "outputs": []
    },
    {
      "cell_type": "code",
      "metadata": {
        "id": "IlEX53TDThk3",
        "colab_type": "code",
        "colab": {}
      },
      "source": [
        "X_train['pu_age'] = X_train.purchase_value * X_train.age\n",
        "X_train['pu_elaspe'] = X_train.purchase_value * X_train.elapse\n",
        "X_train['pu_clcountry'] = X_train.purchase_value * X_train.cl_country\n",
        "X_train['elaspe_country'] = X_train.cl_country * X_train.elapse\n",
        "X_train['age_clcountry'] = X_train.age * X_train.cl_country\n",
        "\n",
        "X_test['pu_age'] = X_test.purchase_value * X_test.age\n",
        "X_test['pu_elaspe'] = X_test.purchase_value * X_test.elapse\n",
        "X_test['pu_clcountry'] = X_test.purchase_value * X_test.cl_country\n",
        "X_test['elaspe_country'] = X_test.cl_country * X_test.elapse\n",
        "X_test['age_clcountry'] = X_test.age * X_test.cl_country\n"
      ],
      "execution_count": 0,
      "outputs": []
    }
  ]
}